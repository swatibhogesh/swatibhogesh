{
  "nbformat": 4,
  "nbformat_minor": 0,
  "metadata": {
    "colab": {
      "provenance": [],
      "authorship_tag": "ABX9TyMW4tpTcRSLrI5pshCPNSUU",
      "include_colab_link": true
    },
    "kernelspec": {
      "name": "python3",
      "display_name": "Python 3"
    },
    "language_info": {
      "name": "python"
    }
  },
  "cells": [
    {
      "cell_type": "markdown",
      "metadata": {
        "id": "view-in-github",
        "colab_type": "text"
      },
      "source": [
        "<a href=\"https://colab.research.google.com/github/swatibhogesh/swatibhogesh/blob/main/lambda.ipynb\" target=\"_parent\"><img src=\"https://colab.research.google.com/assets/colab-badge.svg\" alt=\"Open In Colab\"/></a>"
      ]
    },
    {
      "cell_type": "code",
      "execution_count": 5,
      "metadata": {
        "id": "B3PH0mqITv5U"
      },
      "outputs": [],
      "source": [
        "#lambda arguments:expression\n",
        "#lambda programs are syntactically restricted to single\n",
        "\n",
        "triple= lambda x:x*3"
      ]
    },
    {
      "cell_type": "code",
      "source": [
        "print(triple(3))"
      ],
      "metadata": {
        "colab": {
          "base_uri": "https://localhost:8080/"
        },
        "id": "Okr7EMbJhXMq",
        "outputId": "8ecf2643-076b-4aee-fc0a-6eba1abd5a75"
      },
      "execution_count": 2,
      "outputs": [
        {
          "output_type": "stream",
          "name": "stdout",
          "text": [
            "9\n"
          ]
        }
      ]
    },
    {
      "cell_type": "code",
      "source": [
        "s = lambda a,b :a+b\n",
        "\n",
        "r=s(10,20)"
      ],
      "metadata": {
        "id": "Wbk_D7PZhrvH"
      },
      "execution_count": 3,
      "outputs": []
    },
    {
      "cell_type": "code",
      "source": [
        "print(r)"
      ],
      "metadata": {
        "colab": {
          "base_uri": "https://localhost:8080/"
        },
        "id": "df3DzbIQh7t9",
        "outputId": "96ced010-f078-4e8d-fe4b-8f9f04fb45d2"
      },
      "execution_count": 4,
      "outputs": [
        {
          "output_type": "stream",
          "name": "stdout",
          "text": [
            "30\n"
          ]
        }
      ]
    },
    {
      "cell_type": "code",
      "source": [
        "l1= [1,5,4,6,8,11,3,12]\n",
        "\n",
        "new_list =list(filter(lambda x:(x%2==0), l1))"
      ],
      "metadata": {
        "id": "KI8veM7DiVOI"
      },
      "execution_count": 15,
      "outputs": []
    },
    {
      "cell_type": "code",
      "source": [
        "new_list"
      ],
      "metadata": {
        "colab": {
          "base_uri": "https://localhost:8080/"
        },
        "id": "dIflGXAGjQxY",
        "outputId": "2e57197c-0f58-423a-e1fa-93b475fbc703"
      },
      "execution_count": 16,
      "outputs": [
        {
          "output_type": "execute_result",
          "data": {
            "text/plain": [
              "[4, 6, 8, 12]"
            ]
          },
          "metadata": {},
          "execution_count": 16
        }
      ]
    },
    {
      "cell_type": "code",
      "source": [
        "new_list2 = list(map(lambda x:x*2,l1))"
      ],
      "metadata": {
        "id": "hbewosZBkFSp"
      },
      "execution_count": 17,
      "outputs": []
    },
    {
      "cell_type": "code",
      "source": [
        "new_list2"
      ],
      "metadata": {
        "colab": {
          "base_uri": "https://localhost:8080/"
        },
        "id": "TVUVst38kPba",
        "outputId": "6cb24eba-77d9-4e64-9709-b2b266ca3632"
      },
      "execution_count": 18,
      "outputs": [
        {
          "output_type": "execute_result",
          "data": {
            "text/plain": [
              "[2, 10, 8, 12, 16, 22, 6, 24]"
            ]
          },
          "metadata": {},
          "execution_count": 18
        }
      ]
    }
  ]
}