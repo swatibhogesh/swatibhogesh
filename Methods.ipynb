{
  "nbformat": 4,
  "nbformat_minor": 0,
  "metadata": {
    "colab": {
      "provenance": [],
      "authorship_tag": "ABX9TyOaFarKXMfhvv/aC49eXuw+",
      "include_colab_link": true
    },
    "kernelspec": {
      "name": "python3",
      "display_name": "Python 3"
    },
    "language_info": {
      "name": "python"
    }
  },
  "cells": [
    {
      "cell_type": "markdown",
      "metadata": {
        "id": "view-in-github",
        "colab_type": "text"
      },
      "source": [
        "<a href=\"https://colab.research.google.com/github/swatibhogesh/swatibhogesh/blob/main/Methods.ipynb\" target=\"_parent\"><img src=\"https://colab.research.google.com/assets/colab-badge.svg\" alt=\"Open In Colab\"/></a>"
      ]
    },
    {
      "cell_type": "markdown",
      "source": [
        "LIST METHODS"
      ],
      "metadata": {
        "id": "dxFqQiMSu9Th"
      }
    },
    {
      "cell_type": "code",
      "execution_count": 2,
      "metadata": {
        "colab": {
          "base_uri": "https://localhost:8080/"
        },
        "id": "6JgQl5a-u6S1",
        "outputId": "168246e9-9b5c-4315-f089-7b3abc6a2b95"
      },
      "outputs": [
        {
          "output_type": "stream",
          "name": "stdout",
          "text": [
            "['apple', 'banana', 'cherry']\n"
          ]
        }
      ],
      "source": [
        "#To make a list\n",
        "fruits = [\"apple\", \"banana\", \"cherry\"]\n",
        "print(fruits)"
      ]
    },
    {
      "cell_type": "markdown",
      "source": [
        "Append() Method"
      ],
      "metadata": {
        "id": "Qgg7JrdMvQY6"
      }
    },
    {
      "cell_type": "code",
      "source": [
        "fruits = ['apple', 'banana', 'cherry']\n",
        "fruits.append(\"orange\")"
      ],
      "metadata": {
        "id": "U1SezZnfvSaF"
      },
      "execution_count": 3,
      "outputs": []
    },
    {
      "cell_type": "code",
      "source": [
        "print(fruits)\n",
        "#The append() method appends an element to the end of the list."
      ],
      "metadata": {
        "colab": {
          "base_uri": "https://localhost:8080/"
        },
        "id": "NBGmPDNSvg1U",
        "outputId": "6c727a54-a1a9-46e4-d743-d0d41764d8c9"
      },
      "execution_count": 5,
      "outputs": [
        {
          "output_type": "stream",
          "name": "stdout",
          "text": [
            "['apple', 'banana', 'cherry', 'orange']\n"
          ]
        }
      ]
    },
    {
      "cell_type": "code",
      "source": [
        "#To add a list to a list\n",
        "a = [\"apple\", \"banana\", \"cherry\"]\n",
        "b = [\"Ford\", \"BMW\", \"Volvo\"]\n",
        "a.append(b)\n",
        "print(a)"
      ],
      "metadata": {
        "colab": {
          "base_uri": "https://localhost:8080/"
        },
        "id": "pkxZPSh6vuYp",
        "outputId": "12749047-b0aa-4e39-8b20-01d991f26a61"
      },
      "execution_count": 11,
      "outputs": [
        {
          "output_type": "stream",
          "name": "stdout",
          "text": [
            "['apple', 'banana', 'cherry', ['Ford', 'BMW', 'Volvo']]\n"
          ]
        }
      ]
    },
    {
      "cell_type": "markdown",
      "source": [
        "clear() Method"
      ],
      "metadata": {
        "id": "qujOGNNtwPw5"
      }
    },
    {
      "cell_type": "code",
      "source": [
        "#Remove all elements from the fruits list:\n",
        "fruits = ['apple', 'banana', 'cherry', 'orange']\n",
        "fruits.clear()\n",
        "print(fruits)"
      ],
      "metadata": {
        "colab": {
          "base_uri": "https://localhost:8080/"
        },
        "id": "wKf0Mz5dwTkP",
        "outputId": "849996a6-802a-424d-b33f-814f647af142"
      },
      "execution_count": 13,
      "outputs": [
        {
          "output_type": "stream",
          "name": "stdout",
          "text": [
            "[]\n"
          ]
        }
      ]
    },
    {
      "cell_type": "code",
      "source": [
        "print(fruits)"
      ],
      "metadata": {
        "colab": {
          "base_uri": "https://localhost:8080/"
        },
        "id": "TYpmeE4Gwla_",
        "outputId": "2107c126-f050-43c8-d92b-c0b069b8d44f"
      },
      "execution_count": 15,
      "outputs": [
        {
          "output_type": "stream",
          "name": "stdout",
          "text": [
            "[]\n"
          ]
        }
      ]
    },
    {
      "cell_type": "code",
      "source": [
        "fruits = [\"apple\", \"banana\", \"cherry\"]\n",
        "print(fruits)"
      ],
      "metadata": {
        "colab": {
          "base_uri": "https://localhost:8080/"
        },
        "id": "fN41RYFOwqvg",
        "outputId": "cd4ddaf8-b25d-42fa-de54-fe0b40928cca"
      },
      "execution_count": 16,
      "outputs": [
        {
          "output_type": "stream",
          "name": "stdout",
          "text": [
            "['apple', 'banana', 'cherry']\n"
          ]
        }
      ]
    },
    {
      "cell_type": "markdown",
      "source": [
        "copy()method"
      ],
      "metadata": {
        "id": "YCy7fwmIw2MD"
      }
    },
    {
      "cell_type": "code",
      "source": [
        "#Copy the fruits list:\n",
        "fruits = ['apple', 'banana', 'cherry', 'orange']\n",
        "x = fruits.copy()"
      ],
      "metadata": {
        "id": "GZIOUpcWwxe-"
      },
      "execution_count": 17,
      "outputs": []
    },
    {
      "cell_type": "code",
      "source": [
        "print(fruits)"
      ],
      "metadata": {
        "colab": {
          "base_uri": "https://localhost:8080/"
        },
        "id": "iHW_PaMdxC0K",
        "outputId": "a88f23fc-bea6-4f4d-85b0-c5a912baf054"
      },
      "execution_count": 18,
      "outputs": [
        {
          "output_type": "stream",
          "name": "stdout",
          "text": [
            "['apple', 'banana', 'cherry', 'orange']\n"
          ]
        }
      ]
    },
    {
      "cell_type": "markdown",
      "source": [
        "copy() method"
      ],
      "metadata": {
        "id": "pCRu7AFcxLxH"
      }
    },
    {
      "cell_type": "code",
      "source": [
        "fruits = [\"apple\", \"banana\", \"cherry\",\"pomegranate\",\"cherry\"]\n",
        "print(fruits)"
      ],
      "metadata": {
        "colab": {
          "base_uri": "https://localhost:8080/"
        },
        "id": "-GDv3szyxN36",
        "outputId": "c51cd72e-9911-4d8b-bb29-393417d704a1"
      },
      "execution_count": 22,
      "outputs": [
        {
          "output_type": "stream",
          "name": "stdout",
          "text": [
            "['apple', 'banana', 'cherry', 'pomegranate', 'cherry']\n"
          ]
        }
      ]
    },
    {
      "cell_type": "code",
      "source": [
        "#Return the number of times the value \"cherry\" appears in the fruits list:\n",
        "\n",
        "x = fruits.count(\"cherry\")\n"
      ],
      "metadata": {
        "id": "k8-onNHUxWV7"
      },
      "execution_count": 23,
      "outputs": []
    },
    {
      "cell_type": "code",
      "source": [
        "print(x)"
      ],
      "metadata": {
        "colab": {
          "base_uri": "https://localhost:8080/"
        },
        "id": "mx6dgQq_xd6X",
        "outputId": "daaa3359-601b-4ded-d43c-057119e4ac10"
      },
      "execution_count": 24,
      "outputs": [
        {
          "output_type": "stream",
          "name": "stdout",
          "text": [
            "2\n"
          ]
        }
      ]
    },
    {
      "cell_type": "markdown",
      "source": [
        "extend() method"
      ],
      "metadata": {
        "id": "4_d5G1ekxl92"
      }
    },
    {
      "cell_type": "code",
      "source": [
        "#Add the elements of cars to the fruits list:\n",
        "\n",
        "fruits = ['apple', 'banana', 'cherry']\n",
        "\n",
        "cars = ['Ford', 'BMW', 'Volvo']\n",
        "\n",
        "fruits.extend(cars)"
      ],
      "metadata": {
        "id": "XKOYk3z1xtLN"
      },
      "execution_count": 25,
      "outputs": []
    },
    {
      "cell_type": "code",
      "source": [
        "print(fruits)"
      ],
      "metadata": {
        "colab": {
          "base_uri": "https://localhost:8080/"
        },
        "id": "9VmFoAvvxzXi",
        "outputId": "9a9cbaaf-3262-4cb1-f3a2-6a43048e279b"
      },
      "execution_count": 26,
      "outputs": [
        {
          "output_type": "stream",
          "name": "stdout",
          "text": [
            "['apple', 'banana', 'cherry', 'Ford', 'BMW', 'Volvo']\n"
          ]
        }
      ]
    },
    {
      "cell_type": "code",
      "source": [
        "#Add a tuple to the fruits list:\n",
        "\n",
        "fruits = ['apple', 'banana', 'cherry']\n",
        "\n",
        "points = (1, 4, 5, 9)\n",
        "\n",
        "fruits.extend(points)"
      ],
      "metadata": {
        "id": "YfVQZ-rJx7mW"
      },
      "execution_count": 27,
      "outputs": []
    },
    {
      "cell_type": "code",
      "source": [
        "print(fruits)"
      ],
      "metadata": {
        "colab": {
          "base_uri": "https://localhost:8080/"
        },
        "id": "-1BK_FFxx-Ol",
        "outputId": "d5ae6482-f026-46e5-98fc-ff69ce1d55dc"
      },
      "execution_count": 28,
      "outputs": [
        {
          "output_type": "stream",
          "name": "stdout",
          "text": [
            "['apple', 'banana', 'cherry', 1, 4, 5, 9]\n"
          ]
        }
      ]
    },
    {
      "cell_type": "markdown",
      "source": [
        "index() method"
      ],
      "metadata": {
        "id": "g8GQS8uQyTIj"
      }
    },
    {
      "cell_type": "code",
      "source": [
        "#to find the position of the value \"cherry\":\n",
        "\n",
        "fruits = ['apple', 'banana', 'cherry']\n",
        "x = fruits.index(\"cherry\")\n",
        "x\n",
        "#The index() method returns the position at the first occurrence of the specified value."
      ],
      "metadata": {
        "colab": {
          "base_uri": "https://localhost:8080/"
        },
        "id": "N7oKxFYayU5u",
        "outputId": "72017a20-1723-4c7a-dd5b-33f6f9cac649"
      },
      "execution_count": 31,
      "outputs": [
        {
          "output_type": "execute_result",
          "data": {
            "text/plain": [
              "2"
            ]
          },
          "metadata": {},
          "execution_count": 31
        }
      ]
    },
    {
      "cell_type": "code",
      "source": [
        "#To find the position of the value 32:\n",
        "\n",
        "fruits = [4, 55, 64, 32, 16, 32]\n",
        "x = fruits.index(32)\n",
        "x"
      ],
      "metadata": {
        "colab": {
          "base_uri": "https://localhost:8080/"
        },
        "id": "eEb-V7YKyrAa",
        "outputId": "cd611a52-f466-4f89-9a1d-5b82b0895855"
      },
      "execution_count": 32,
      "outputs": [
        {
          "output_type": "execute_result",
          "data": {
            "text/plain": [
              "3"
            ]
          },
          "metadata": {},
          "execution_count": 32
        }
      ]
    },
    {
      "cell_type": "markdown",
      "source": [
        "insert() method"
      ],
      "metadata": {
        "id": "X1g4F6lDy-gw"
      }
    },
    {
      "cell_type": "code",
      "source": [
        "#To insert the value \"orange\" as the second element of the fruit list:\n",
        "fruits = ['apple', 'banana', 'cherry']\n",
        "fruits.insert(1, \"orange\")\n",
        "fruits"
      ],
      "metadata": {
        "colab": {
          "base_uri": "https://localhost:8080/"
        },
        "id": "Z0p2RXBKzAyG",
        "outputId": "e3e61e0a-5e62-46e5-d41d-fac0802fa2e4"
      },
      "execution_count": 33,
      "outputs": [
        {
          "output_type": "execute_result",
          "data": {
            "text/plain": [
              "['apple', 'orange', 'banana', 'cherry']"
            ]
          },
          "metadata": {},
          "execution_count": 33
        }
      ]
    },
    {
      "cell_type": "markdown",
      "source": [
        "pop() method"
      ],
      "metadata": {
        "id": "TndfywtPzSw1"
      }
    },
    {
      "cell_type": "code",
      "source": [
        "# To remove the second element of the fruit list:\n",
        "\n",
        "fruits = ['apple', 'banana', 'cherry']\n",
        "fruits.pop(1)\n",
        "fruits\n",
        "\n",
        "#The pop() method removes the element at the specified position."
      ],
      "metadata": {
        "colab": {
          "base_uri": "https://localhost:8080/"
        },
        "id": "-RUezQLMzUrq",
        "outputId": "0aad5239-d8f8-488b-a1fd-07471ce3d4c3"
      },
      "execution_count": 36,
      "outputs": [
        {
          "output_type": "execute_result",
          "data": {
            "text/plain": [
              "['apple', 'cherry']"
            ]
          },
          "metadata": {},
          "execution_count": 36
        }
      ]
    },
    {
      "cell_type": "code",
      "source": [
        "# To return the removed element:\n",
        "fruits = ['apple', 'banana', 'cherry']\n",
        "x = fruits.pop(1)\n",
        "x\n",
        "\n",
        "#The pop() method returns removed value."
      ],
      "metadata": {
        "colab": {
          "base_uri": "https://localhost:8080/",
          "height": 36
        },
        "id": "dR7YdhdvzhoA",
        "outputId": "cfdfd47e-a33d-44a7-fe28-9c08fa8d67bc"
      },
      "execution_count": 37,
      "outputs": [
        {
          "output_type": "execute_result",
          "data": {
            "text/plain": [
              "'banana'"
            ],
            "application/vnd.google.colaboratory.intrinsic+json": {
              "type": "string"
            }
          },
          "metadata": {},
          "execution_count": 37
        }
      ]
    },
    {
      "cell_type": "markdown",
      "source": [
        "remove()method"
      ],
      "metadata": {
        "id": "-apRSDc5z3Xi"
      }
    },
    {
      "cell_type": "code",
      "source": [
        "#Remove the \"banana\" element of the fruit list:\n",
        "\n",
        "fruits = ['apple', 'banana', 'cherry','banana']\n",
        "fruits.remove(\"banana\")\n",
        "fruits\n",
        "\n",
        "#The remove() method removes the first occurrence of the element with the specified value."
      ],
      "metadata": {
        "colab": {
          "base_uri": "https://localhost:8080/"
        },
        "id": "QcPxG-uiz5TL",
        "outputId": "d220bd67-28bf-4a18-8568-793c5cf6caea"
      },
      "execution_count": 40,
      "outputs": [
        {
          "output_type": "execute_result",
          "data": {
            "text/plain": [
              "['apple', 'cherry', 'banana']"
            ]
          },
          "metadata": {},
          "execution_count": 40
        }
      ]
    },
    {
      "cell_type": "markdown",
      "source": [
        "reverse()method"
      ],
      "metadata": {
        "id": "sxoEBY9S0KSR"
      }
    },
    {
      "cell_type": "code",
      "source": [
        "#To reverse the order of the fruit list:\n",
        "fruits = ['apple', 'banana', 'cherry']\n",
        "fruits.reverse()\n",
        "fruits"
      ],
      "metadata": {
        "colab": {
          "base_uri": "https://localhost:8080/"
        },
        "id": "kyv5s78B0Mvb",
        "outputId": "9c54e5ed-f126-48bc-e44d-9db5e59bf06a"
      },
      "execution_count": 41,
      "outputs": [
        {
          "output_type": "execute_result",
          "data": {
            "text/plain": [
              "['cherry', 'banana', 'apple']"
            ]
          },
          "metadata": {},
          "execution_count": 41
        }
      ]
    },
    {
      "cell_type": "markdown",
      "source": [
        "sort()method"
      ],
      "metadata": {
        "id": "IxCS84If0ZEQ"
      }
    },
    {
      "cell_type": "code",
      "source": [
        "#Sort the list alphabetically:\n",
        "cars = ['Ford', 'BMW', 'Volvo']\n",
        "cars.sort()\n",
        "cars"
      ],
      "metadata": {
        "colab": {
          "base_uri": "https://localhost:8080/"
        },
        "id": "ioZVmcGR0b1E",
        "outputId": "7d3744bd-723b-4fa2-b162-eaa6ad7c1c2a"
      },
      "execution_count": 42,
      "outputs": [
        {
          "output_type": "execute_result",
          "data": {
            "text/plain": [
              "['BMW', 'Ford', 'Volvo']"
            ]
          },
          "metadata": {},
          "execution_count": 42
        }
      ]
    },
    {
      "cell_type": "code",
      "source": [
        "#Sort the list descending:\n",
        "\n",
        "cars = ['Ford', 'BMW', 'Volvo']\n",
        "cars.sort(reverse=True)\n",
        "cars"
      ],
      "metadata": {
        "colab": {
          "base_uri": "https://localhost:8080/"
        },
        "id": "Dt0DXgnf0oKe",
        "outputId": "63060999-3b04-4a0a-d85e-4d03bd26c78b"
      },
      "execution_count": 43,
      "outputs": [
        {
          "output_type": "execute_result",
          "data": {
            "text/plain": [
              "['Volvo', 'Ford', 'BMW']"
            ]
          },
          "metadata": {},
          "execution_count": 43
        }
      ]
    },
    {
      "cell_type": "markdown",
      "source": [
        "TUPLE METHODS"
      ],
      "metadata": {
        "id": "li1f9l3J7TwB"
      }
    },
    {
      "cell_type": "code",
      "source": [
        "#Create a Tuple\n",
        "thistuple = (\"apple\", \"banana\", \"cherry\")\n",
        "print(thistuple)"
      ],
      "metadata": {
        "colab": {
          "base_uri": "https://localhost:8080/"
        },
        "id": "2QgfXcxP8B7z",
        "outputId": "fe0416fe-ea14-4ac9-a65b-95a354bcc25d"
      },
      "execution_count": 44,
      "outputs": [
        {
          "output_type": "stream",
          "name": "stdout",
          "text": [
            "('apple', 'banana', 'cherry')\n"
          ]
        }
      ]
    },
    {
      "cell_type": "code",
      "source": [
        "thistuple"
      ],
      "metadata": {
        "colab": {
          "base_uri": "https://localhost:8080/"
        },
        "id": "11qfsko_8nxJ",
        "outputId": "28f9679d-2f06-4b61-cf99-0ae6fbfe9921"
      },
      "execution_count": 46,
      "outputs": [
        {
          "output_type": "execute_result",
          "data": {
            "text/plain": [
              "('apple', 'banana', 'cherry')"
            ]
          },
          "metadata": {},
          "execution_count": 46
        }
      ]
    },
    {
      "cell_type": "markdown",
      "source": [
        "Tuple length"
      ],
      "metadata": {
        "id": "AOpG59DM8xeE"
      }
    },
    {
      "cell_type": "code",
      "source": [
        "#Print the number of items in the tuple:\n",
        "\n",
        "thistuple = (\"apple\", \"banana\", \"cherry\")\n",
        "print(len(thistuple))"
      ],
      "metadata": {
        "colab": {
          "base_uri": "https://localhost:8080/"
        },
        "id": "XK4CBVPW8z6G",
        "outputId": "4689dce8-9fc4-4f80-f994-499685291928"
      },
      "execution_count": 47,
      "outputs": [
        {
          "output_type": "stream",
          "name": "stdout",
          "text": [
            "3\n"
          ]
        }
      ]
    },
    {
      "cell_type": "code",
      "source": [
        "#Access Tuple\n",
        "#Print the second item in the tuple:\n",
        "thistuple = (\"apple\", \"banana\", \"cherry\")\n",
        "print(thistuple[1])"
      ],
      "metadata": {
        "colab": {
          "base_uri": "https://localhost:8080/"
        },
        "id": "aVykftkJ9Fbv",
        "outputId": "d086680b-ba16-46bb-fcfe-3f8f6bcea68b"
      },
      "execution_count": 49,
      "outputs": [
        {
          "output_type": "stream",
          "name": "stdout",
          "text": [
            "banana\n"
          ]
        }
      ]
    },
    {
      "cell_type": "code",
      "source": [
        "#Add items\n",
        "#Convert the tuple into a list, add \"orange\", and convert it back into a tuple:\n",
        "\n",
        "thistuple = (\"apple\", \"banana\", \"cherry\")\n",
        "y = list(thistuple)\n",
        "y.append(\"orange\")\n",
        "thistuple = tuple(y)\n",
        "print(thistuple)"
      ],
      "metadata": {
        "colab": {
          "base_uri": "https://localhost:8080/"
        },
        "id": "HNQ4_iI3-834",
        "outputId": "ac9818ef-471f-4859-9739-0f48d26e0bde"
      },
      "execution_count": 51,
      "outputs": [
        {
          "output_type": "stream",
          "name": "stdout",
          "text": [
            "('apple', 'banana', 'cherry', 'orange')\n"
          ]
        }
      ]
    },
    {
      "cell_type": "code",
      "source": [
        "#remove items from tuple\n",
        "#You cannot remove items in a tuple.\n",
        "#Convert the tuple into a list, remove \"apple\", and convert it back into a tuple:\n",
        "\n",
        "thistuple = (\"apple\", \"banana\", \"cherry\")\n",
        "y = list(thistuple)\n",
        "y.remove(\"apple\")\n",
        "thistuple = tuple(y)\n",
        "print(thistuple)"
      ],
      "metadata": {
        "colab": {
          "base_uri": "https://localhost:8080/"
        },
        "id": "dXBbl1QL_Iub",
        "outputId": "5d30dfaa-c49a-4ea4-8e54-9fef990e1478"
      },
      "execution_count": 52,
      "outputs": [
        {
          "output_type": "stream",
          "name": "stdout",
          "text": [
            "('banana', 'cherry')\n"
          ]
        }
      ]
    },
    {
      "cell_type": "code",
      "source": [
        "#delete tuple\n",
        "thistuple = (\"apple\", \"banana\", \"cherry\")\n",
        "del thistuple\n",
        "#print(thistuple) \n",
        "#Its an error because now no tuple exists"
      ],
      "metadata": {
        "id": "oi1sjUak_db8"
      },
      "execution_count": 54,
      "outputs": []
    },
    {
      "cell_type": "code",
      "source": [
        "#loop\n",
        "thistuple = (\"apple\", \"banana\", \"cherry\")\n",
        "for x in thistuple:\n",
        "  print(x)"
      ],
      "metadata": {
        "colab": {
          "base_uri": "https://localhost:8080/"
        },
        "id": "Rkf-mELx_u97",
        "outputId": "b8ca78bf-ae07-470c-8999-bda9c29aa214"
      },
      "execution_count": 55,
      "outputs": [
        {
          "output_type": "stream",
          "name": "stdout",
          "text": [
            "apple\n",
            "banana\n",
            "cherry\n"
          ]
        }
      ]
    },
    {
      "cell_type": "code",
      "source": [
        "#Print all items by referring to their index number:\n",
        "\n",
        "thistuple = (\"apple\", \"banana\", \"cherry\")\n",
        "for i in range(len(thistuple)):\n",
        "  print(thistuple[i])"
      ],
      "metadata": {
        "colab": {
          "base_uri": "https://localhost:8080/"
        },
        "id": "oLGS9IHUAHx6",
        "outputId": "20ed0681-b413-4108-825e-2d1ec9d37bee"
      },
      "execution_count": 56,
      "outputs": [
        {
          "output_type": "stream",
          "name": "stdout",
          "text": [
            "apple\n",
            "banana\n",
            "cherry\n"
          ]
        }
      ]
    },
    {
      "cell_type": "code",
      "source": [
        "#Using While loop\n",
        "thistuple = (\"apple\", \"banana\", \"cherry\")\n",
        "i = 0\n",
        "while i < len(thistuple):\n",
        "  print(thistuple[i])\n",
        "  i = i + 1"
      ],
      "metadata": {
        "colab": {
          "base_uri": "https://localhost:8080/"
        },
        "id": "Pr2rj0TFANYp",
        "outputId": "2a171c60-7404-4ecf-ae95-e5106266bbe5"
      },
      "execution_count": 57,
      "outputs": [
        {
          "output_type": "stream",
          "name": "stdout",
          "text": [
            "apple\n",
            "banana\n",
            "cherry\n"
          ]
        }
      ]
    },
    {
      "cell_type": "code",
      "source": [
        "#Join tuples\n",
        "tuple1 = (\"a\", \"b\" , \"c\")\n",
        "tuple2 = (1, 2, 3)\n",
        "\n",
        "tuple3 = tuple1 + tuple2\n",
        "print(tuple3)"
      ],
      "metadata": {
        "colab": {
          "base_uri": "https://localhost:8080/"
        },
        "id": "TwFoe38bAbAB",
        "outputId": "a44ac7f0-77d1-45df-dd4b-a0035920847c"
      },
      "execution_count": 58,
      "outputs": [
        {
          "output_type": "stream",
          "name": "stdout",
          "text": [
            "('a', 'b', 'c', 1, 2, 3)\n"
          ]
        }
      ]
    },
    {
      "cell_type": "code",
      "source": [
        "#To multiply tuples\n",
        "fruits = (\"apple\", \"banana\", \"cherry\")\n",
        "mytuple = fruits * 2\n",
        "\n",
        "print(mytuple)"
      ],
      "metadata": {
        "colab": {
          "base_uri": "https://localhost:8080/"
        },
        "id": "2vCkrswZAgU_",
        "outputId": "3dc97e7e-57de-4365-a99f-12172aa0bd70"
      },
      "execution_count": 59,
      "outputs": [
        {
          "output_type": "stream",
          "name": "stdout",
          "text": [
            "('apple', 'banana', 'cherry', 'apple', 'banana', 'cherry')\n"
          ]
        }
      ]
    },
    {
      "cell_type": "code",
      "source": [
        "#tuple count()\n",
        "#Return the number of times the value 5 appears in the tuple:\n",
        "\n",
        "thistuple = (1, 3, 7, 8, 7, 5, 4, 6, 8, 5)\n",
        "\n",
        "x = thistuple.count(5)\n",
        "\n",
        "print(x)"
      ],
      "metadata": {
        "colab": {
          "base_uri": "https://localhost:8080/"
        },
        "id": "Y_R6KrMfAt6W",
        "outputId": "91ee646e-d135-47fe-98d5-2205c1e957fe"
      },
      "execution_count": 60,
      "outputs": [
        {
          "output_type": "stream",
          "name": "stdout",
          "text": [
            "2\n"
          ]
        }
      ]
    },
    {
      "cell_type": "code",
      "source": [
        "#index\n",
        "#Search for the first occurrence of the value 8, and return its position:\n",
        "\n",
        "thistuple = (1, 3, 7, 8, 7, 5, 4, 6, 8, 5)\n",
        "\n",
        "x = thistuple.index(8)\n",
        "\n",
        "print(x)"
      ],
      "metadata": {
        "colab": {
          "base_uri": "https://localhost:8080/"
        },
        "id": "vtsJQeOqAwV6",
        "outputId": "f2f987ee-c4dc-47da-a0bb-47cc74e49087"
      },
      "execution_count": 61,
      "outputs": [
        {
          "output_type": "stream",
          "name": "stdout",
          "text": [
            "3\n"
          ]
        }
      ]
    },
    {
      "cell_type": "markdown",
      "source": [
        "SETS"
      ],
      "metadata": {
        "id": "5U2TOrxKBJF6"
      }
    },
    {
      "cell_type": "code",
      "source": [
        "#create a set\n",
        "thisset = {\"apple\", \"banana\", \"cherry\"}\n",
        "print(thisset)"
      ],
      "metadata": {
        "colab": {
          "base_uri": "https://localhost:8080/"
        },
        "id": "TgQz0VtABKZS",
        "outputId": "881d341a-f4a0-4afd-a09e-c2201fa8049f"
      },
      "execution_count": 62,
      "outputs": [
        {
          "output_type": "stream",
          "name": "stdout",
          "text": [
            "{'apple', 'cherry', 'banana'}\n"
          ]
        }
      ]
    },
    {
      "cell_type": "code",
      "source": [
        "#duplicates\n",
        "thisset = {\"apple\", \"banana\", \"cherry\"}\n",
        "print(thisset)\n",
        "#Duplicate values will be ignored:"
      ],
      "metadata": {
        "colab": {
          "base_uri": "https://localhost:8080/"
        },
        "id": "PyejRV7lBU-Z",
        "outputId": "7fb1b01d-508f-4029-b091-1ca4a5c29d48"
      },
      "execution_count": 63,
      "outputs": [
        {
          "output_type": "stream",
          "name": "stdout",
          "text": [
            "{'apple', 'cherry', 'banana'}\n"
          ]
        }
      ]
    },
    {
      "cell_type": "code",
      "source": [
        "#Access a item\n",
        "thisset = {\"apple\", \"banana\", \"cherry\"}\n",
        "\n",
        "for x in thisset:\n",
        "  print(x)"
      ],
      "metadata": {
        "colab": {
          "base_uri": "https://localhost:8080/"
        },
        "id": "Jsuxvpf_Blfm",
        "outputId": "d7c6fb4a-e10d-495c-e340-c6f66fea9f6d"
      },
      "execution_count": 64,
      "outputs": [
        {
          "output_type": "stream",
          "name": "stdout",
          "text": [
            "apple\n",
            "cherry\n",
            "banana\n"
          ]
        }
      ]
    },
    {
      "cell_type": "code",
      "source": [
        "#add() method\n",
        "thisset = {\"apple\", \"banana\", \"cherry\"}\n",
        "\n",
        "thisset.add(\"orange\")\n",
        "\n",
        "print(thisset)"
      ],
      "metadata": {
        "colab": {
          "base_uri": "https://localhost:8080/"
        },
        "id": "iYjWy34tBqNH",
        "outputId": "4cc214c4-7d15-449f-e297-e9c51740f735"
      },
      "execution_count": 65,
      "outputs": [
        {
          "output_type": "stream",
          "name": "stdout",
          "text": [
            "{'apple', 'cherry', 'orange', 'banana'}\n"
          ]
        }
      ]
    },
    {
      "cell_type": "code",
      "source": [
        "#update()\n",
        "thisset = {\"apple\", \"banana\", \"cherry\"}\n",
        "thatset = {\"pineapple\", \"mango\", \"papaya\"}\n",
        "\n",
        "thisset.update(thatset)\n",
        "\n",
        "print(thisset)"
      ],
      "metadata": {
        "colab": {
          "base_uri": "https://localhost:8080/"
        },
        "id": "pCxm3MdIB34Y",
        "outputId": "b9c8fff1-5971-4a27-dbed-a8ad18f86285"
      },
      "execution_count": 66,
      "outputs": [
        {
          "output_type": "stream",
          "name": "stdout",
          "text": [
            "{'banana', 'papaya', 'pineapple', 'apple', 'cherry', 'mango'}\n"
          ]
        }
      ]
    },
    {
      "cell_type": "code",
      "source": [
        "#remove()\n",
        "thisset = {\"apple\", \"banana\", \"cherry\"}\n",
        "thisset.remove(\"banana\")\n",
        "print(thisset)\n",
        " #If the item to remove does not exist, remove() will raise an error."
      ],
      "metadata": {
        "colab": {
          "base_uri": "https://localhost:8080/"
        },
        "id": "2SuODY3JCE2F",
        "outputId": "f84e1b6d-d4bc-46e8-fd0e-415ccdd764bb"
      },
      "execution_count": 68,
      "outputs": [
        {
          "output_type": "stream",
          "name": "stdout",
          "text": [
            "{'apple', 'cherry'}\n"
          ]
        }
      ]
    },
    {
      "cell_type": "code",
      "source": [
        "#pop()\n",
        "thisset = {\"apple\", \"banana\", \"cherry\"}\n",
        "x = thisset.pop()\n",
        "print(x)\n",
        "print(thisset)"
      ],
      "metadata": {
        "colab": {
          "base_uri": "https://localhost:8080/"
        },
        "id": "sRQUeQRnCUp0",
        "outputId": "845371d2-82b7-4fb1-974d-fa2d59df1375"
      },
      "execution_count": 69,
      "outputs": [
        {
          "output_type": "stream",
          "name": "stdout",
          "text": [
            "apple\n",
            "{'cherry', 'banana'}\n"
          ]
        }
      ]
    },
    {
      "cell_type": "code",
      "source": [
        "#clear()\n",
        "thisset = {\"apple\", \"banana\", \"cherry\"}\n",
        "\n",
        "thisset.clear()\n",
        "\n",
        "print(thisset)"
      ],
      "metadata": {
        "id": "BHk4z4R4CgrH"
      },
      "execution_count": null,
      "outputs": []
    },
    {
      "cell_type": "code",
      "source": [
        "#del()\n",
        "thisset = {\"apple\", \"banana\", \"cherry\"}\n",
        "\n",
        "del thisset\n",
        "\n",
        "#print(thisset)"
      ],
      "metadata": {
        "id": "0FiqZrCYCnxa"
      },
      "execution_count": 72,
      "outputs": []
    },
    {
      "cell_type": "code",
      "source": [
        "#loop()\n",
        "thisset = {\"apple\", \"banana\", \"cherry\"}\n",
        "\n",
        "for x in thisset:\n",
        "  print(x)\n"
      ],
      "metadata": {
        "colab": {
          "base_uri": "https://localhost:8080/"
        },
        "id": "IymTIvUrCsf-",
        "outputId": "601838e0-abab-413b-c436-7a484ceea1e7"
      },
      "execution_count": 73,
      "outputs": [
        {
          "output_type": "stream",
          "name": "stdout",
          "text": [
            "apple\n",
            "cherry\n",
            "banana\n"
          ]
        }
      ]
    },
    {
      "cell_type": "markdown",
      "source": [
        "DICTIONARY"
      ],
      "metadata": {
        "id": "HaNjuzR-DNIl"
      }
    },
    {
      "cell_type": "code",
      "source": [
        "#Create a dictionary:\n",
        "\n",
        "thisdict = {\n",
        "  \"brand\": \"Ford\",\n",
        "  \"model\": \"Mustang\",\n",
        "  \"year\": 1964\n",
        "}\n",
        "print(thisdict)"
      ],
      "metadata": {
        "id": "xZWRZ6bwDScf",
        "outputId": "f187041a-49e8-47c5-e4ff-b90c695edb2d",
        "colab": {
          "base_uri": "https://localhost:8080/"
        }
      },
      "execution_count": 74,
      "outputs": [
        {
          "output_type": "stream",
          "name": "stdout",
          "text": [
            "{'brand': 'Ford', 'model': 'Mustang', 'year': 1964}\n"
          ]
        }
      ]
    },
    {
      "cell_type": "code",
      "source": [
        "#access\n",
        "#Get the value of the \"model\" key:\n",
        "\n",
        "thisdict = {\n",
        "  \"brand\": \"Ford\",\n",
        "  \"model\": \"Mustang\",\n",
        "  \"year\": 1964\n",
        "}\n",
        "x = thisdict[\"model\"]"
      ],
      "metadata": {
        "id": "U6ouE1H8DbHH"
      },
      "execution_count": 75,
      "outputs": []
    },
    {
      "cell_type": "code",
      "source": [
        "# duplicate values\n",
        "\n",
        "thisdict = {\n",
        "  \"brand\": \"Ford\",\n",
        "  \"model\": \"Mustang\",\n",
        "  \"year\": 1964,\n",
        "  \"year\": 2020\n",
        "}\n",
        "print(thisdict)"
      ],
      "metadata": {
        "id": "xAsAxLyxDnp5",
        "outputId": "b7ba464a-304b-4574-8fa0-e0affc94cea0",
        "colab": {
          "base_uri": "https://localhost:8080/"
        }
      },
      "execution_count": 76,
      "outputs": [
        {
          "output_type": "stream",
          "name": "stdout",
          "text": [
            "{'brand': 'Ford', 'model': 'Mustang', 'year': 2020}\n"
          ]
        }
      ]
    },
    {
      "cell_type": "code",
      "source": [
        "# adding values\n",
        "\n",
        "dict = {\n",
        "  \"brand\": \"Ford\",\n",
        "  \"model\": \"Mustang\",\n",
        "  \"year\": 1964\n",
        "}\n",
        "dict[\"color\"] = \"red\"\n",
        "print(dict)"
      ],
      "metadata": {
        "id": "Zn72sLw6Dq1-",
        "outputId": "a693e805-c171-4b49-b449-6cf04b440ece",
        "colab": {
          "base_uri": "https://localhost:8080/"
        }
      },
      "execution_count": 77,
      "outputs": [
        {
          "output_type": "stream",
          "name": "stdout",
          "text": [
            "{'brand': 'Ford', 'model': 'Mustang', 'year': 1964, 'color': 'red'}\n"
          ]
        }
      ]
    },
    {
      "cell_type": "code",
      "source": [
        "#to update\n",
        "\n",
        "dict = {\n",
        "  \"brand\": \"Ford\",\n",
        "  \"model\": \"Mustang\",\n",
        "  \"year\": 1964\n",
        "}\n",
        "dict.update({\"color\": \"black\"})"
      ],
      "metadata": {
        "id": "5ZRMpdVGDvIb"
      },
      "execution_count": 85,
      "outputs": []
    },
    {
      "cell_type": "code",
      "source": [
        "#to remove\n",
        "\n",
        "dict = {\n",
        "  \"brand\": \"Ford\",\n",
        "  \"model\": \"Mustang\",\n",
        "  \"year\": 1964\n",
        "}\n",
        "dict.pop(\"model\")\n",
        "print(dict)"
      ],
      "metadata": {
        "id": "whJ3j5SjDyFJ",
        "outputId": "2d9c7ebe-976a-47ea-f533-ce9a54f0a0bf",
        "colab": {
          "base_uri": "https://localhost:8080/"
        }
      },
      "execution_count": 84,
      "outputs": [
        {
          "output_type": "stream",
          "name": "stdout",
          "text": [
            "{'brand': 'Ford', 'year': 1964}\n"
          ]
        }
      ]
    },
    {
      "cell_type": "code",
      "source": [
        "# clear all\n",
        "\n",
        "dict = {\n",
        "  \"brand\": \"Ford\",\n",
        "  \"model\": \"Mustang\",\n",
        "  \"year\": 1964\n",
        "}\n",
        "dict.clear()\n",
        "print(dict)"
      ],
      "metadata": {
        "id": "zsLL6hoKD1Se",
        "outputId": "ab7bc296-dadf-4136-e3b6-08e80202581e",
        "colab": {
          "base_uri": "https://localhost:8080/"
        }
      },
      "execution_count": 80,
      "outputs": [
        {
          "output_type": "stream",
          "name": "stdout",
          "text": [
            "{}\n"
          ]
        }
      ]
    },
    {
      "cell_type": "code",
      "source": [
        "# loops\n",
        "\n",
        "for x in thisdict:\n",
        "  print(x)"
      ],
      "metadata": {
        "id": "nDNV9u1HD397",
        "outputId": "48a80d97-8749-40e9-c985-9ded55a7e291",
        "colab": {
          "base_uri": "https://localhost:8080/"
        }
      },
      "execution_count": 81,
      "outputs": [
        {
          "output_type": "stream",
          "name": "stdout",
          "text": [
            "brand\n",
            "model\n",
            "year\n"
          ]
        }
      ]
    },
    {
      "cell_type": "code",
      "source": [
        "# copy () method\n",
        "\n",
        "thisdict = {\n",
        "  \"brand\": \"Benz\",\n",
        "  \"model\": \"marsidez\",\n",
        "  \"year\": 1980\n",
        "}\n",
        "mydict = thisdict.copy()\n",
        "print(mydict)"
      ],
      "metadata": {
        "id": "FK9tIQnvD7Jn",
        "outputId": "ae30852b-91b8-4d28-c51d-f1633cf12bf3",
        "colab": {
          "base_uri": "https://localhost:8080/"
        }
      },
      "execution_count": 82,
      "outputs": [
        {
          "output_type": "stream",
          "name": "stdout",
          "text": [
            "{'brand': 'Benz', 'model': 'marsidez', 'year': 1980}\n"
          ]
        }
      ]
    },
    {
      "cell_type": "code",
      "source": [
        "# Three Dictionary\n",
        "\n",
        "myfamily = {\n",
        "  \"member1\" : {\n",
        "    \"name\" : \"Vadiraj\",\n",
        "    \"year\" : 1965\n",
        "  },\n",
        "  \"member2\" : {\n",
        "    \"name\" : \"Tara\",\n",
        "    \"year\" : 2010\n",
        "  },\n",
        "  \"member3\" : {\n",
        "    \"name\" : \"Lyra\",\n",
        "    \"year\" : 2011\n",
        "  }\n",
        "}\n",
        "\n",
        "myfamily"
      ],
      "metadata": {
        "id": "T-q1QmDgEAa2",
        "outputId": "33fefd65-7f1b-4f87-9d88-9ff5c961614c",
        "colab": {
          "base_uri": "https://localhost:8080/"
        }
      },
      "execution_count": 83,
      "outputs": [
        {
          "output_type": "execute_result",
          "data": {
            "text/plain": [
              "{'member1': {'name': 'Vadiraj', 'year': 1965},\n",
              " 'member2': {'name': 'Tara', 'year': 2010},\n",
              " 'member3': {'name': 'Lyra', 'year': 2011}}"
            ]
          },
          "metadata": {},
          "execution_count": 83
        }
      ]
    }
  ]
}