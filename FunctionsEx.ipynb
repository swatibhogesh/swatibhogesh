{
  "nbformat": 4,
  "nbformat_minor": 0,
  "metadata": {
    "colab": {
      "provenance": [],
      "authorship_tag": "ABX9TyP2L8clN8sx0H26NHH809K7",
      "include_colab_link": true
    },
    "kernelspec": {
      "name": "python3",
      "display_name": "Python 3"
    },
    "language_info": {
      "name": "python"
    }
  },
  "cells": [
    {
      "cell_type": "markdown",
      "metadata": {
        "id": "view-in-github",
        "colab_type": "text"
      },
      "source": [
        "<a href=\"https://colab.research.google.com/github/swatibhogesh/swatibhogesh/blob/main/FunctionsEx.ipynb\" target=\"_parent\"><img src=\"https://colab.research.google.com/assets/colab-badge.svg\" alt=\"Open In Colab\"/></a>"
      ]
    },
    {
      "cell_type": "markdown",
      "source": [
        "1. Create a function in such a way that we can pass any number of arguments to this function, and the function should process them and display each argument’s value "
      ],
      "metadata": {
        "id": "m1yzuSwyOLgT"
      }
    },
    {
      "cell_type": "code",
      "source": [
        "def func1(*args):\n",
        "    for i in args:\n",
        "        print(i)\n"
      ],
      "metadata": {
        "id": "q2JRg-qZOYDk"
      },
      "execution_count": 9,
      "outputs": []
    },
    {
      "cell_type": "code",
      "source": [
        "# call function with 3 arguments\n",
        "func1(20, 40, 60)"
      ],
      "metadata": {
        "colab": {
          "base_uri": "https://localhost:8080/"
        },
        "id": "RN7zzS7NScO8",
        "outputId": "eb95e20e-2238-4e29-d762-906386449177"
      },
      "execution_count": 10,
      "outputs": [
        {
          "output_type": "stream",
          "name": "stdout",
          "text": [
            "20\n",
            "40\n",
            "60\n"
          ]
        }
      ]
    },
    {
      "cell_type": "markdown",
      "source": [
        "2. Write a program to create function calculation() such that it can accept two variables and calculate addition and subtraction. Also, it must return both addition and subtraction in a single return call. "
      ],
      "metadata": {
        "id": "fRnBQyH9PVwD"
      }
    },
    {
      "cell_type": "code",
      "source": [
        "def calculation(a, b):\n",
        "    addition = a + b\n",
        "    subtraction = a - b\n",
        "    # return multiple values separated by comma\n",
        "    return addition, subtraction\n",
        "\n",
        "    # get result in tuple format\n",
        "res = calculation(40, 10)\n",
        "print(res)"
      ],
      "metadata": {
        "colab": {
          "base_uri": "https://localhost:8080/"
        },
        "id": "kgNQQqWDPqDt",
        "outputId": "a62df9c3-2f91-4a71-9657-6a73d14115b9"
      },
      "execution_count": 7,
      "outputs": [
        {
          "output_type": "stream",
          "name": "stdout",
          "text": [
            "(50, 30)\n"
          ]
        }
      ]
    },
    {
      "cell_type": "markdown",
      "source": [
        "Write a program to create a function show_employee() using the following conditions.\n",
        "\n",
        "It should accept the employee’s name and salary and display both.\n",
        "If the salary is missing in the function call then assign default value 9000 to salary."
      ],
      "metadata": {
        "id": "vTjRz535Rh9c"
      }
    },
    {
      "cell_type": "code",
      "source": [
        "# function with default argument\n",
        "def show_employee(name, salary=9000):\n",
        "    print(\"Name:\", name, \"salary:\", salary)\n",
        "\n",
        "show_employee(\"Ben\", 12000)\n",
        "show_employee(\"Jessa\")"
      ],
      "metadata": {
        "colab": {
          "base_uri": "https://localhost:8080/"
        },
        "id": "C-PW0tekRmpc",
        "outputId": "63ef8d27-55dd-410e-b0b6-bb95de1bf9f9"
      },
      "execution_count": 11,
      "outputs": [
        {
          "output_type": "stream",
          "name": "stdout",
          "text": [
            "Name: Ben salary: 12000\n",
            "Name: Jessa salary: 9000\n"
          ]
        }
      ]
    },
    {
      "cell_type": "markdown",
      "source": [
        "Create an outer function that will accept two parameters, a and b,   Create an inner function inside an outer function that will calculate the addition of a and b,  At last, an outer function will add 5 into addition and return it."
      ],
      "metadata": {
        "id": "uNhtiydIRz7U"
      }
    },
    {
      "cell_type": "code",
      "source": [
        "# outer function\n",
        "def outer_fun(a, b):\n",
        "    square = a ** 2\n",
        "\n",
        "    # inner function\n",
        "    def addition(a, b):\n",
        "        return a + b\n",
        "\n",
        "    # call inner function from outer function\n",
        "    add = addition(a, b)\n",
        "    # add 5 to the result\n",
        "    return add + 5\n",
        "\n",
        "result = outer_fun(5, 10)\n",
        "print(result)"
      ],
      "metadata": {
        "colab": {
          "base_uri": "https://localhost:8080/"
        },
        "id": "Mhui-fvRSI4v",
        "outputId": "376da18d-95ec-4a57-8633-cc6df1133689"
      },
      "execution_count": 12,
      "outputs": [
        {
          "output_type": "stream",
          "name": "stdout",
          "text": [
            "20\n"
          ]
        }
      ]
    }
  ]
}