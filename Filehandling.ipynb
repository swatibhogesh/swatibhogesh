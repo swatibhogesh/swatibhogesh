{
  "nbformat": 4,
  "nbformat_minor": 0,
  "metadata": {
    "colab": {
      "provenance": [],
      "authorship_tag": "ABX9TyMPI/uZI55ZNNgQLRBo+jjP",
      "include_colab_link": true
    },
    "kernelspec": {
      "name": "python3",
      "display_name": "Python 3"
    },
    "language_info": {
      "name": "python"
    }
  },
  "cells": [
    {
      "cell_type": "markdown",
      "metadata": {
        "id": "view-in-github",
        "colab_type": "text"
      },
      "source": [
        "<a href=\"https://colab.research.google.com/github/swatibhogesh/swatibhogesh/blob/main/Filehandling.ipynb\" target=\"_parent\"><img src=\"https://colab.research.google.com/assets/colab-badge.svg\" alt=\"Open In Colab\"/></a>"
      ]
    },
    {
      "cell_type": "code",
      "execution_count": null,
      "metadata": {
        "colab": {
          "base_uri": "https://localhost:8080/"
        },
        "id": "OL4FbFshePfm",
        "outputId": "933bde91-05b2-48ec-de1a-f21b78865a3b"
      },
      "outputs": [
        {
          "output_type": "stream",
          "name": "stdout",
          "text": [
            "Overwriting ABC.txt\n"
          ]
        }
      ],
      "source": [
        "%%writefile ABC.txt\n",
        "a=10\n",
        "b=12\n",
        "a+b"
      ]
    },
    {
      "cell_type": "code",
      "source": [
        "%%writefile -a ABC.txt\n",
        "\n",
        "Today is Wednesday"
      ],
      "metadata": {
        "id": "OwFi9PmzfZof",
        "outputId": "9fccd6d8-325a-4473-92dd-5806a4b74a9c",
        "colab": {
          "base_uri": "https://localhost:8080/"
        }
      },
      "execution_count": null,
      "outputs": [
        {
          "output_type": "stream",
          "name": "stdout",
          "text": [
            "Appending to ABC.txt\n"
          ]
        }
      ]
    },
    {
      "cell_type": "code",
      "source": [
        "#r\n",
        "#w\n",
        "#a\n",
        "#r+\n",
        "#w+\n",
        "#a+"
      ],
      "metadata": {
        "id": "rDzYy_aUfnY4"
      },
      "execution_count": null,
      "outputs": []
    },
    {
      "cell_type": "code",
      "source": [
        "file = open('ABC.txt','r')"
      ],
      "metadata": {
        "id": "kcrMAJo4fqPy"
      },
      "execution_count": null,
      "outputs": []
    },
    {
      "cell_type": "code",
      "source": [
        "for each in file:\n",
        "  print(each)"
      ],
      "metadata": {
        "colab": {
          "base_uri": "https://localhost:8080/"
        },
        "id": "Md_Kwep9f8v2",
        "outputId": "27dc1fb1-e1c9-467e-95e1-3fb26601ce93"
      },
      "execution_count": null,
      "outputs": [
        {
          "output_type": "stream",
          "name": "stdout",
          "text": [
            "a=10\n",
            "\n",
            "b=12\n",
            "\n",
            "a+b\n",
            "\n",
            "\n",
            "\n",
            "Today is Wednesday\n",
            "\n"
          ]
        }
      ]
    },
    {
      "cell_type": "code",
      "source": [
        "file1= open('XYZ.txt')"
      ],
      "metadata": {
        "colab": {
          "base_uri": "https://localhost:8080/",
          "height": 165
        },
        "id": "Wq3JwzB2gDC-",
        "outputId": "83ed0254-bc4c-4d0d-de0a-0701d75f0d10"
      },
      "execution_count": null,
      "outputs": [
        {
          "output_type": "error",
          "ename": "FileNotFoundError",
          "evalue": "ignored",
          "traceback": [
            "\u001b[0;31m---------------------------------------------------------------------------\u001b[0m",
            "\u001b[0;31mFileNotFoundError\u001b[0m                         Traceback (most recent call last)",
            "\u001b[0;32m<ipython-input-9-67075852f396>\u001b[0m in \u001b[0;36m<module>\u001b[0;34m\u001b[0m\n\u001b[0;32m----> 1\u001b[0;31m \u001b[0mfile1\u001b[0m\u001b[0;34m=\u001b[0m \u001b[0mopen\u001b[0m\u001b[0;34m(\u001b[0m\u001b[0;34m'XYZ.txt'\u001b[0m\u001b[0;34m)\u001b[0m\u001b[0;34m\u001b[0m\u001b[0;34m\u001b[0m\u001b[0m\n\u001b[0m",
            "\u001b[0;31mFileNotFoundError\u001b[0m: [Errno 2] No such file or directory: 'XYZ.txt'"
          ]
        }
      ]
    },
    {
      "cell_type": "code",
      "source": [
        "file = open('ABC.txt','r')\n",
        "print(file.read())"
      ],
      "metadata": {
        "colab": {
          "base_uri": "https://localhost:8080/"
        },
        "id": "EyUmL_u5gK7f",
        "outputId": "bbb51b02-1ea8-4dd0-9b96-5df6160d2a6a"
      },
      "execution_count": null,
      "outputs": [
        {
          "output_type": "stream",
          "name": "stdout",
          "text": [
            "a=10\n",
            "b=12\n",
            "a+b\n",
            "\n",
            "Today is Wednesday\n",
            "\n"
          ]
        }
      ]
    },
    {
      "cell_type": "code",
      "source": [
        "file = open('ABC.txt','r')\n",
        "print(file.read(4))"
      ],
      "metadata": {
        "colab": {
          "base_uri": "https://localhost:8080/"
        },
        "id": "DE8E3NvwgN_m",
        "outputId": "aef4e0b6-49a4-42ed-f31b-d7d03c4f4287"
      },
      "execution_count": null,
      "outputs": [
        {
          "output_type": "stream",
          "name": "stdout",
          "text": [
            "a=10\n"
          ]
        }
      ]
    },
    {
      "cell_type": "code",
      "source": [
        "file = open('ABC.txt','r')\n",
        "print(file.readline())\n",
        "file.seek(0)\n",
        "print(file.readline())\n",
        "print(file.readline())"
      ],
      "metadata": {
        "colab": {
          "base_uri": "https://localhost:8080/"
        },
        "id": "vc_mFeybgZzQ",
        "outputId": "b9db1b2e-89a8-418e-809b-7baf896bf1e5"
      },
      "execution_count": null,
      "outputs": [
        {
          "output_type": "stream",
          "name": "stdout",
          "text": [
            "a=10\n",
            "\n",
            "a=10\n",
            "\n",
            "b=12\n",
            "\n"
          ]
        }
      ]
    },
    {
      "cell_type": "code",
      "source": [
        "file = open('ABC.txt','r')\n",
        "print(file.readlines())"
      ],
      "metadata": {
        "colab": {
          "base_uri": "https://localhost:8080/"
        },
        "id": "NLbEBUVfgkDA",
        "outputId": "6098b32a-e788-43c3-9109-c802b4afe661"
      },
      "execution_count": null,
      "outputs": [
        {
          "output_type": "stream",
          "name": "stdout",
          "text": [
            "['a=10\\n', 'b=12\\n', 'a+b\\n', '\\n', 'Today is Wednesday\\n']\n"
          ]
        }
      ]
    },
    {
      "cell_type": "code",
      "source": [
        "file = open('ABC.txt','r')\n",
        "print(file.readline())"
      ],
      "metadata": {
        "colab": {
          "base_uri": "https://localhost:8080/"
        },
        "id": "3DV5LiQpgnUL",
        "outputId": "a1f540e6-0221-49d6-a6db-8cacd5e336a3"
      },
      "execution_count": null,
      "outputs": [
        {
          "output_type": "stream",
          "name": "stdout",
          "text": [
            "a=10\n",
            "\n"
          ]
        }
      ]
    },
    {
      "cell_type": "code",
      "source": [
        "with open('ABC.txt') as file:\n",
        "  data = file.read(7)"
      ],
      "metadata": {
        "id": "9Cu7tv6Wg3Bh"
      },
      "execution_count": null,
      "outputs": []
    },
    {
      "cell_type": "code",
      "source": [
        "print(data)"
      ],
      "metadata": {
        "colab": {
          "base_uri": "https://localhost:8080/"
        },
        "id": "sMJIPkc_g5Nl",
        "outputId": "b8eac8aa-8c15-416f-a533-2a9ae1aca7f4"
      },
      "execution_count": null,
      "outputs": [
        {
          "output_type": "stream",
          "name": "stdout",
          "text": [
            "a=10\n",
            "b=\n"
          ]
        }
      ]
    },
    {
      "cell_type": "code",
      "source": [
        "with open('ABC.txt',\"w\") as file:\n",
        "  file.write(\"Hello, Good Morning\")"
      ],
      "metadata": {
        "id": "KTzL2aXyhFHG"
      },
      "execution_count": null,
      "outputs": []
    },
    {
      "cell_type": "code",
      "source": [
        "file = open('ABC.txt','r')\n",
        "print(file.read())"
      ],
      "metadata": {
        "colab": {
          "base_uri": "https://localhost:8080/"
        },
        "id": "wzh6wWeFhLF-",
        "outputId": "6d850f0b-e4fa-4075-98c7-80c1036d7457"
      },
      "execution_count": null,
      "outputs": [
        {
          "output_type": "stream",
          "name": "stdout",
          "text": [
            "Hello, Good Morning\n"
          ]
        }
      ]
    },
    {
      "cell_type": "code",
      "source": [
        "with open('ABC.txt',\"a\") as file:\n",
        "  file.write(\"Today is Wednesday\")"
      ],
      "metadata": {
        "id": "mmTojv1miI5i"
      },
      "execution_count": null,
      "outputs": []
    },
    {
      "cell_type": "code",
      "source": [
        "file = open('ABC.txt','r')\n",
        "print(file.read())"
      ],
      "metadata": {
        "colab": {
          "base_uri": "https://localhost:8080/"
        },
        "id": "O0cCjwFNiMRo",
        "outputId": "35cd8440-f27e-4b4a-b50b-37cec1f5fff8"
      },
      "execution_count": null,
      "outputs": [
        {
          "output_type": "stream",
          "name": "stdout",
          "text": [
            "Hello, Good MorningToday is Wednesday\n"
          ]
        }
      ]
    },
    {
      "cell_type": "code",
      "source": [
        "with open('ABC.txt',\"r+\") as file:\n",
        "  file.write(\"Tomorrow\")"
      ],
      "metadata": {
        "id": "3lNtQgiEiUnv"
      },
      "execution_count": null,
      "outputs": []
    },
    {
      "cell_type": "code",
      "source": [
        "file = open('ABC.txt','r')\n",
        "print(file.read())"
      ],
      "metadata": {
        "colab": {
          "base_uri": "https://localhost:8080/"
        },
        "id": "sfHVkpF0iWZe",
        "outputId": "201f31cc-8f0f-49cf-f760-299ca9673606"
      },
      "execution_count": null,
      "outputs": [
        {
          "output_type": "stream",
          "name": "stdout",
          "text": [
            "Tomorrowood MorningToday is Wednesday\n"
          ]
        }
      ]
    },
    {
      "cell_type": "code",
      "source": [
        "with open('ABC.txt',\"r\") as file:\n",
        "  data = file.readlines()\n",
        "  for line in data:\n",
        "    word =line.split()\n",
        "    print(word)"
      ],
      "metadata": {
        "colab": {
          "base_uri": "https://localhost:8080/"
        },
        "id": "C7w5apPcidm4",
        "outputId": "05c6b2f6-07f2-45c8-bc9a-46993fdeb378"
      },
      "execution_count": null,
      "outputs": [
        {
          "output_type": "stream",
          "name": "stdout",
          "text": [
            "['Tomorrowood', 'MorningToday', 'is', 'Wednesday']\n"
          ]
        }
      ]
    },
    {
      "cell_type": "code",
      "source": [
        "file = open('ABC.txt','r')\n",
        "print(file.readline())\n",
        "file.close()"
      ],
      "metadata": {
        "colab": {
          "base_uri": "https://localhost:8080/"
        },
        "id": "CZ43HswJij8w",
        "outputId": "f65b436e-7efd-4f36-dbed-bfeee42a8b82"
      },
      "execution_count": null,
      "outputs": [
        {
          "output_type": "stream",
          "name": "stdout",
          "text": [
            "Tomorrowood MorningToday is Wednesday\n"
          ]
        }
      ]
    },
    {
      "cell_type": "code",
      "source": [
        "file2 = open(\"DEMO.txt\",'x')"
      ],
      "metadata": {
        "id": "VcijRzkVilyw"
      },
      "execution_count": null,
      "outputs": []
    },
    {
      "cell_type": "code",
      "source": [
        "files = open(\"training.txt\",'x')"
      ],
      "metadata": {
        "id": "AZp5XsR4ipYh"
      },
      "execution_count": null,
      "outputs": []
    },
    {
      "cell_type": "code",
      "source": [
        "files = open(\"training.txt\",'w')\n",
        "files.write(\"We will start BigData Tomorrow\")\n",
        "files.close()"
      ],
      "metadata": {
        "id": "CrdidUY8isy3"
      },
      "execution_count": null,
      "outputs": []
    },
    {
      "cell_type": "code",
      "source": [
        "files = open(\"training.txt\",'r')\n",
        "files.read()"
      ],
      "metadata": {
        "colab": {
          "base_uri": "https://localhost:8080/",
          "height": 35
        },
        "id": "GELewRM3izuJ",
        "outputId": "485dfdb3-8ab0-4349-ffca-adf3e414891a"
      },
      "execution_count": null,
      "outputs": [
        {
          "output_type": "execute_result",
          "data": {
            "text/plain": [
              "'We will start BigData Tomorrow'"
            ],
            "application/vnd.google.colaboratory.intrinsic+json": {
              "type": "string"
            }
          },
          "metadata": {},
          "execution_count": 28
        }
      ]
    },
    {
      "cell_type": "code",
      "source": [
        "import os\n",
        "os.remove(\"training.txt\")"
      ],
      "metadata": {
        "id": "qwAw4NXLi100"
      },
      "execution_count": null,
      "outputs": []
    },
    {
      "cell_type": "code",
      "source": [
        "x=[]\n",
        "dir(x)"
      ],
      "metadata": {
        "colab": {
          "base_uri": "https://localhost:8080/"
        },
        "id": "tbpW2yCXi-_l",
        "outputId": "8098e3e6-5526-46a5-eed1-bc36c497e248"
      },
      "execution_count": null,
      "outputs": [
        {
          "output_type": "execute_result",
          "data": {
            "text/plain": [
              "['__add__',\n",
              " '__class__',\n",
              " '__contains__',\n",
              " '__delattr__',\n",
              " '__delitem__',\n",
              " '__dir__',\n",
              " '__doc__',\n",
              " '__eq__',\n",
              " '__format__',\n",
              " '__ge__',\n",
              " '__getattribute__',\n",
              " '__getitem__',\n",
              " '__gt__',\n",
              " '__hash__',\n",
              " '__iadd__',\n",
              " '__imul__',\n",
              " '__init__',\n",
              " '__init_subclass__',\n",
              " '__iter__',\n",
              " '__le__',\n",
              " '__len__',\n",
              " '__lt__',\n",
              " '__mul__',\n",
              " '__ne__',\n",
              " '__new__',\n",
              " '__reduce__',\n",
              " '__reduce_ex__',\n",
              " '__repr__',\n",
              " '__reversed__',\n",
              " '__rmul__',\n",
              " '__setattr__',\n",
              " '__setitem__',\n",
              " '__sizeof__',\n",
              " '__str__',\n",
              " '__subclasshook__',\n",
              " 'append',\n",
              " 'clear',\n",
              " 'copy',\n",
              " 'count',\n",
              " 'extend',\n",
              " 'index',\n",
              " 'insert',\n",
              " 'pop',\n",
              " 'remove',\n",
              " 'reverse',\n",
              " 'sort']"
            ]
          },
          "metadata": {},
          "execution_count": 30
        }
      ]
    },
    {
      "cell_type": "code",
      "source": [
        "f= open(\"deer.png\",\"r+b\")\n",
        "f.read()"
      ],
      "metadata": {
        "id": "tM3t_LWjjBYL",
        "outputId": "f18ea9d7-787d-479d-b042-9f3ecdf81b93",
        "colab": {
          "base_uri": "https://localhost:8080/",
          "height": 183
        }
      },
      "execution_count": null,
      "outputs": [
        {
          "output_type": "error",
          "ename": "FileNotFoundError",
          "evalue": "ignored",
          "traceback": [
            "\u001b[0;31m---------------------------------------------------------------------------\u001b[0m",
            "\u001b[0;31mFileNotFoundError\u001b[0m                         Traceback (most recent call last)",
            "\u001b[0;32m<ipython-input-31-ed189e3a849e>\u001b[0m in \u001b[0;36m<module>\u001b[0;34m\u001b[0m\n\u001b[0;32m----> 1\u001b[0;31m \u001b[0mf\u001b[0m\u001b[0;34m=\u001b[0m \u001b[0mopen\u001b[0m\u001b[0;34m(\u001b[0m\u001b[0;34m\"deer.png\"\u001b[0m\u001b[0;34m,\u001b[0m\u001b[0;34m\"r+b\"\u001b[0m\u001b[0;34m)\u001b[0m\u001b[0;34m\u001b[0m\u001b[0;34m\u001b[0m\u001b[0m\n\u001b[0m\u001b[1;32m      2\u001b[0m \u001b[0mf\u001b[0m\u001b[0;34m.\u001b[0m\u001b[0mread\u001b[0m\u001b[0;34m(\u001b[0m\u001b[0;34m)\u001b[0m\u001b[0;34m\u001b[0m\u001b[0;34m\u001b[0m\u001b[0m\n",
            "\u001b[0;31mFileNotFoundError\u001b[0m: [Errno 2] No such file or directory: 'deer.png'"
          ]
        }
      ]
    }
  ]
}