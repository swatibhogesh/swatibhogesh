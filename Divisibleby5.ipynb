{
  "nbformat": 4,
  "nbformat_minor": 0,
  "metadata": {
    "colab": {
      "provenance": [],
      "authorship_tag": "ABX9TyPiYjUuwmNw6L2lWBidqUjS",
      "include_colab_link": true
    },
    "kernelspec": {
      "name": "python3",
      "display_name": "Python 3"
    },
    "language_info": {
      "name": "python"
    }
  },
  "cells": [
    {
      "cell_type": "markdown",
      "metadata": {
        "id": "view-in-github",
        "colab_type": "text"
      },
      "source": [
        "<a href=\"https://colab.research.google.com/github/swatibhogesh/swatibhogesh/blob/main/Divisibleby5.ipynb\" target=\"_parent\"><img src=\"https://colab.research.google.com/assets/colab-badge.svg\" alt=\"Open In Colab\"/></a>"
      ]
    },
    {
      "cell_type": "code",
      "execution_count": 3,
      "metadata": {
        "colab": {
          "base_uri": "https://localhost:8080/"
        },
        "id": "EcQRWKdEFnTG",
        "outputId": "535e0bd8-29fc-4b9e-a2b8-5618451af507"
      },
      "outputs": [
        {
          "output_type": "stream",
          "name": "stdout",
          "text": [
            "Given list: [10, 20, 33, 46, 55]\n",
            "Divisible by 5:\n",
            "10\n",
            "20\n",
            "55\n"
          ]
        }
      ],
      "source": [
        "\n",
        "num_list = [10, 20, 33, 46, 55]\n",
        "print(\"Given list:\", num_list)\n",
        "print('Divisible by 5:')\n",
        "for num in num_list:\n",
        "    if num % 5 == 0:\n",
        "        print(num)"
      ]
    }
  ]
}