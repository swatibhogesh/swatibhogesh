{
  "nbformat": 4,
  "nbformat_minor": 0,
  "metadata": {
    "colab": {
      "provenance": [],
      "authorship_tag": "ABX9TyMZdbNLX9PXDA3S0wigvHCP",
      "include_colab_link": true
    },
    "kernelspec": {
      "name": "python3",
      "display_name": "Python 3"
    },
    "language_info": {
      "name": "python"
    }
  },
  "cells": [
    {
      "cell_type": "markdown",
      "metadata": {
        "id": "view-in-github",
        "colab_type": "text"
      },
      "source": [
        "<a href=\"https://colab.research.google.com/github/swatibhogesh/swatibhogesh/blob/main/Practice3.ipynb\" target=\"_parent\"><img src=\"https://colab.research.google.com/assets/colab-badge.svg\" alt=\"Open In Colab\"/></a>"
      ]
    },
    {
      "cell_type": "markdown",
      "source": [
        "Program to take three names as input from a user in the single input() function call."
      ],
      "metadata": {
        "id": "c53faXRejecs"
      }
    },
    {
      "cell_type": "code",
      "source": [
        "a, b, c = input(\"Enter three names: \").split()"
      ],
      "metadata": {
        "colab": {
          "base_uri": "https://localhost:8080/"
        },
        "id": "EANzajYIdt2H",
        "outputId": "a05bb506-7844-4041-ef71-702c5e3a2f04"
      },
      "execution_count": 18,
      "outputs": [
        {
          "name": "stdout",
          "output_type": "stream",
          "text": [
            "Enter three names: swati, megha, aditya\n"
          ]
        }
      ]
    },
    {
      "cell_type": "markdown",
      "source": [
        "To print the following pattern using loop"
      ],
      "metadata": {
        "id": "2ixViK4ajmH3"
      }
    },
    {
      "cell_type": "code",
      "source": [
        "rows = 5\n",
        "for i in range(1, rows + 1):\n",
        "    for j in range(1, i + 1):\n",
        "        print(j, end=' ')\n",
        "    print('')"
      ],
      "metadata": {
        "colab": {
          "base_uri": "https://localhost:8080/"
        },
        "id": "JI164HunhlK9",
        "outputId": "584feb82-717b-47e8-bd06-483032f922bb"
      },
      "execution_count": 11,
      "outputs": [
        {
          "output_type": "stream",
          "name": "stdout",
          "text": [
            "1 \n",
            "1 2 \n",
            "1 2 3 \n",
            "1 2 3 4 \n",
            "1 2 3 4 5 \n"
          ]
        }
      ]
    },
    {
      "cell_type": "markdown",
      "source": [
        "Program to accept a number from a user and calculate the sum of all numbers from 1 to a given number."
      ],
      "metadata": {
        "id": "Wpaf29Qyjr5l"
      }
    },
    {
      "cell_type": "code",
      "source": [
        "n = int(input(\"Enter number\"))\n",
        "sum = 0\n",
        "for num in range(1, n + 1, 1):\n",
        "    sum = sum + num\n",
        "print(\"Sum of numbers is: \", sum)"
      ],
      "metadata": {
        "colab": {
          "base_uri": "https://localhost:8080/"
        },
        "id": "4vYYGv-bea3n",
        "outputId": "0254d98c-6486-4148-d9a3-92553edfac15"
      },
      "execution_count": 6,
      "outputs": [
        {
          "output_type": "stream",
          "name": "stdout",
          "text": [
            "Enter number5\n",
            "Sum of numbers is:  15\n"
          ]
        }
      ]
    },
    {
      "cell_type": "markdown",
      "source": [
        "To print list in reverse order using a loop"
      ],
      "metadata": {
        "id": "q0WNkDRdjzSi"
      }
    },
    {
      "cell_type": "code",
      "source": [
        "wordList = ['hi', 'hello', 'swati', 'megha', 'teju', 'rain']\n",
        "i = len(wordList) - 1 \n",
        "# Iterate till 1st element and keep on decrementing i\n",
        "while i >= 0 :\n",
        "    print(wordList[i]) \n",
        "    i -= 1"
      ],
      "metadata": {
        "colab": {
          "base_uri": "https://localhost:8080/"
        },
        "id": "iJKglQOOf5Eb",
        "outputId": "84a51c0e-6c65-43d0-e2e0-5fb2ee13f79c"
      },
      "execution_count": 8,
      "outputs": [
        {
          "output_type": "stream",
          "name": "stdout",
          "text": [
            "rain\n",
            "teju\n",
            "megha\n",
            "swati\n",
            "hello\n",
            "hi\n"
          ]
        }
      ]
    },
    {
      "cell_type": "markdown",
      "source": [
        " Program to display all prime numbers within a range"
      ],
      "metadata": {
        "id": "CHNHWKePkBhY"
      }
    },
    {
      "cell_type": "code",
      "source": [
        "lower = 900\n",
        "upper = 1000\n",
        "\n",
        "print(\"Prime numbers between\", lower, \"and\", upper, \"are:\")\n",
        "\n",
        "for num in range(lower, upper + 1):\n",
        "   # all prime numbers are greater than 1\n",
        "   if num > 1:\n",
        "       for i in range(2, num):\n",
        "           if (num % i) == 0:\n",
        "               break\n",
        "       else:\n",
        "           print(num)"
      ],
      "metadata": {
        "colab": {
          "base_uri": "https://localhost:8080/"
        },
        "id": "AFwMeCQMgeUz",
        "outputId": "7ce7788d-7ffc-45b2-ff38-eee358b6b020"
      },
      "execution_count": 9,
      "outputs": [
        {
          "output_type": "stream",
          "name": "stdout",
          "text": [
            "Prime numbers between 900 and 1000 are:\n",
            "907\n",
            "911\n",
            "919\n",
            "929\n",
            "937\n",
            "941\n",
            "947\n",
            "953\n",
            "967\n",
            "971\n",
            "977\n",
            "983\n",
            "991\n",
            "997\n"
          ]
        }
      ]
    },
    {
      "cell_type": "markdown",
      "source": [
        "To find Factorial of a given number without using math module "
      ],
      "metadata": {
        "id": "f9R9c6BzkHaB"
      }
    },
    {
      "cell_type": "code",
      "source": [
        "#num = 7\n",
        "\n",
        "# To take input from the user\n",
        "num = int(input(\"Enter a number: \"))\n",
        "\n",
        "factorial = 1\n",
        "\n",
        "# check if the number is negative, positive or zero\n",
        "if num < 0:\n",
        "   print(\"Sorry, factorial does not exist for negative numbers\")\n",
        "elif num == 0:\n",
        "   print(\"The factorial of 0 is 1\")\n",
        "else:\n",
        "   for i in range(1,num + 1):\n",
        "       factorial = factorial*i\n",
        "   print(\"The factorial of\",num,\"is\",factorial)"
      ],
      "metadata": {
        "colab": {
          "base_uri": "https://localhost:8080/"
        },
        "id": "7c4clSSwg6EV",
        "outputId": "3994fc0a-1060-40f5-946f-b9ae5ec1ec2b"
      },
      "execution_count": 10,
      "outputs": [
        {
          "output_type": "stream",
          "name": "stdout",
          "text": [
            "Enter a number: 7\n",
            "The factorial of 7 is 5040\n"
          ]
        }
      ]
    },
    {
      "cell_type": "markdown",
      "source": [
        "To print the following pattern"
      ],
      "metadata": {
        "id": "v_W9oSq0kOcQ"
      }
    },
    {
      "cell_type": "code",
      "source": [
        "rows = 5\n",
        "for i in range(0, rows):\n",
        "    for j in range(0, i + 1):\n",
        "        print(\"*\", end=' ')\n",
        "    print(\"\\r\")\n",
        "\n",
        "for i in range(rows, 0, -1):\n",
        "    for j in range(0, i - 1):\n",
        "        print(\"*\", end=' ')\n",
        "    print(\"\\r\")"
      ],
      "metadata": {
        "colab": {
          "base_uri": "https://localhost:8080/"
        },
        "id": "daV8YHQKhJST",
        "outputId": "75ac591a-d89c-4dd9-eb7f-6bdb7467509d"
      },
      "execution_count": 12,
      "outputs": [
        {
          "output_type": "stream",
          "name": "stdout",
          "text": [
            "* \r\n",
            "* * \r\n",
            "* * * \r\n",
            "* * * * \r\n",
            "* * * * * \r\n",
            "* * * * \r\n",
            "* * * \r\n",
            "* * \r\n",
            "* \r\n",
            "\r\n"
          ]
        }
      ]
    }
  ]
}