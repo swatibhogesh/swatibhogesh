{
  "nbformat": 4,
  "nbformat_minor": 0,
  "metadata": {
    "colab": {
      "provenance": [],
      "authorship_tag": "ABX9TyM3KU6L1695rpGAEDV9r5ne",
      "include_colab_link": true
    },
    "kernelspec": {
      "name": "python3",
      "display_name": "Python 3"
    },
    "language_info": {
      "name": "python"
    }
  },
  "cells": [
    {
      "cell_type": "markdown",
      "metadata": {
        "id": "view-in-github",
        "colab_type": "text"
      },
      "source": [
        "<a href=\"https://colab.research.google.com/github/swatibhogesh/swatibhogesh/blob/main/Newlist.ipynb\" target=\"_parent\"><img src=\"https://colab.research.google.com/assets/colab-badge.svg\" alt=\"Open In Colab\"/></a>"
      ]
    },
    {
      "cell_type": "code",
      "execution_count": 2,
      "metadata": {
        "colab": {
          "base_uri": "https://localhost:8080/"
        },
        "id": "eKc4VoNXImSf",
        "outputId": "60bede7a-4b20-4ad3-8a28-055efc96537b"
      },
      "outputs": [
        {
          "output_type": "stream",
          "name": "stdout",
          "text": [
            "new_list: [25, 35, 40, 60, 90]\n"
          ]
        }
      ],
      "source": [
        "def merge_list(list1, list2):\n",
        "    new_list = []\n",
        "    \n",
        "    # iterate first list\n",
        "    for num in list1:\n",
        "        # check if current number is odd\n",
        "        if num % 2 != 0:\n",
        "            # add odd number to result list\n",
        "            new_list.append(num)\n",
        "    \n",
        "    # iterate second list\n",
        "    for num in list2:\n",
        "        # check if current number is even\n",
        "        if num % 2 == 0:\n",
        "            # add even number to result list\n",
        "            new_list.append(num)\n",
        "    return new_list\n",
        "\n",
        "list1 = [10, 20, 25, 30, 35]\n",
        "list2 = [40, 45, 60, 75, 90]\n",
        "print(\"new_list:\", merge_list(list1, list2))"
      ]
    }
  ]
}