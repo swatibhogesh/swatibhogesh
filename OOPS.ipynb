{
  "nbformat": 4,
  "nbformat_minor": 0,
  "metadata": {
    "colab": {
      "provenance": [],
      "authorship_tag": "ABX9TyM6wyjk51VFgTHBoAqjzA2o",
      "include_colab_link": true
    },
    "kernelspec": {
      "name": "python3",
      "display_name": "Python 3"
    },
    "language_info": {
      "name": "python"
    }
  },
  "cells": [
    {
      "cell_type": "markdown",
      "metadata": {
        "id": "view-in-github",
        "colab_type": "text"
      },
      "source": [
        "<a href=\"https://colab.research.google.com/github/swatibhogesh/swatibhogesh/blob/main/OOPS.ipynb\" target=\"_parent\"><img src=\"https://colab.research.google.com/assets/colab-badge.svg\" alt=\"Open In Colab\"/></a>"
      ]
    },
    {
      "cell_type": "code",
      "execution_count": null,
      "metadata": {
        "id": "E40c23Lxdiba"
      },
      "outputs": [],
      "source": [
        "#Class <ClassName>\n",
        "#statement"
      ]
    },
    {
      "cell_type": "code",
      "source": [
        "class Animals:\n",
        "  pass"
      ],
      "metadata": {
        "id": "ap8B8IbRgWm4"
      },
      "execution_count": null,
      "outputs": []
    },
    {
      "cell_type": "code",
      "source": [
        "class Person:\n",
        "\n",
        "States: Name,Gender,Profession\n",
        "Behavior : Working,Studying\n",
        "\n",
        "obj=Alex\n",
        "State\n",
        "ALex,Male,Doctor\n",
        "\n",
        "Behaviour\n",
        "Working"
      ],
      "metadata": {
        "id": "z-ua4KEEgdX-"
      },
      "execution_count": null,
      "outputs": []
    },
    {
      "cell_type": "code",
      "source": [
        "class class_name\n",
        "\"\"\"This is a sample class,created on 23rd sep\"\"\"\n",
        "#statement1\n",
        "#statement2\n",
        ".\n",
        ".\n",
        ".\n",
        "#statement3"
      ],
      "metadata": {
        "id": "vySuSl7RhnsB"
      },
      "execution_count": null,
      "outputs": []
    },
    {
      "cell_type": "code",
      "source": [
        "#Created blueprint(Class)\n",
        "class Person:\n",
        "  def __init__(self, name, Gender,Profession):\n",
        "    #data members of the class(instance variables)\n",
        "    self.name = name\n",
        "    self.Gender  = Gender\n",
        "    self.Profession = Profession\n",
        "    #Behaviour of class\n",
        "    def show(self):\n",
        "      print('Name',self.name,\"Gender\",self.Gender,\"Profession\",self.Profession)\n",
        "\n",
        "      def work(self):\n",
        "        print(self.name,\"working as\",self.Profession)"
      ],
      "metadata": {
        "id": "Fa_Vx95OiQdJ"
      },
      "execution_count": 9,
      "outputs": []
    },
    {
      "cell_type": "code",
      "source": [
        "#creating an Object\n",
        "p=Person('Swati','Female','Doctor')"
      ],
      "metadata": {
        "id": "thLTQgyUkkg7"
      },
      "execution_count": 10,
      "outputs": []
    },
    {
      "cell_type": "code",
      "source": [
        "p.show()\n",
        "\n",
        "p.work()"
      ],
      "metadata": {
        "colab": {
          "base_uri": "https://localhost:8080/",
          "height": 200
        },
        "id": "2mlc9KGimGTj",
        "outputId": "9c43a205-7b99-4313-d5f2-18cd77371339"
      },
      "execution_count": 11,
      "outputs": [
        {
          "output_type": "error",
          "ename": "AttributeError",
          "evalue": "ignored",
          "traceback": [
            "\u001b[0;31m---------------------------------------------------------------------------\u001b[0m",
            "\u001b[0;31mAttributeError\u001b[0m                            Traceback (most recent call last)",
            "\u001b[0;32m<ipython-input-11-223e8e3ed09a>\u001b[0m in \u001b[0;36m<module>\u001b[0;34m\u001b[0m\n\u001b[0;32m----> 1\u001b[0;31m \u001b[0mp\u001b[0m\u001b[0;34m.\u001b[0m\u001b[0mshow\u001b[0m\u001b[0;34m(\u001b[0m\u001b[0;34m)\u001b[0m\u001b[0;34m\u001b[0m\u001b[0;34m\u001b[0m\u001b[0m\n\u001b[0m\u001b[1;32m      2\u001b[0m \u001b[0;34m\u001b[0m\u001b[0m\n\u001b[1;32m      3\u001b[0m \u001b[0mp\u001b[0m\u001b[0;34m.\u001b[0m\u001b[0mwork\u001b[0m\u001b[0;34m(\u001b[0m\u001b[0;34m)\u001b[0m\u001b[0;34m\u001b[0m\u001b[0;34m\u001b[0m\u001b[0m\n",
            "\u001b[0;31mAttributeError\u001b[0m: 'Person' object has no attribute 'show'"
          ]
        }
      ]
    },
    {
      "cell_type": "code",
      "source": [
        "class student:\n",
        "  #class variable\n",
        "  school_name=\"XYZ School\"\n",
        "  #class constructor\n",
        "  def __init__(self,name,age):\n",
        "\n",
        "    #instance variable\n",
        "    self.name=name\n",
        "    self.age=age"
      ],
      "metadata": {
        "id": "hllSUBdhmU1Z"
      },
      "execution_count": 12,
      "outputs": []
    },
    {
      "cell_type": "code",
      "source": [
        "s1=student(\"Arjun\",15)"
      ],
      "metadata": {
        "id": "Vv6LLjN0mx4h"
      },
      "execution_count": 13,
      "outputs": []
    },
    {
      "cell_type": "code",
      "source": [
        "#accessing instance variable\n",
        "print(\"Student:\",s1.name,s1.age)"
      ],
      "metadata": {
        "colab": {
          "base_uri": "https://localhost:8080/"
        },
        "id": "nv2RyXO_m370",
        "outputId": "1f879360-0799-42de-80c5-ad2c00f1130a"
      },
      "execution_count": 14,
      "outputs": [
        {
          "output_type": "stream",
          "name": "stdout",
          "text": [
            "Student: Arjun 15\n"
          ]
        }
      ]
    },
    {
      "cell_type": "code",
      "source": [
        "#modify instance variables\n",
        "s1.name=\"Alice\"\n",
        "s1.age=18"
      ],
      "metadata": {
        "id": "dbcjTq6AnKPR"
      },
      "execution_count": 15,
      "outputs": []
    },
    {
      "cell_type": "code",
      "source": [
        "print(\"Student:\",s1.name,s1.age)"
      ],
      "metadata": {
        "colab": {
          "base_uri": "https://localhost:8080/"
        },
        "id": "DBPf4dE5nylX",
        "outputId": "4afa0914-13c1-4f5f-c057-da3656597b0a"
      },
      "execution_count": 16,
      "outputs": [
        {
          "output_type": "stream",
          "name": "stdout",
          "text": [
            "Student: Alice 18\n"
          ]
        }
      ]
    },
    {
      "cell_type": "code",
      "source": [
        "#Modify class varibles\n",
        "#<classname><class variable name>=<value>\n",
        "\n",
        "student.school_name = \"ABC SChool\""
      ],
      "metadata": {
        "id": "A8xPl9Isn_2T"
      },
      "execution_count": 17,
      "outputs": []
    },
    {
      "cell_type": "code",
      "source": [
        "print(\"school name:\",student.school_name)"
      ],
      "metadata": {
        "colab": {
          "base_uri": "https://localhost:8080/"
        },
        "id": "3Dk3TUK4olIE",
        "outputId": "86b3935a-8738-4509-9b60-cae8e2ed8cf8"
      },
      "execution_count": 20,
      "outputs": [
        {
          "output_type": "stream",
          "name": "stdout",
          "text": [
            "school name: ABC SChool\n"
          ]
        }
      ]
    },
    {
      "cell_type": "markdown",
      "source": [
        "Write a Python class named Student with two attributes student_id, student_name. Add a new attribute student_class and display the entire attribute and their values of the said class. Now remove the student_name attribute and display the entire attribute with values."
      ],
      "metadata": {
        "id": "a03zCcrAujXb"
      }
    },
    {
      "cell_type": "code",
      "source": [
        "class student:\n",
        "  def __init__(self,student_id,student_name):\n",
        "\n",
        "    #instance variable\n",
        "    self.student_id=student_id\n",
        "    self.student_name=student_name"
      ],
      "metadata": {
        "id": "9p20gkOkuk8j"
      },
      "execution_count": 6,
      "outputs": []
    },
    {
      "cell_type": "code",
      "source": [
        "s=student(20018,\"Swati\")"
      ],
      "metadata": {
        "id": "suG1mMuEvUKs"
      },
      "execution_count": 7,
      "outputs": []
    },
    {
      "cell_type": "code",
      "source": [
        "print(\"Student:\",s.student_id,s.student_name)"
      ],
      "metadata": {
        "colab": {
          "base_uri": "https://localhost:8080/"
        },
        "id": "4Wply7KmvkxR",
        "outputId": "1c9fcb3a-3f9d-472d-b0cc-3881a23ad0ab"
      },
      "execution_count": 8,
      "outputs": [
        {
          "output_type": "stream",
          "name": "stdout",
          "text": [
            "Student: 20018 Swati\n"
          ]
        }
      ]
    },
    {
      "cell_type": "code",
      "source": [
        "class student:\n",
        "  def __init__(self,student_id,student_name,student_class):\n",
        "\n",
        "    self.student_id=student_id\n",
        "    self.student_name=student_name\n",
        "    self.student_class=student_class"
      ],
      "metadata": {
        "id": "J-ddErhz-thM"
      },
      "execution_count": 9,
      "outputs": []
    },
    {
      "cell_type": "code",
      "source": [
        "s=student(20018,\"Swati\",5)"
      ],
      "metadata": {
        "id": "04oZv_sn_gya"
      },
      "execution_count": 12,
      "outputs": []
    },
    {
      "cell_type": "code",
      "source": [
        "print(\"Student ID:\",s.student_id,\"\\nStudent Name:\",s.student_name,\"\\nStudent Class:\",s.student_class)"
      ],
      "metadata": {
        "colab": {
          "base_uri": "https://localhost:8080/"
        },
        "id": "4pjQmfzc_mlX",
        "outputId": "525c739e-6355-4f88-be13-09853c8026e9"
      },
      "execution_count": 13,
      "outputs": [
        {
          "output_type": "stream",
          "name": "stdout",
          "text": [
            "Student ID: 20018 \n",
            "Student Name: Swati \n",
            "Student Class: 5\n"
          ]
        }
      ]
    },
    {
      "cell_type": "code",
      "source": [
        "del s.student_name"
      ],
      "metadata": {
        "id": "WvoE86O9ALXa"
      },
      "execution_count": 14,
      "outputs": []
    },
    {
      "cell_type": "code",
      "source": [
        "print(\"Student ID:\",s.student_id,\"\\nStudent Class:\",s.student_class)"
      ],
      "metadata": {
        "colab": {
          "base_uri": "https://localhost:8080/"
        },
        "id": "3CUzoAduAO2m",
        "outputId": "c8e58b60-c313-491b-9b67-1bc8e4d987f9"
      },
      "execution_count": 15,
      "outputs": [
        {
          "output_type": "stream",
          "name": "stdout",
          "text": [
            "Student ID: 20018 \n",
            "Student Class: 5\n"
          ]
        }
      ]
    },
    {
      "cell_type": "markdown",
      "source": [
        "2.Write a python class to implement pow(x,n)"
      ],
      "metadata": {
        "id": "W-dOdtX0uDb0"
      }
    },
    {
      "cell_type": "code",
      "source": [
        "class power:\n",
        "  x=2\n",
        "  n=-1\n",
        "  z=x**n\n",
        "  def pow_r(self):\n",
        "    print(\"Pow(x,n);\",self.z)\n",
        "p=power()\n",
        "p.pow_r()\n"
      ],
      "metadata": {
        "colab": {
          "base_uri": "https://localhost:8080/"
        },
        "id": "o-9lcupYudIu",
        "outputId": "3c9da1f3-4e72-4f06-e456-1bb59fc1faae"
      },
      "execution_count": 78,
      "outputs": [
        {
          "output_type": "stream",
          "name": "stdout",
          "text": [
            "Pow(x,n); 0.5\n"
          ]
        }
      ]
    },
    {
      "cell_type": "code",
      "source": [
        "class Student:\n",
        "  student_id = 230089\n",
        "  student_name = 'Swati'\n",
        "Student.student_class = \"Five\"\n",
        "print(Student.student_id)\n",
        "print(Student.student_name)\n",
        "print(Student.student_class)\n",
        "del Student.student_name\n",
        "print(\"Student Id:\",Student.student_id,\"Student_class:\",Student.student_class)"
      ],
      "metadata": {
        "colab": {
          "base_uri": "https://localhost:8080/"
        },
        "id": "YsMcRy0h9fZT",
        "outputId": "09b94aad-3528-44e4-a05f-8b99a579780d"
      },
      "execution_count": 16,
      "outputs": [
        {
          "output_type": "stream",
          "name": "stdout",
          "text": [
            "230089\n",
            "Swati\n",
            "Five\n",
            "Student Id: 230089 Student_class: Five\n"
          ]
        }
      ]
    },
    {
      "cell_type": "markdown",
      "source": [
        "Types of variables\n",
        "1.Instance\n",
        "2.Static\n",
        "3.Local\n",
        "4.Global"
      ],
      "metadata": {
        "id": "2Oy4s0AXgTgQ"
      }
    },
    {
      "cell_type": "code",
      "source": [
        "class student:\n",
        "  #class variable\n",
        "  school_name=\"XYZ School\"\n",
        "  #class constructor\n",
        "  def __init__(self,name,age):\n",
        "\n",
        "    #instance variable\n",
        "    self.name=name\n",
        "    self.age=age"
      ],
      "metadata": {
        "id": "eNvT_nwPgttH"
      },
      "execution_count": 17,
      "outputs": []
    },
    {
      "cell_type": "code",
      "source": [
        "t1=student(\"kiran\",00)"
      ],
      "metadata": {
        "id": "OloJJ5FPgj2D"
      },
      "execution_count": 18,
      "outputs": []
    },
    {
      "cell_type": "code",
      "source": [
        "print(\"Name:\",t1.name,\"Age:\",t1.age)"
      ],
      "metadata": {
        "colab": {
          "base_uri": "https://localhost:8080/"
        },
        "id": "7jptZ0UEg0OH",
        "outputId": "096f2ee3-d3a5-450e-94ee-491b7dff6a87"
      },
      "execution_count": 19,
      "outputs": [
        {
          "output_type": "stream",
          "name": "stdout",
          "text": [
            "Name: kiran Age: 0\n"
          ]
        }
      ]
    },
    {
      "cell_type": "code",
      "source": [
        "class Account:\n",
        "  def f1(self,a,b):\n",
        "    self.accno=a\n",
        "    self.b_name=\"ABC\"\n",
        "    self.balance=b\n",
        "\n"
      ],
      "metadata": {
        "id": "MeND7R92iGAs"
      },
      "execution_count": 32,
      "outputs": []
    },
    {
      "cell_type": "code",
      "source": [
        "acc1=Account()"
      ],
      "metadata": {
        "id": "V6v6M3f9iSRA"
      },
      "execution_count": 25,
      "outputs": []
    },
    {
      "cell_type": "code",
      "source": [
        "acc1.accno=100"
      ],
      "metadata": {
        "id": "Uwfe4WHZilca"
      },
      "execution_count": 26,
      "outputs": []
    },
    {
      "cell_type": "code",
      "source": [
        "#acc1.balance=1000\n",
        "#acc1.name=\"swati\"\n",
        "acc1.b_names=\"XYZ\""
      ],
      "metadata": {
        "id": "ono297Cjin7W"
      },
      "execution_count": 33,
      "outputs": []
    },
    {
      "cell_type": "code",
      "source": [
        "print(acc1.__dict__)#dunder function"
      ],
      "metadata": {
        "colab": {
          "base_uri": "https://localhost:8080/"
        },
        "id": "7RmyQjDDir1S",
        "outputId": "4efa67ed-a4de-46eb-b66c-299f151da880"
      },
      "execution_count": 34,
      "outputs": [
        {
          "output_type": "stream",
          "name": "stdout",
          "text": [
            "{'accno': 100, 'balance': 1000, 'name': 'swati', 'b_names': 'XYZ'}\n"
          ]
        }
      ]
    },
    {
      "cell_type": "code",
      "source": [
        "#Static\n",
        "#are not obkject specific\n",
        "#shared variables among all the objects"
      ],
      "metadata": {
        "id": "6PQg2DQNkUoz"
      },
      "execution_count": 36,
      "outputs": []
    },
    {
      "cell_type": "code",
      "source": [
        "class Employee:\n",
        "  def __init__(self):  #constructor\n",
        "    self.name=\"Kiran\"\n",
        "    self.company=\"ABC\"\n",
        "    self.address=\"UK\"\n",
        "    #del self.company"
      ],
      "metadata": {
        "id": "nhs1HklLkdH0"
      },
      "execution_count": 49,
      "outputs": []
    },
    {
      "cell_type": "code",
      "source": [
        "e=Employee()"
      ],
      "metadata": {
        "id": "-4UOGyG3mDkZ"
      },
      "execution_count": 50,
      "outputs": []
    },
    {
      "cell_type": "code",
      "source": [
        "print(\"Name of Employee:\",e.name)\n",
        "print(\"Name of Company:\",e.company)\n",
        "print(\"Address of the Employee:\",e.address)"
      ],
      "metadata": {
        "colab": {
          "base_uri": "https://localhost:8080/"
        },
        "id": "kbXRSIzumJ7Z",
        "outputId": "9fb88f23-bd9c-40a3-bcca-dc13d11556d8"
      },
      "execution_count": 51,
      "outputs": [
        {
          "output_type": "stream",
          "name": "stdout",
          "text": [
            "Name of Employee: Kiran\n",
            "Name of Company: ABC\n",
            "Address of the Employee: UK\n"
          ]
        }
      ]
    },
    {
      "cell_type": "code",
      "source": [
        "print(e.__dict__)"
      ],
      "metadata": {
        "colab": {
          "base_uri": "https://localhost:8080/"
        },
        "id": "O_E4hkxlmwYZ",
        "outputId": "1a6ae569-616f-4df6-a0a4-3b4f4e0b74d2"
      },
      "execution_count": 41,
      "outputs": [
        {
          "output_type": "stream",
          "name": "stdout",
          "text": [
            "{'name': 'Kiran', 'company': 'ABC', 'address': 'UK'}\n"
          ]
        }
      ]
    },
    {
      "cell_type": "code",
      "source": [
        "#deleting any instance variable\n",
        "del e.company"
      ],
      "metadata": {
        "id": "_79hlnOUm05P"
      },
      "execution_count": 42,
      "outputs": []
    },
    {
      "cell_type": "code",
      "source": [
        "print(e.__dict__)"
      ],
      "metadata": {
        "colab": {
          "base_uri": "https://localhost:8080/"
        },
        "id": "APPf-D4rm65_",
        "outputId": "d8b629ba-95de-4138-edb5-5a9b11fe61ac"
      },
      "execution_count": 43,
      "outputs": [
        {
          "output_type": "stream",
          "name": "stdout",
          "text": [
            "{'name': 'Kiran', 'address': 'UK'}\n"
          ]
        }
      ]
    },
    {
      "cell_type": "code",
      "source": [
        "e1=Employee()"
      ],
      "metadata": {
        "id": "mXJWZdIvm-3D"
      },
      "execution_count": 44,
      "outputs": []
    },
    {
      "cell_type": "code",
      "source": [
        "e1.__dict__"
      ],
      "metadata": {
        "colab": {
          "base_uri": "https://localhost:8080/"
        },
        "id": "TAZUwKuwnLMO",
        "outputId": "a9c9e13c-81f8-4ac4-a549-9be41bb7ec07"
      },
      "execution_count": 45,
      "outputs": [
        {
          "output_type": "execute_result",
          "data": {
            "text/plain": [
              "{'name': 'Kiran', 'company': 'ABC', 'address': 'UK'}"
            ]
          },
          "metadata": {},
          "execution_count": 45
        }
      ]
    },
    {
      "cell_type": "code",
      "source": [
        "class Employee:\n",
        "  company=\"XYZ\"\n",
        "  emp_id=3000\n",
        "  def __init__(self):  #constructor\n",
        "    self.name=\"Kiran\"\n",
        "    self.address=\"UK\"\n",
        "\n",
        "    @classmethod\n",
        "    def PropertiesInfo(cls):\n",
        "      print(\"Name of the Company\",Employee.company)\n",
        "      print(\"Employee ID\",cls.emp_id)\n"
      ],
      "metadata": {
        "id": "AHwJaH0VoltP"
      },
      "execution_count": 59,
      "outputs": []
    },
    {
      "cell_type": "code",
      "source": [
        "e=Employee()"
      ],
      "metadata": {
        "id": "C3igQa2ypkf9"
      },
      "execution_count": 60,
      "outputs": []
    },
    {
      "cell_type": "code",
      "source": [
        "e.PropertiesInfo()\n",
        "#Employees.propertiesInfo"
      ],
      "metadata": {
        "colab": {
          "base_uri": "https://localhost:8080/",
          "height": 183
        },
        "id": "hSv8r8C0pnTQ",
        "outputId": "80429f60-fc2c-4125-914a-61cc1dba3d28"
      },
      "execution_count": 61,
      "outputs": [
        {
          "output_type": "error",
          "ename": "AttributeError",
          "evalue": "ignored",
          "traceback": [
            "\u001b[0;31m---------------------------------------------------------------------------\u001b[0m",
            "\u001b[0;31mAttributeError\u001b[0m                            Traceback (most recent call last)",
            "\u001b[0;32m<ipython-input-61-20f2cdf8dbd1>\u001b[0m in \u001b[0;36m<module>\u001b[0;34m\u001b[0m\n\u001b[0;32m----> 1\u001b[0;31m \u001b[0me\u001b[0m\u001b[0;34m.\u001b[0m\u001b[0mPropertiesInfo\u001b[0m\u001b[0;34m(\u001b[0m\u001b[0;34m)\u001b[0m\u001b[0;34m\u001b[0m\u001b[0;34m\u001b[0m\u001b[0m\n\u001b[0m\u001b[1;32m      2\u001b[0m \u001b[0;31m#Employees.propertiesInfo\u001b[0m\u001b[0;34m\u001b[0m\u001b[0;34m\u001b[0m\u001b[0;34m\u001b[0m\u001b[0m\n",
            "\u001b[0;31mAttributeError\u001b[0m: 'Employee' object has no attribute 'PropertiesInfo'"
          ]
        }
      ]
    },
    {
      "cell_type": "code",
      "source": [
        "class Employee:\n",
        "  company='ABC' #Declaring outside of any method\n",
        "  def __init__(self,name):\n",
        "    Employee.location = 'India' #Declaring inside a constructor\n",
        "\n",
        "    def showDetails(self):\n",
        "      Employee.salary=10000 #Declaring inside a instance method\n",
        "\n",
        "    @staticmethod\n",
        "    def machineSerialNum():\n",
        "      Employee.mach_serial_num=123 #Declaring inside a static method"
      ],
      "metadata": {
        "id": "qcDm61G0qY3M"
      },
      "execution_count": 63,
      "outputs": []
    },
    {
      "cell_type": "code",
      "source": [
        "e=Employee()"
      ],
      "metadata": {
        "colab": {
          "base_uri": "https://localhost:8080/",
          "height": 165
        },
        "id": "C-Pliblrq6uP",
        "outputId": "e0dddf87-cdda-4572-88ea-581d002430f4"
      },
      "execution_count": 70,
      "outputs": [
        {
          "output_type": "error",
          "ename": "TypeError",
          "evalue": "ignored",
          "traceback": [
            "\u001b[0;31m---------------------------------------------------------------------------\u001b[0m",
            "\u001b[0;31mTypeError\u001b[0m                                 Traceback (most recent call last)",
            "\u001b[0;32m<ipython-input-70-5fac6668e8c9>\u001b[0m in \u001b[0;36m<module>\u001b[0;34m\u001b[0m\n\u001b[0;32m----> 1\u001b[0;31m \u001b[0me\u001b[0m\u001b[0;34m=\u001b[0m\u001b[0mEmployee\u001b[0m\u001b[0;34m(\u001b[0m\u001b[0;34m)\u001b[0m\u001b[0;34m\u001b[0m\u001b[0;34m\u001b[0m\u001b[0m\n\u001b[0m",
            "\u001b[0;31mTypeError\u001b[0m: __init__() missing 1 required positional argument: 'name'"
          ]
        }
      ]
    },
    {
      "cell_type": "code",
      "source": [
        "e.name=\"Kiran\""
      ],
      "metadata": {
        "id": "LvIM-HZHsTzO"
      },
      "execution_count": 71,
      "outputs": []
    },
    {
      "cell_type": "code",
      "source": [
        "e.__dict__"
      ],
      "metadata": {
        "colab": {
          "base_uri": "https://localhost:8080/"
        },
        "id": "SV_tKeJpsX7T",
        "outputId": "20ea22c2-1b82-4515-913e-78dba0569bb7"
      },
      "execution_count": 72,
      "outputs": [
        {
          "output_type": "execute_result",
          "data": {
            "text/plain": [
              "{'name': 'Kiran', 'address': 'UK'}"
            ]
          },
          "metadata": {},
          "execution_count": 72
        }
      ]
    }
  ]
}