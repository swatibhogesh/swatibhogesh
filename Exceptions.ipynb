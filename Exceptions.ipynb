{
  "nbformat": 4,
  "nbformat_minor": 0,
  "metadata": {
    "colab": {
      "provenance": [],
      "authorship_tag": "ABX9TyPMI1qvI/uHvNN/P3cmvY5j",
      "include_colab_link": true
    },
    "kernelspec": {
      "name": "python3",
      "display_name": "Python 3"
    },
    "language_info": {
      "name": "python"
    }
  },
  "cells": [
    {
      "cell_type": "markdown",
      "metadata": {
        "id": "view-in-github",
        "colab_type": "text"
      },
      "source": [
        "<a href=\"https://colab.research.google.com/github/swatibhogesh/swatibhogesh/blob/main/Exceptions.ipynb\" target=\"_parent\"><img src=\"https://colab.research.google.com/assets/colab-badge.svg\" alt=\"Open In Colab\"/></a>"
      ]
    },
    {
      "cell_type": "code",
      "execution_count": null,
      "metadata": {
        "colab": {
          "base_uri": "https://localhost:8080/"
        },
        "id": "jnctlxK5u-7-",
        "outputId": "ff5a8dee-3497-4104-b431-f799889b4c95"
      },
      "outputs": [
        {
          "output_type": "stream",
          "name": "stdout",
          "text": [
            "Enter first number4\n",
            "Enter second number6\n",
            "sum is 10\n"
          ]
        }
      ],
      "source": [
        "a= int(input(\"Enter first number\"))\n",
        "b= int(input(\"Enter second number\"))\n",
        "print(\"sum is\",a+b)"
      ]
    },
    {
      "cell_type": "code",
      "source": [
        "a= int(input(\"Enter first number\"))\n",
        "b= input(\"Enter second number\")\n",
        "print(\"sum is\",a+b)"
      ],
      "metadata": {
        "colab": {
          "base_uri": "https://localhost:8080/",
          "height": 235
        },
        "id": "pzbMyD9tyULU",
        "outputId": "f036c179-ff71-4fa9-cf93-6a6d5f8e2e69"
      },
      "execution_count": null,
      "outputs": [
        {
          "name": "stdout",
          "output_type": "stream",
          "text": [
            "Enter first number4\n",
            "Enter second number8\n"
          ]
        },
        {
          "output_type": "error",
          "ename": "TypeError",
          "evalue": "ignored",
          "traceback": [
            "\u001b[0;31m---------------------------------------------------------------------------\u001b[0m",
            "\u001b[0;31mTypeError\u001b[0m                                 Traceback (most recent call last)",
            "\u001b[0;32m<ipython-input-4-13f1a511beb2>\u001b[0m in \u001b[0;36m<module>\u001b[0;34m\u001b[0m\n\u001b[1;32m      1\u001b[0m \u001b[0ma\u001b[0m\u001b[0;34m=\u001b[0m \u001b[0mint\u001b[0m\u001b[0;34m(\u001b[0m\u001b[0minput\u001b[0m\u001b[0;34m(\u001b[0m\u001b[0;34m\"Enter first number\"\u001b[0m\u001b[0;34m)\u001b[0m\u001b[0;34m)\u001b[0m\u001b[0;34m\u001b[0m\u001b[0;34m\u001b[0m\u001b[0m\n\u001b[1;32m      2\u001b[0m \u001b[0mb\u001b[0m\u001b[0;34m=\u001b[0m \u001b[0minput\u001b[0m\u001b[0;34m(\u001b[0m\u001b[0;34m\"Enter second number\"\u001b[0m\u001b[0;34m)\u001b[0m\u001b[0;34m\u001b[0m\u001b[0;34m\u001b[0m\u001b[0m\n\u001b[0;32m----> 3\u001b[0;31m \u001b[0mprint\u001b[0m\u001b[0;34m(\u001b[0m\u001b[0;34m\"sum is\"\u001b[0m\u001b[0;34m,\u001b[0m\u001b[0ma\u001b[0m\u001b[0;34m+\u001b[0m\u001b[0mb\u001b[0m\u001b[0;34m)\u001b[0m\u001b[0;34m\u001b[0m\u001b[0;34m\u001b[0m\u001b[0m\n\u001b[0m",
            "\u001b[0;31mTypeError\u001b[0m: unsupported operand type(s) for +: 'int' and 'str'"
          ]
        }
      ]
    },
    {
      "cell_type": "code",
      "source": [],
      "metadata": {
        "id": "M3F_I6R1yis8"
      },
      "execution_count": null,
      "outputs": []
    },
    {
      "cell_type": "code",
      "source": [
        "a= int(input(\"Enter first number\"))\n",
        "b=int(input(\"Enter second number\"))\n",
        "print(\"Division result\",a/b)"
      ],
      "metadata": {
        "colab": {
          "base_uri": "https://localhost:8080/",
          "height": 235
        },
        "id": "0WlY3uJvykem",
        "outputId": "13d73870-34cc-4b07-a0c3-8c823ca1a6fe"
      },
      "execution_count": null,
      "outputs": [
        {
          "name": "stdout",
          "output_type": "stream",
          "text": [
            "Enter first number7\n",
            "Enter second number0\n"
          ]
        },
        {
          "output_type": "error",
          "ename": "ZeroDivisionError",
          "evalue": "ignored",
          "traceback": [
            "\u001b[0;31m---------------------------------------------------------------------------\u001b[0m",
            "\u001b[0;31mZeroDivisionError\u001b[0m                         Traceback (most recent call last)",
            "\u001b[0;32m<ipython-input-6-d754be487864>\u001b[0m in \u001b[0;36m<module>\u001b[0;34m\u001b[0m\n\u001b[1;32m      1\u001b[0m \u001b[0ma\u001b[0m\u001b[0;34m=\u001b[0m \u001b[0mint\u001b[0m\u001b[0;34m(\u001b[0m\u001b[0minput\u001b[0m\u001b[0;34m(\u001b[0m\u001b[0;34m\"Enter first number\"\u001b[0m\u001b[0;34m)\u001b[0m\u001b[0;34m)\u001b[0m\u001b[0;34m\u001b[0m\u001b[0;34m\u001b[0m\u001b[0m\n\u001b[1;32m      2\u001b[0m \u001b[0mb\u001b[0m\u001b[0;34m=\u001b[0m\u001b[0mint\u001b[0m\u001b[0;34m(\u001b[0m\u001b[0minput\u001b[0m\u001b[0;34m(\u001b[0m\u001b[0;34m\"Enter second number\"\u001b[0m\u001b[0;34m)\u001b[0m\u001b[0;34m)\u001b[0m\u001b[0;34m\u001b[0m\u001b[0;34m\u001b[0m\u001b[0m\n\u001b[0;32m----> 3\u001b[0;31m \u001b[0mprint\u001b[0m\u001b[0;34m(\u001b[0m\u001b[0;34m\"Division result\"\u001b[0m\u001b[0;34m,\u001b[0m\u001b[0ma\u001b[0m\u001b[0;34m/\u001b[0m\u001b[0mb\u001b[0m\u001b[0;34m)\u001b[0m\u001b[0;34m\u001b[0m\u001b[0;34m\u001b[0m\u001b[0m\n\u001b[0m",
            "\u001b[0;31mZeroDivisionError\u001b[0m: division by zero"
          ]
        }
      ]
    },
    {
      "cell_type": "code",
      "source": [
        "#raise\n",
        "#try, except\n",
        "\n",
        "try:\n",
        "  a=9\n",
        "  b='0'\n",
        "  print(a/b)\n",
        "# exception raised-> execute block gets executed\n",
        "except:\n",
        "  print('Some error occured')\n",
        "\n",
        "print('out of try except blocks')"
      ],
      "metadata": {
        "colab": {
          "base_uri": "https://localhost:8080/"
        },
        "id": "9q6nDx12y5k1",
        "outputId": "ed73ff4f-2539-4eac-d7fc-dd729bb30cd7"
      },
      "execution_count": null,
      "outputs": [
        {
          "output_type": "stream",
          "name": "stdout",
          "text": [
            "Some error occured\n",
            "out of try except blocks\n"
          ]
        }
      ]
    },
    {
      "cell_type": "code",
      "source": [
        "try:\n",
        "  a=int(input(\"enter first number\"))\n",
        "  b=int(input(\"enter second number\"))\n",
        "  print(a/b)\n",
        "\n",
        "except:\n",
        "  print('Enter a number')  \n",
        "\n",
        "print('out of try except block')"
      ],
      "metadata": {
        "colab": {
          "base_uri": "https://localhost:8080/"
        },
        "id": "TZcm5_bVzCDa",
        "outputId": "baf7bd6e-cc82-4d4c-f690-01ffb1c9c498"
      },
      "execution_count": null,
      "outputs": [
        {
          "output_type": "stream",
          "name": "stdout",
          "text": [
            "enter first number5\n",
            "enter second number1\n",
            "5.0\n",
            "out of try except block\n"
          ]
        }
      ]
    },
    {
      "cell_type": "code",
      "source": [
        "try:\n",
        "  a=int(input(\"enter first number\"))\n",
        "  b=input(\"enter second number\")\n",
        "  print(a/b)\n",
        "  print(\"sum is\",a+b)\n",
        "\n",
        "except ZeroDivisionError:\n",
        "  print('Enter a number other than zero')\n",
        "except ValueError:\n",
        "  print('Enter a number only') \n",
        "except TypeError:\n",
        "  print('Enter a  correct')   \n",
        "\n",
        "print('this is out of try except block')"
      ],
      "metadata": {
        "colab": {
          "base_uri": "https://localhost:8080/"
        },
        "id": "rH_jxCHazXcF",
        "outputId": "9f3a7dde-f686-48f7-c47f-8ddab87838d8"
      },
      "execution_count": null,
      "outputs": [
        {
          "output_type": "stream",
          "name": "stdout",
          "text": [
            "enter first number6\n",
            "enter second numberh\n",
            "Enter a  correct\n",
            "this is out of try except block\n"
          ]
        }
      ]
    },
    {
      "cell_type": "code",
      "source": [
        "try:\n",
        "  a=int(input(\"enter first number\"))\n",
        "  b=int(input(\"enter second number\"))\n",
        "  print(a/b)\n",
        "  print(\"sum is\",a+b)\n",
        "\n",
        "except ZeroDivisionError:\n",
        "  print('Enter a number other than zero')\n",
        "except ValueError:\n",
        "  print('Enter a number only') \n",
        "except TypeError:\n",
        "  print('Enter a  correct')   \n",
        "\n",
        "print('this is out of try except block')"
      ],
      "metadata": {
        "colab": {
          "base_uri": "https://localhost:8080/"
        },
        "id": "u9tKzo5Dz0I9",
        "outputId": "41d16daf-9d9c-488c-fb82-f4c9b63de3d9"
      },
      "execution_count": null,
      "outputs": [
        {
          "output_type": "stream",
          "name": "stdout",
          "text": [
            "enter first number5\n",
            "enter second number0\n",
            "Enter a number other than zero\n",
            "this is out of try except block\n"
          ]
        }
      ]
    },
    {
      "cell_type": "code",
      "source": [
        "#else, finally\n",
        "\n",
        "try:\n",
        "  a=int(input(\"enter first value\"))\n",
        "  b=int(input(\"enter second value\"))\n",
        "  c=(a/b)\n",
        "  \n",
        "\n",
        "except ZeroDivisionError:\n",
        "  print('Enter a number other than zero')\n",
        "except ValueError:\n",
        "  print('Enter a number only') \n",
        "except TypeError:\n",
        "  print('Enter a  correct')\n",
        "\n",
        "\n",
        "else:  \n",
        "  print('else block')\n",
        "  print('Division=',c)"
      ],
      "metadata": {
        "colab": {
          "base_uri": "https://localhost:8080/"
        },
        "id": "u32FKWK00WZo",
        "outputId": "e6cbf9de-c1ab-4dec-aa73-ec6d69091def"
      },
      "execution_count": null,
      "outputs": [
        {
          "output_type": "stream",
          "name": "stdout",
          "text": [
            "enter first value5\n",
            "enter second value5\n",
            "else block\n",
            "Division= 1.0\n"
          ]
        }
      ]
    },
    {
      "cell_type": "code",
      "source": [
        "#else, finally\n",
        "\n",
        "try:\n",
        "  a=int(input(\"enter first value\"))\n",
        "  b=int(input(\"enter second value\"))\n",
        "  c=(a/b)\n",
        "  \n",
        "\n",
        "except ZeroDivisionError:\n",
        "  print('Enter a number other than zero')\n",
        "except ValueError:\n",
        "  print('Enter a number only') \n",
        "except TypeError:\n",
        "  print('Enter a  correct')\n",
        "\n",
        "\n",
        "else:  \n",
        "  print('else block')\n",
        "  print('Division=',c)"
      ],
      "metadata": {
        "colab": {
          "base_uri": "https://localhost:8080/"
        },
        "id": "SkBP7OS70dJu",
        "outputId": "531774c6-65d9-4fc0-94ff-d9128484a24d"
      },
      "execution_count": null,
      "outputs": [
        {
          "output_type": "stream",
          "name": "stdout",
          "text": [
            "enter first value5\n",
            "enter second value0\n",
            "Enter a number other than zero\n"
          ]
        }
      ]
    },
    {
      "cell_type": "code",
      "source": [
        "try:\n",
        "  a=int(input(\"enter first value\"))\n",
        "  b=int(input(\"enter second value\"))\n",
        "  c=(a/b)\n",
        "  \n",
        "\n",
        "except ZeroDivisionError:\n",
        "  print('Enter a number other than zero')\n",
        "except ValueError:\n",
        "  print('Enter a number only') \n",
        "except TypeError:\n",
        "  print('Enter a  correct')\n",
        "\n",
        "\n",
        "#else:  \n",
        "  print('else block')\n",
        "  print('Division=',c)\n",
        "\n",
        "\n",
        "finally:\n",
        "  print(\"finally block\")\n",
        "print('out of my try, except, else,finally block')"
      ],
      "metadata": {
        "colab": {
          "base_uri": "https://localhost:8080/"
        },
        "id": "vilqL2fD0l3Z",
        "outputId": "dabc1db6-e840-4945-b498-330cca9e12df"
      },
      "execution_count": null,
      "outputs": [
        {
          "output_type": "stream",
          "name": "stdout",
          "text": [
            "enter first value3\n",
            "enter second value4\n",
            "finally block\n",
            "out of my try, except, else,finally block\n"
          ]
        }
      ]
    },
    {
      "cell_type": "code",
      "source": [
        "try:\n",
        "  a=int(input(\"enter first value\"))\n",
        "  b=input(\"enter second value\")\n",
        "  c=(a/b)\n",
        "  \n",
        "\n",
        "except ZeroDivisionError:\n",
        "  print('Enter a number other than zero')\n",
        "except ValueError:\n",
        "  print('Enter a number only') \n",
        "except TypeError:\n",
        "  print('Enter a  correct')\n",
        "\n",
        "\n",
        "else:  \n",
        "  print('else block')\n",
        "  print('Division=',c)\n",
        "\n",
        "\n",
        "finally:\n",
        "  print(\"finally block\")\n",
        "print('out of my try, except, else,finally block')"
      ],
      "metadata": {
        "colab": {
          "base_uri": "https://localhost:8080/"
        },
        "id": "C4C61vyP0vJs",
        "outputId": "275c48a1-4bf6-4ddd-ec5b-5e2fae961977"
      },
      "execution_count": null,
      "outputs": [
        {
          "output_type": "stream",
          "name": "stdout",
          "text": [
            "enter first value7\n",
            "enter second value9\n",
            "Enter a  correct\n",
            "finally block\n",
            "out of my try, except, else,finally block\n"
          ]
        }
      ]
    },
    {
      "cell_type": "code",
      "source": [
        "from ast import Raise\n",
        "x=int(input())\n",
        "y=input()\n",
        "try:\n",
        "  if y==0: \n",
        "     raise ZeroDivisionError()  \n",
        "  z=x/y\n",
        "  print(\"Divison =\",z)\n",
        "\n",
        "except ZeroDivisionError:\n",
        "  print(\"you cannot divide by zero\")\n",
        "\n",
        "\n",
        "\n",
        "finally:\n",
        "  print(\"finally block\")"
      ],
      "metadata": {
        "colab": {
          "base_uri": "https://localhost:8080/",
          "height": 287
        },
        "id": "KdRMYoqZ02zV",
        "outputId": "d7e5a167-91fd-4c3f-fc3d-9594f2b78ef0"
      },
      "execution_count": null,
      "outputs": [
        {
          "output_type": "stream",
          "name": "stdout",
          "text": [
            "8\n",
            "0\n",
            "finally block\n"
          ]
        },
        {
          "output_type": "error",
          "ename": "TypeError",
          "evalue": "ignored",
          "traceback": [
            "\u001b[0;31m---------------------------------------------------------------------------\u001b[0m",
            "\u001b[0;31mTypeError\u001b[0m                                 Traceback (most recent call last)",
            "\u001b[0;32m<ipython-input-17-d1f195e517a1>\u001b[0m in \u001b[0;36m<module>\u001b[0;34m\u001b[0m\n\u001b[1;32m      5\u001b[0m   \u001b[0;32mif\u001b[0m \u001b[0my\u001b[0m\u001b[0;34m==\u001b[0m\u001b[0;36m0\u001b[0m\u001b[0;34m:\u001b[0m\u001b[0;34m\u001b[0m\u001b[0;34m\u001b[0m\u001b[0m\n\u001b[1;32m      6\u001b[0m      \u001b[0;32mraise\u001b[0m \u001b[0mZeroDivisionError\u001b[0m\u001b[0;34m(\u001b[0m\u001b[0;34m)\u001b[0m\u001b[0;34m\u001b[0m\u001b[0;34m\u001b[0m\u001b[0m\n\u001b[0;32m----> 7\u001b[0;31m   \u001b[0mz\u001b[0m\u001b[0;34m=\u001b[0m\u001b[0mx\u001b[0m\u001b[0;34m/\u001b[0m\u001b[0my\u001b[0m\u001b[0;34m\u001b[0m\u001b[0;34m\u001b[0m\u001b[0m\n\u001b[0m\u001b[1;32m      8\u001b[0m   \u001b[0mprint\u001b[0m\u001b[0;34m(\u001b[0m\u001b[0;34m\"Divison =\"\u001b[0m\u001b[0;34m,\u001b[0m\u001b[0mz\u001b[0m\u001b[0;34m)\u001b[0m\u001b[0;34m\u001b[0m\u001b[0;34m\u001b[0m\u001b[0m\n\u001b[1;32m      9\u001b[0m \u001b[0;34m\u001b[0m\u001b[0m\n",
            "\u001b[0;31mTypeError\u001b[0m: unsupported operand type(s) for /: 'int' and 'str'"
          ]
        }
      ]
    },
    {
      "cell_type": "code",
      "source": [
        "#Nesting of try block\n",
        "\n",
        "\n",
        "try:\n",
        "  print(\"line1\")\n",
        "  print('line2')\n",
        "  try:\n",
        "    print(\"line3\")\n",
        "    print('line4')\n",
        "  except ZeroDivisionError:\n",
        "    print(\"except\")\n",
        "  finally:\n",
        "    print('finally')\n",
        "  print('lines')\n",
        "except TypeError:\n",
        "  print(\"exception2\")\n",
        "finally:\n",
        "  print(\"finally2\")"
      ],
      "metadata": {
        "colab": {
          "base_uri": "https://localhost:8080/"
        },
        "id": "eiRbuzQp09cg",
        "outputId": "fc194760-9446-44f0-f41e-5ea1f2c13e20"
      },
      "execution_count": null,
      "outputs": [
        {
          "output_type": "stream",
          "name": "stdout",
          "text": [
            "line1\n",
            "line2\n",
            "line3\n",
            "line4\n",
            "finally\n",
            "lines\n",
            "finally2\n"
          ]
        }
      ]
    },
    {
      "cell_type": "code",
      "source": [
        "\"\"\"\n",
        "1.try, except, \n",
        "2. try and except should be used along\n",
        "3. We can have no of except blocks\n",
        "4.type of exception raised should be matched with the except exceptionclass Name\n",
        "5. If there is no exception raised in try block, except block is skipped\n",
        "6. if the exception raised is not handled by using except., then DEM works, the program ends\n",
        "7.finally block always runs\n",
        "8. if try block has no exception raised, then else will get executed and viceversa\n",
        "\"\"\""
      ],
      "metadata": {
        "id": "Zve6c7go1CPW"
      },
      "execution_count": null,
      "outputs": []
    }
  ]
}