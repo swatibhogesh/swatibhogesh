{
  "nbformat": 4,
  "nbformat_minor": 0,
  "metadata": {
    "colab": {
      "provenance": [],
      "authorship_tag": "ABX9TyPwt5/7qD0pz03ov9yBEJZf",
      "include_colab_link": true
    },
    "kernelspec": {
      "name": "python3",
      "display_name": "Python 3"
    },
    "language_info": {
      "name": "python"
    }
  },
  "cells": [
    {
      "cell_type": "markdown",
      "metadata": {
        "id": "view-in-github",
        "colab_type": "text"
      },
      "source": [
        "<a href=\"https://colab.research.google.com/github/swatibhogesh/swatibhogesh/blob/main/EvenIndex.ipynb\" target=\"_parent\"><img src=\"https://colab.research.google.com/assets/colab-badge.svg\" alt=\"Open In Colab\"/></a>"
      ]
    },
    {
      "cell_type": "code",
      "execution_count": 3,
      "metadata": {
        "colab": {
          "base_uri": "https://localhost:8080/"
        },
        "id": "YAGt9RMaDfHO",
        "outputId": "3c2bd81a-1410-4ed8-b4a9-701ab9ec3711"
      },
      "outputs": [
        {
          "output_type": "stream",
          "name": "stdout",
          "text": [
            "Enter word education\n",
            "Original String: education\n",
            "Printing only even index chars\n",
            "index[ 0 ] e\n",
            "index[ 2 ] u\n",
            "index[ 4 ] a\n",
            "index[ 6 ] i\n"
          ]
        }
      ],
      "source": [
        "# accept input string from a user\n",
        "word = input('Enter word ')\n",
        "print(\"Original String:\", word)\n",
        "size = len(word)\n",
        "\n",
        "# 0 to start with first character\n",
        "#size-1 because index starts with 0\n",
        "# 2 to get the characters present at even index like 0, 2, 4\n",
        "print(\"Printing only even index chars\")\n",
        "for i in range(0, size - 1, 2):\n",
        "    print(\"index[\", i, \"]\", word[i])"
      ]
    }
  ]
}