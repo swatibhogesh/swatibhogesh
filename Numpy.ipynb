{
  "nbformat": 4,
  "nbformat_minor": 0,
  "metadata": {
    "colab": {
      "provenance": [],
      "authorship_tag": "ABX9TyMBrpcbbPSop5QHScQpvY2L",
      "include_colab_link": true
    },
    "kernelspec": {
      "name": "python3",
      "display_name": "Python 3"
    },
    "language_info": {
      "name": "python"
    }
  },
  "cells": [
    {
      "cell_type": "markdown",
      "metadata": {
        "id": "view-in-github",
        "colab_type": "text"
      },
      "source": [
        "<a href=\"https://colab.research.google.com/github/swatibhogesh/swatibhogesh/blob/main/Numpy.ipynb\" target=\"_parent\"><img src=\"https://colab.research.google.com/assets/colab-badge.svg\" alt=\"Open In Colab\"/></a>"
      ]
    },
    {
      "cell_type": "code",
      "execution_count": 1,
      "metadata": {
        "id": "K6HCeHIpVtQP"
      },
      "outputs": [],
      "source": [
        "import numpy as np"
      ]
    },
    {
      "cell_type": "markdown",
      "source": [
        "defining a list"
      ],
      "metadata": {
        "id": "u_BGnr7TV51q"
      }
    },
    {
      "cell_type": "code",
      "source": [
        "ages_list = [2,14,38,26,45,22]\n",
        "print(ages_list)"
      ],
      "metadata": {
        "colab": {
          "base_uri": "https://localhost:8080/"
        },
        "id": "UZaVlZIEV78M",
        "outputId": "8e2bb67c-4f33-45cc-e250-a73cd8d1897f"
      },
      "execution_count": 2,
      "outputs": [
        {
          "output_type": "stream",
          "name": "stdout",
          "text": [
            "[2, 14, 38, 26, 45, 22]\n"
          ]
        }
      ]
    },
    {
      "cell_type": "markdown",
      "source": [
        "To instantiate numpy array object.\n",
        "np.array(list name)"
      ],
      "metadata": {
        "id": "PIMJQ4TVXgjq"
      }
    },
    {
      "cell_type": "code",
      "source": [
        "ages = np.array(ages_list)"
      ],
      "metadata": {
        "id": "_fEMgxLzXsnN"
      },
      "execution_count": 3,
      "outputs": []
    },
    {
      "cell_type": "code",
      "source": [
        "print(ages)\n",
        "print(type(ages))"
      ],
      "metadata": {
        "colab": {
          "base_uri": "https://localhost:8080/"
        },
        "id": "9aZdP43aXzhO",
        "outputId": "c17934ce-9731-4799-9ecc-98e1c2c46626"
      },
      "execution_count": 4,
      "outputs": [
        {
          "output_type": "stream",
          "name": "stdout",
          "text": [
            "[ 2 14 38 26 45 22]\n",
            "<class 'numpy.ndarray'>\n"
          ]
        }
      ]
    },
    {
      "cell_type": "markdown",
      "source": [
        "To check size and shape of array"
      ],
      "metadata": {
        "id": "ESugjm8_ZfSW"
      }
    },
    {
      "cell_type": "code",
      "source": [
        "print(ages)\n",
        "print(\"Size:\\t\" , ages.size)\n",
        "print(\"Shape:\\t\", ages.shape)"
      ],
      "metadata": {
        "colab": {
          "base_uri": "https://localhost:8080/"
        },
        "id": "VhZnBshzZjhv",
        "outputId": "13db605c-a540-4b93-e78b-2f3ff7193f2d"
      },
      "execution_count": 5,
      "outputs": [
        {
          "output_type": "stream",
          "name": "stdout",
          "text": [
            "[ 2 14 38 26 45 22]\n",
            "Size:\t 6\n",
            "Shape:\t (6,)\n"
          ]
        }
      ]
    },
    {
      "cell_type": "code",
      "source": [
        "number = ([2,6,7,9],[3,5,6,7])\n",
        "num = np.array(number)\n",
        "print(num)\n",
        "print(\"shape of num:\\t\", num.shape)"
      ],
      "metadata": {
        "colab": {
          "base_uri": "https://localhost:8080/"
        },
        "id": "KjlLZYBtZ7w4",
        "outputId": "8631a40b-56f8-4aa2-88d6-5523a852ff5f"
      },
      "execution_count": 7,
      "outputs": [
        {
          "output_type": "stream",
          "name": "stdout",
          "text": [
            "[[2 6 7 9]\n",
            " [3 5 6 7]]\n",
            "shape of num:\t (2, 4)\n"
          ]
        }
      ]
    },
    {
      "cell_type": "code",
      "source": [
        "zeroArr = np.zeros(6)\n",
        "#return a new array of given shape\n",
        "print(zeroArr)"
      ],
      "metadata": {
        "colab": {
          "base_uri": "https://localhost:8080/"
        },
        "id": "KHliuUm9a8SK",
        "outputId": "21a089f6-b1b4-41bf-944e-33e3bf49e9b5"
      },
      "execution_count": 10,
      "outputs": [
        {
          "output_type": "stream",
          "name": "stdout",
          "text": [
            "[0. 0. 0. 0. 0. 0.]\n"
          ]
        }
      ]
    },
    {
      "cell_type": "markdown",
      "source": [
        "Multidimensional Array"
      ],
      "metadata": {
        "id": "CNrH-8VDbU4g"
      }
    },
    {
      "cell_type": "markdown",
      "source": [
        "New list containing weight of people"
      ],
      "metadata": {
        "id": "FGow16M7bhhu"
      }
    },
    {
      "cell_type": "code",
      "source": [
        "weight_list = [48,56,63,42,60,72]"
      ],
      "metadata": {
        "id": "93F9kV94boZe"
      },
      "execution_count": 11,
      "outputs": []
    },
    {
      "cell_type": "markdown",
      "source": [
        "Defining an array containing ages_list and weight list"
      ],
      "metadata": {
        "id": "P6EyGywVb4kE"
      }
    },
    {
      "cell_type": "code",
      "source": [
        "people = np.array([ages_list,weight_list])\n",
        "print(\"people:\\t\",people)"
      ],
      "metadata": {
        "colab": {
          "base_uri": "https://localhost:8080/"
        },
        "id": "8dTFxclIb-UZ",
        "outputId": "57f50b0c-c351-40da-af43-25296a544b2f"
      },
      "execution_count": 14,
      "outputs": [
        {
          "output_type": "stream",
          "name": "stdout",
          "text": [
            "people:\t [[ 2 14 38 26 45 22]\n",
            " [48 56 63 42 60 72]]\n"
          ]
        }
      ]
    },
    {
      "cell_type": "code",
      "source": [
        "print(\"Size:\\t\" , people.size)\n",
        "print(\"Shape:\\t\", people.shape)"
      ],
      "metadata": {
        "colab": {
          "base_uri": "https://localhost:8080/"
        },
        "id": "p0xcA2pPchTW",
        "outputId": "1a37a514-d799-421f-b92e-277b06a250a2"
      },
      "execution_count": 15,
      "outputs": [
        {
          "output_type": "stream",
          "name": "stdout",
          "text": [
            "Size:\t 12\n",
            "Shape:\t (2, 6)\n"
          ]
        }
      ]
    },
    {
      "cell_type": "markdown",
      "source": [
        "Reshape array\n",
        "(new size must be same size as old array)"
      ],
      "metadata": {
        "id": "p8Zbf4g2c2nQ"
      }
    },
    {
      "cell_type": "code",
      "source": [
        "people= people.reshape(12,1)\n",
        "print(\"people:\\t\",people)\n",
        "print(\"Size:\\t\" , people.size)\n",
        "print(\"Shape:\\t\", people.shape)"
      ],
      "metadata": {
        "colab": {
          "base_uri": "https://localhost:8080/"
        },
        "id": "SQZSUklJdBDf",
        "outputId": "d6a7d363-1499-488a-eb09-75262a2660c8"
      },
      "execution_count": 16,
      "outputs": [
        {
          "output_type": "stream",
          "name": "stdout",
          "text": [
            "people:\t [[ 2]\n",
            " [14]\n",
            " [38]\n",
            " [26]\n",
            " [45]\n",
            " [22]\n",
            " [48]\n",
            " [56]\n",
            " [63]\n",
            " [42]\n",
            " [60]\n",
            " [72]]\n",
            "Size:\t 12\n",
            "Shape:\t (12, 1)\n"
          ]
        }
      ]
    },
    {
      "cell_type": "code",
      "source": [
        "people= people.reshape(3,4)\n",
        "print(\"people:\\t\",people)\n",
        "print(\"Size:\\t\" , people.size)\n",
        "print(\"Shape:\\t\", people.shape)"
      ],
      "metadata": {
        "colab": {
          "base_uri": "https://localhost:8080/"
        },
        "id": "QWrjcjxWdUSB",
        "outputId": "ef413985-2e3d-43ce-e98c-7454d9097f87"
      },
      "execution_count": 17,
      "outputs": [
        {
          "output_type": "stream",
          "name": "stdout",
          "text": [
            "people:\t [[ 2 14 38 26]\n",
            " [45 22 48 56]\n",
            " [63 42 60 72]]\n",
            "Size:\t 12\n",
            "Shape:\t (3, 4)\n"
          ]
        }
      ]
    },
    {
      "cell_type": "code",
      "source": [
        "people= people.reshape(1,12)\n",
        "print(\"people:\\t\",people)\n",
        "print(\"Size:\\t\" , people.size)\n",
        "print(\"Shape:\\t\", people.shape)"
      ],
      "metadata": {
        "colab": {
          "base_uri": "https://localhost:8080/"
        },
        "id": "ye84aa-odq34",
        "outputId": "81ef43e2-36d5-4573-af3b-d6f6eb56390e"
      },
      "execution_count": 18,
      "outputs": [
        {
          "output_type": "stream",
          "name": "stdout",
          "text": [
            "people:\t [[ 2 14 38 26 45 22 48 56 63 42 60 72]]\n",
            "Size:\t 12\n",
            "Shape:\t (1, 12)\n"
          ]
        }
      ]
    },
    {
      "cell_type": "markdown",
      "source": [
        "EXCERCISE"
      ],
      "metadata": {
        "id": "cj_BZBK_dy2t"
      }
    },
    {
      "cell_type": "markdown",
      "source": [
        "1. Generate a 1D numpy array with the values [7, 9, 65, 33, 85, 99]"
      ],
      "metadata": {
        "id": "zaptNRWcd1c7"
      }
    },
    {
      "cell_type": "code",
      "source": [
        "values=[7,9,65,33,85,99]\n",
        "arrvalues= np.array(values)\n",
        "print(\"1D numpy array:\\t\",arrvalues)\n",
        "print(\"size:\\t\",arrvalues.size)\n",
        "print(\"shape:\\t\",arrvalues.shape)"
      ],
      "metadata": {
        "colab": {
          "base_uri": "https://localhost:8080/"
        },
        "id": "WrX3fM8fd5o9",
        "outputId": "032b092b-6c38-408b-b5f0-22a7bdd5ab3f"
      },
      "execution_count": 25,
      "outputs": [
        {
          "output_type": "stream",
          "name": "stdout",
          "text": [
            "1D numpy array:\t [ 7  9 65 33 85 99]\n",
            "size:\t 6\n",
            "shape:\t (6,)\n"
          ]
        }
      ]
    },
    {
      "cell_type": "markdown",
      "source": [
        "2.Generate a matrix (2D numpy array) of the values"
      ],
      "metadata": {
        "id": "7OhQ7tG2fk7Q"
      }
    },
    {
      "cell_type": "code",
      "source": [
        "values=[1,2,4,2,3,0,0,5,1]\n",
        "arrvalues= np.array(values)\n",
        "arrvalues= arrvalues.reshape(3,3)\n",
        "print(arrvalues)\n",
        "print(\"size:\\t\",arrvalues.size)\n",
        "print(\"shape:\\t\",arrvalues.shape)"
      ],
      "metadata": {
        "colab": {
          "base_uri": "https://localhost:8080/"
        },
        "id": "Z75PGb0NfqS-",
        "outputId": "f6c121e6-e4f5-4cda-a2ee-e37f1c4ba5e6"
      },
      "execution_count": 24,
      "outputs": [
        {
          "output_type": "stream",
          "name": "stdout",
          "text": [
            "[[1 2 4]\n",
            " [2 3 0]\n",
            " [0 5 1]]\n",
            "size:\t 9\n",
            "shape:\t (3, 3)\n"
          ]
        }
      ]
    },
    {
      "cell_type": "markdown",
      "source": [
        "3.Change the dimensions of this array to another permitted shape"
      ],
      "metadata": {
        "id": "5v0kaE93gUe_"
      }
    },
    {
      "cell_type": "code",
      "source": [
        "values=[1,2,4,2,3,0,0,5,1]\n",
        "arrvalues= np.array(values)\n",
        "arrvalues= arrvalues.reshape(9,1)\n",
        "print(arrvalues)\n",
        "print(\"size:\\t\",arrvalues.size)\n",
        "print(\"shape:\\t\",arrvalues.shape)"
      ],
      "metadata": {
        "colab": {
          "base_uri": "https://localhost:8080/"
        },
        "id": "q-zyzwAcgZRw",
        "outputId": "2e2fd2a9-0b63-4090-f385-3d83aa8db7c0"
      },
      "execution_count": 26,
      "outputs": [
        {
          "output_type": "stream",
          "name": "stdout",
          "text": [
            "[[1]\n",
            " [2]\n",
            " [4]\n",
            " [2]\n",
            " [3]\n",
            " [0]\n",
            " [0]\n",
            " [5]\n",
            " [1]]\n",
            "size:\t 9\n",
            "shape:\t (9, 1)\n"
          ]
        }
      ]
    },
    {
      "cell_type": "code",
      "source": [
        "values=[1,2,4,2,3,0,0,5,1]\n",
        "arrvalues= np.array(values)\n",
        "arrvalues= arrvalues.reshape(1,9)\n",
        "print(arrvalues)\n",
        "print(\"size:\\t\",arrvalues.size)\n",
        "print(\"shape:\\t\",arrvalues.shape)"
      ],
      "metadata": {
        "colab": {
          "base_uri": "https://localhost:8080/"
        },
        "id": "-4lhGTKChXvT",
        "outputId": "64709a58-6193-42bd-a27b-390d137cea38"
      },
      "execution_count": 27,
      "outputs": [
        {
          "output_type": "stream",
          "name": "stdout",
          "text": [
            "[[1 2 4 2 3 0 0 5 1]]\n",
            "size:\t 9\n",
            "shape:\t (1, 9)\n"
          ]
        }
      ]
    },
    {
      "cell_type": "markdown",
      "source": [
        "ARRAY GENERATION"
      ],
      "metadata": {
        "id": "hzyGRPXQhe-k"
      }
    },
    {
      "cell_type": "markdown",
      "source": [
        "np.arange() method:\n",
        "The np.arange() method creates a range of numbers with user defined steps between each."
      ],
      "metadata": {
        "id": "G4k-u_8Yh1ey"
      }
    },
    {
      "cell_type": "code",
      "source": [
        "five_times_table = np.arange(0, 55, 5)\n",
        "print(five_times_table)\n",
        "#np.arange method: numpy.arange([start, ]stop, [step, ], dtype=None)\n",
        "#start is the number (integer or decimal) that defines the first value in the array.\n",
        "#stop is the number that defines the end of the array and isn’t included in the array.\n",
        "#step is the number that defines the difference between each two consecutive values in the array and defaults to 1.\n",
        "#dtype is the type of the elements of the output array and defaults to None."
      ],
      "metadata": {
        "colab": {
          "base_uri": "https://localhost:8080/"
        },
        "id": "SvlGCBY4h30d",
        "outputId": "6cf04456-ddb7-404a-edae-1a11bbc18a48"
      },
      "execution_count": 28,
      "outputs": [
        {
          "output_type": "stream",
          "name": "stdout",
          "text": [
            "[ 0  5 10 15 20 25 30 35 40 45 50]\n"
          ]
        }
      ]
    },
    {
      "cell_type": "markdown",
      "source": [
        "np.linspace() method: The np.linspace() method will produce a range of evenly spaced values, starting, ending, and taking as many steps as you specify."
      ],
      "metadata": {
        "id": "Zs-CrGp8i4Cf"
      }
    },
    {
      "cell_type": "code",
      "source": [
        "five_spaced = np.linspace(0,50,11)\n",
        "print(five_spaced)"
      ],
      "metadata": {
        "colab": {
          "base_uri": "https://localhost:8080/"
        },
        "id": "H9zZbl_Pi_x6",
        "outputId": "0633b2b7-4bc3-494a-bc99-fd5d9367a52c"
      },
      "execution_count": 29,
      "outputs": [
        {
          "output_type": "stream",
          "name": "stdout",
          "text": [
            "[ 0.  5. 10. 15. 20. 25. 30. 35. 40. 45. 50.]\n"
          ]
        }
      ]
    },
    {
      "cell_type": "code",
      "source": [
        "#the endpoint of interval can optionally be excluded by making endpoint false\n",
        "five_spaced = np.linspace(0,50,11,endpoint=False)\n",
        "print(five_spaced)\n"
      ],
      "metadata": {
        "colab": {
          "base_uri": "https://localhost:8080/"
        },
        "id": "tlStopL3jhYm",
        "outputId": "3d7a61e0-5546-4d7b-d310-c0091ecf72a6"
      },
      "execution_count": 30,
      "outputs": [
        {
          "output_type": "stream",
          "name": "stdout",
          "text": [
            "[ 0.          4.54545455  9.09090909 13.63636364 18.18181818 22.72727273\n",
            " 27.27272727 31.81818182 36.36363636 40.90909091 45.45454545]\n"
          ]
        }
      ]
    },
    {
      "cell_type": "markdown",
      "source": [
        "np.repeat() method: The .repeat() method will repeat an object you pass a specified number of times."
      ],
      "metadata": {
        "id": "j91X8Vtbj9VD"
      }
    },
    {
      "cell_type": "code",
      "source": [
        "twoArr = np.repeat(2, 10)\n",
        "#it will repeat number '2' ten times\n",
        "print(twoArr)"
      ],
      "metadata": {
        "colab": {
          "base_uri": "https://localhost:8080/"
        },
        "id": "6Y_QpVwQkDCI",
        "outputId": "73a9e8bc-9633-4915-e7c2-86eafe6f780d"
      },
      "execution_count": 32,
      "outputs": [
        {
          "output_type": "stream",
          "name": "stdout",
          "text": [
            "[2 2 2 2 2 2 2 2 2 2]\n"
          ]
        }
      ]
    },
    {
      "cell_type": "code",
      "source": [
        "twoArr = np.repeat(7, 20)\n",
        "print(twoArr)"
      ],
      "metadata": {
        "colab": {
          "base_uri": "https://localhost:8080/"
        },
        "id": "dz0Oy1uEkQOT",
        "outputId": "eafdab68-a701-44c7-c6b5-377f3557f5ca"
      },
      "execution_count": 33,
      "outputs": [
        {
          "output_type": "stream",
          "name": "stdout",
          "text": [
            "[7 7 7 7 7 7 7 7 7 7 7 7 7 7 7 7 7 7 7 7]\n"
          ]
        }
      ]
    },
    {
      "cell_type": "markdown",
      "source": [
        "np.eye() method: The np.eye() functions will create an identity matrix/array for us."
      ],
      "metadata": {
        "id": "aSqb8veykWpC"
      }
    },
    {
      "cell_type": "code",
      "source": [
        "identity_matrix = np.eye(6)\n",
        "print(identity_matrix)"
      ],
      "metadata": {
        "colab": {
          "base_uri": "https://localhost:8080/"
        },
        "id": "ah60yGq7kkgD",
        "outputId": "c35af2c8-f2f3-44ae-eb7f-7c4c6ac008dc"
      },
      "execution_count": 34,
      "outputs": [
        {
          "output_type": "stream",
          "name": "stdout",
          "text": [
            "[[1. 0. 0. 0. 0. 0.]\n",
            " [0. 1. 0. 0. 0. 0.]\n",
            " [0. 0. 1. 0. 0. 0.]\n",
            " [0. 0. 0. 1. 0. 0.]\n",
            " [0. 0. 0. 0. 1. 0.]\n",
            " [0. 0. 0. 0. 0. 1.]]\n"
          ]
        }
      ]
    },
    {
      "cell_type": "markdown",
      "source": [
        "OPERATIONS"
      ],
      "metadata": {
        "id": "orBvZ4W9kvlx"
      }
    },
    {
      "cell_type": "code",
      "source": [
        "print(five_times_table)"
      ],
      "metadata": {
        "colab": {
          "base_uri": "https://localhost:8080/"
        },
        "id": "DwBMKwr7lHXV",
        "outputId": "1b2089e8-8bc4-4c3a-9f0b-87c3e92d1c3b"
      },
      "execution_count": 36,
      "outputs": [
        {
          "output_type": "stream",
          "name": "stdout",
          "text": [
            "[ 0  5 10 15 20 25 30 35 40 45 50]\n"
          ]
        }
      ]
    },
    {
      "cell_type": "code",
      "source": [
        "print(\"1:\", 2 * five_times_table)\n",
        "print(\"2:\", 10 + five_times_table)\n",
        "print(\"3:\", five_times_table - 1)\n",
        "print(\"4:\", five_times_table/5)\n",
        "print(\"5:\", five_times_table **2)\n",
        "print(\"6:\", five_times_table < 20)"
      ],
      "metadata": {
        "colab": {
          "base_uri": "https://localhost:8080/"
        },
        "id": "gK_oMaM9k1yv",
        "outputId": "487a981d-75fc-4ddc-eb59-156575cd3da2"
      },
      "execution_count": 35,
      "outputs": [
        {
          "output_type": "stream",
          "name": "stdout",
          "text": [
            "1: [  0  10  20  30  40  50  60  70  80  90 100]\n",
            "2: [10 15 20 25 30 35 40 45 50 55 60]\n",
            "3: [-1  4  9 14 19 24 29 34 39 44 49]\n",
            "4: [ 0.  1.  2.  3.  4.  5.  6.  7.  8.  9. 10.]\n",
            "5: [   0   25  100  225  400  625  900 1225 1600 2025 2500]\n",
            "6: [ True  True  True  True False False False False False False False]\n"
          ]
        }
      ]
    },
    {
      "cell_type": "markdown",
      "source": [
        "SPEED TEST"
      ],
      "metadata": {
        "id": "MWSbC44VlXmP"
      }
    },
    {
      "cell_type": "code",
      "source": [
        "fives_list = list(range(0,5001,5))\n",
        "fives_list"
      ],
      "metadata": {
        "colab": {
          "base_uri": "https://localhost:8080/"
        },
        "id": "qWzBFN_6lZ_4",
        "outputId": "e89780ff-52d7-493e-c1d7-24e51b585396"
      },
      "execution_count": 37,
      "outputs": [
        {
          "output_type": "execute_result",
          "data": {
            "text/plain": [
              "[0,\n",
              " 5,\n",
              " 10,\n",
              " 15,\n",
              " 20,\n",
              " 25,\n",
              " 30,\n",
              " 35,\n",
              " 40,\n",
              " 45,\n",
              " 50,\n",
              " 55,\n",
              " 60,\n",
              " 65,\n",
              " 70,\n",
              " 75,\n",
              " 80,\n",
              " 85,\n",
              " 90,\n",
              " 95,\n",
              " 100,\n",
              " 105,\n",
              " 110,\n",
              " 115,\n",
              " 120,\n",
              " 125,\n",
              " 130,\n",
              " 135,\n",
              " 140,\n",
              " 145,\n",
              " 150,\n",
              " 155,\n",
              " 160,\n",
              " 165,\n",
              " 170,\n",
              " 175,\n",
              " 180,\n",
              " 185,\n",
              " 190,\n",
              " 195,\n",
              " 200,\n",
              " 205,\n",
              " 210,\n",
              " 215,\n",
              " 220,\n",
              " 225,\n",
              " 230,\n",
              " 235,\n",
              " 240,\n",
              " 245,\n",
              " 250,\n",
              " 255,\n",
              " 260,\n",
              " 265,\n",
              " 270,\n",
              " 275,\n",
              " 280,\n",
              " 285,\n",
              " 290,\n",
              " 295,\n",
              " 300,\n",
              " 305,\n",
              " 310,\n",
              " 315,\n",
              " 320,\n",
              " 325,\n",
              " 330,\n",
              " 335,\n",
              " 340,\n",
              " 345,\n",
              " 350,\n",
              " 355,\n",
              " 360,\n",
              " 365,\n",
              " 370,\n",
              " 375,\n",
              " 380,\n",
              " 385,\n",
              " 390,\n",
              " 395,\n",
              " 400,\n",
              " 405,\n",
              " 410,\n",
              " 415,\n",
              " 420,\n",
              " 425,\n",
              " 430,\n",
              " 435,\n",
              " 440,\n",
              " 445,\n",
              " 450,\n",
              " 455,\n",
              " 460,\n",
              " 465,\n",
              " 470,\n",
              " 475,\n",
              " 480,\n",
              " 485,\n",
              " 490,\n",
              " 495,\n",
              " 500,\n",
              " 505,\n",
              " 510,\n",
              " 515,\n",
              " 520,\n",
              " 525,\n",
              " 530,\n",
              " 535,\n",
              " 540,\n",
              " 545,\n",
              " 550,\n",
              " 555,\n",
              " 560,\n",
              " 565,\n",
              " 570,\n",
              " 575,\n",
              " 580,\n",
              " 585,\n",
              " 590,\n",
              " 595,\n",
              " 600,\n",
              " 605,\n",
              " 610,\n",
              " 615,\n",
              " 620,\n",
              " 625,\n",
              " 630,\n",
              " 635,\n",
              " 640,\n",
              " 645,\n",
              " 650,\n",
              " 655,\n",
              " 660,\n",
              " 665,\n",
              " 670,\n",
              " 675,\n",
              " 680,\n",
              " 685,\n",
              " 690,\n",
              " 695,\n",
              " 700,\n",
              " 705,\n",
              " 710,\n",
              " 715,\n",
              " 720,\n",
              " 725,\n",
              " 730,\n",
              " 735,\n",
              " 740,\n",
              " 745,\n",
              " 750,\n",
              " 755,\n",
              " 760,\n",
              " 765,\n",
              " 770,\n",
              " 775,\n",
              " 780,\n",
              " 785,\n",
              " 790,\n",
              " 795,\n",
              " 800,\n",
              " 805,\n",
              " 810,\n",
              " 815,\n",
              " 820,\n",
              " 825,\n",
              " 830,\n",
              " 835,\n",
              " 840,\n",
              " 845,\n",
              " 850,\n",
              " 855,\n",
              " 860,\n",
              " 865,\n",
              " 870,\n",
              " 875,\n",
              " 880,\n",
              " 885,\n",
              " 890,\n",
              " 895,\n",
              " 900,\n",
              " 905,\n",
              " 910,\n",
              " 915,\n",
              " 920,\n",
              " 925,\n",
              " 930,\n",
              " 935,\n",
              " 940,\n",
              " 945,\n",
              " 950,\n",
              " 955,\n",
              " 960,\n",
              " 965,\n",
              " 970,\n",
              " 975,\n",
              " 980,\n",
              " 985,\n",
              " 990,\n",
              " 995,\n",
              " 1000,\n",
              " 1005,\n",
              " 1010,\n",
              " 1015,\n",
              " 1020,\n",
              " 1025,\n",
              " 1030,\n",
              " 1035,\n",
              " 1040,\n",
              " 1045,\n",
              " 1050,\n",
              " 1055,\n",
              " 1060,\n",
              " 1065,\n",
              " 1070,\n",
              " 1075,\n",
              " 1080,\n",
              " 1085,\n",
              " 1090,\n",
              " 1095,\n",
              " 1100,\n",
              " 1105,\n",
              " 1110,\n",
              " 1115,\n",
              " 1120,\n",
              " 1125,\n",
              " 1130,\n",
              " 1135,\n",
              " 1140,\n",
              " 1145,\n",
              " 1150,\n",
              " 1155,\n",
              " 1160,\n",
              " 1165,\n",
              " 1170,\n",
              " 1175,\n",
              " 1180,\n",
              " 1185,\n",
              " 1190,\n",
              " 1195,\n",
              " 1200,\n",
              " 1205,\n",
              " 1210,\n",
              " 1215,\n",
              " 1220,\n",
              " 1225,\n",
              " 1230,\n",
              " 1235,\n",
              " 1240,\n",
              " 1245,\n",
              " 1250,\n",
              " 1255,\n",
              " 1260,\n",
              " 1265,\n",
              " 1270,\n",
              " 1275,\n",
              " 1280,\n",
              " 1285,\n",
              " 1290,\n",
              " 1295,\n",
              " 1300,\n",
              " 1305,\n",
              " 1310,\n",
              " 1315,\n",
              " 1320,\n",
              " 1325,\n",
              " 1330,\n",
              " 1335,\n",
              " 1340,\n",
              " 1345,\n",
              " 1350,\n",
              " 1355,\n",
              " 1360,\n",
              " 1365,\n",
              " 1370,\n",
              " 1375,\n",
              " 1380,\n",
              " 1385,\n",
              " 1390,\n",
              " 1395,\n",
              " 1400,\n",
              " 1405,\n",
              " 1410,\n",
              " 1415,\n",
              " 1420,\n",
              " 1425,\n",
              " 1430,\n",
              " 1435,\n",
              " 1440,\n",
              " 1445,\n",
              " 1450,\n",
              " 1455,\n",
              " 1460,\n",
              " 1465,\n",
              " 1470,\n",
              " 1475,\n",
              " 1480,\n",
              " 1485,\n",
              " 1490,\n",
              " 1495,\n",
              " 1500,\n",
              " 1505,\n",
              " 1510,\n",
              " 1515,\n",
              " 1520,\n",
              " 1525,\n",
              " 1530,\n",
              " 1535,\n",
              " 1540,\n",
              " 1545,\n",
              " 1550,\n",
              " 1555,\n",
              " 1560,\n",
              " 1565,\n",
              " 1570,\n",
              " 1575,\n",
              " 1580,\n",
              " 1585,\n",
              " 1590,\n",
              " 1595,\n",
              " 1600,\n",
              " 1605,\n",
              " 1610,\n",
              " 1615,\n",
              " 1620,\n",
              " 1625,\n",
              " 1630,\n",
              " 1635,\n",
              " 1640,\n",
              " 1645,\n",
              " 1650,\n",
              " 1655,\n",
              " 1660,\n",
              " 1665,\n",
              " 1670,\n",
              " 1675,\n",
              " 1680,\n",
              " 1685,\n",
              " 1690,\n",
              " 1695,\n",
              " 1700,\n",
              " 1705,\n",
              " 1710,\n",
              " 1715,\n",
              " 1720,\n",
              " 1725,\n",
              " 1730,\n",
              " 1735,\n",
              " 1740,\n",
              " 1745,\n",
              " 1750,\n",
              " 1755,\n",
              " 1760,\n",
              " 1765,\n",
              " 1770,\n",
              " 1775,\n",
              " 1780,\n",
              " 1785,\n",
              " 1790,\n",
              " 1795,\n",
              " 1800,\n",
              " 1805,\n",
              " 1810,\n",
              " 1815,\n",
              " 1820,\n",
              " 1825,\n",
              " 1830,\n",
              " 1835,\n",
              " 1840,\n",
              " 1845,\n",
              " 1850,\n",
              " 1855,\n",
              " 1860,\n",
              " 1865,\n",
              " 1870,\n",
              " 1875,\n",
              " 1880,\n",
              " 1885,\n",
              " 1890,\n",
              " 1895,\n",
              " 1900,\n",
              " 1905,\n",
              " 1910,\n",
              " 1915,\n",
              " 1920,\n",
              " 1925,\n",
              " 1930,\n",
              " 1935,\n",
              " 1940,\n",
              " 1945,\n",
              " 1950,\n",
              " 1955,\n",
              " 1960,\n",
              " 1965,\n",
              " 1970,\n",
              " 1975,\n",
              " 1980,\n",
              " 1985,\n",
              " 1990,\n",
              " 1995,\n",
              " 2000,\n",
              " 2005,\n",
              " 2010,\n",
              " 2015,\n",
              " 2020,\n",
              " 2025,\n",
              " 2030,\n",
              " 2035,\n",
              " 2040,\n",
              " 2045,\n",
              " 2050,\n",
              " 2055,\n",
              " 2060,\n",
              " 2065,\n",
              " 2070,\n",
              " 2075,\n",
              " 2080,\n",
              " 2085,\n",
              " 2090,\n",
              " 2095,\n",
              " 2100,\n",
              " 2105,\n",
              " 2110,\n",
              " 2115,\n",
              " 2120,\n",
              " 2125,\n",
              " 2130,\n",
              " 2135,\n",
              " 2140,\n",
              " 2145,\n",
              " 2150,\n",
              " 2155,\n",
              " 2160,\n",
              " 2165,\n",
              " 2170,\n",
              " 2175,\n",
              " 2180,\n",
              " 2185,\n",
              " 2190,\n",
              " 2195,\n",
              " 2200,\n",
              " 2205,\n",
              " 2210,\n",
              " 2215,\n",
              " 2220,\n",
              " 2225,\n",
              " 2230,\n",
              " 2235,\n",
              " 2240,\n",
              " 2245,\n",
              " 2250,\n",
              " 2255,\n",
              " 2260,\n",
              " 2265,\n",
              " 2270,\n",
              " 2275,\n",
              " 2280,\n",
              " 2285,\n",
              " 2290,\n",
              " 2295,\n",
              " 2300,\n",
              " 2305,\n",
              " 2310,\n",
              " 2315,\n",
              " 2320,\n",
              " 2325,\n",
              " 2330,\n",
              " 2335,\n",
              " 2340,\n",
              " 2345,\n",
              " 2350,\n",
              " 2355,\n",
              " 2360,\n",
              " 2365,\n",
              " 2370,\n",
              " 2375,\n",
              " 2380,\n",
              " 2385,\n",
              " 2390,\n",
              " 2395,\n",
              " 2400,\n",
              " 2405,\n",
              " 2410,\n",
              " 2415,\n",
              " 2420,\n",
              " 2425,\n",
              " 2430,\n",
              " 2435,\n",
              " 2440,\n",
              " 2445,\n",
              " 2450,\n",
              " 2455,\n",
              " 2460,\n",
              " 2465,\n",
              " 2470,\n",
              " 2475,\n",
              " 2480,\n",
              " 2485,\n",
              " 2490,\n",
              " 2495,\n",
              " 2500,\n",
              " 2505,\n",
              " 2510,\n",
              " 2515,\n",
              " 2520,\n",
              " 2525,\n",
              " 2530,\n",
              " 2535,\n",
              " 2540,\n",
              " 2545,\n",
              " 2550,\n",
              " 2555,\n",
              " 2560,\n",
              " 2565,\n",
              " 2570,\n",
              " 2575,\n",
              " 2580,\n",
              " 2585,\n",
              " 2590,\n",
              " 2595,\n",
              " 2600,\n",
              " 2605,\n",
              " 2610,\n",
              " 2615,\n",
              " 2620,\n",
              " 2625,\n",
              " 2630,\n",
              " 2635,\n",
              " 2640,\n",
              " 2645,\n",
              " 2650,\n",
              " 2655,\n",
              " 2660,\n",
              " 2665,\n",
              " 2670,\n",
              " 2675,\n",
              " 2680,\n",
              " 2685,\n",
              " 2690,\n",
              " 2695,\n",
              " 2700,\n",
              " 2705,\n",
              " 2710,\n",
              " 2715,\n",
              " 2720,\n",
              " 2725,\n",
              " 2730,\n",
              " 2735,\n",
              " 2740,\n",
              " 2745,\n",
              " 2750,\n",
              " 2755,\n",
              " 2760,\n",
              " 2765,\n",
              " 2770,\n",
              " 2775,\n",
              " 2780,\n",
              " 2785,\n",
              " 2790,\n",
              " 2795,\n",
              " 2800,\n",
              " 2805,\n",
              " 2810,\n",
              " 2815,\n",
              " 2820,\n",
              " 2825,\n",
              " 2830,\n",
              " 2835,\n",
              " 2840,\n",
              " 2845,\n",
              " 2850,\n",
              " 2855,\n",
              " 2860,\n",
              " 2865,\n",
              " 2870,\n",
              " 2875,\n",
              " 2880,\n",
              " 2885,\n",
              " 2890,\n",
              " 2895,\n",
              " 2900,\n",
              " 2905,\n",
              " 2910,\n",
              " 2915,\n",
              " 2920,\n",
              " 2925,\n",
              " 2930,\n",
              " 2935,\n",
              " 2940,\n",
              " 2945,\n",
              " 2950,\n",
              " 2955,\n",
              " 2960,\n",
              " 2965,\n",
              " 2970,\n",
              " 2975,\n",
              " 2980,\n",
              " 2985,\n",
              " 2990,\n",
              " 2995,\n",
              " 3000,\n",
              " 3005,\n",
              " 3010,\n",
              " 3015,\n",
              " 3020,\n",
              " 3025,\n",
              " 3030,\n",
              " 3035,\n",
              " 3040,\n",
              " 3045,\n",
              " 3050,\n",
              " 3055,\n",
              " 3060,\n",
              " 3065,\n",
              " 3070,\n",
              " 3075,\n",
              " 3080,\n",
              " 3085,\n",
              " 3090,\n",
              " 3095,\n",
              " 3100,\n",
              " 3105,\n",
              " 3110,\n",
              " 3115,\n",
              " 3120,\n",
              " 3125,\n",
              " 3130,\n",
              " 3135,\n",
              " 3140,\n",
              " 3145,\n",
              " 3150,\n",
              " 3155,\n",
              " 3160,\n",
              " 3165,\n",
              " 3170,\n",
              " 3175,\n",
              " 3180,\n",
              " 3185,\n",
              " 3190,\n",
              " 3195,\n",
              " 3200,\n",
              " 3205,\n",
              " 3210,\n",
              " 3215,\n",
              " 3220,\n",
              " 3225,\n",
              " 3230,\n",
              " 3235,\n",
              " 3240,\n",
              " 3245,\n",
              " 3250,\n",
              " 3255,\n",
              " 3260,\n",
              " 3265,\n",
              " 3270,\n",
              " 3275,\n",
              " 3280,\n",
              " 3285,\n",
              " 3290,\n",
              " 3295,\n",
              " 3300,\n",
              " 3305,\n",
              " 3310,\n",
              " 3315,\n",
              " 3320,\n",
              " 3325,\n",
              " 3330,\n",
              " 3335,\n",
              " 3340,\n",
              " 3345,\n",
              " 3350,\n",
              " 3355,\n",
              " 3360,\n",
              " 3365,\n",
              " 3370,\n",
              " 3375,\n",
              " 3380,\n",
              " 3385,\n",
              " 3390,\n",
              " 3395,\n",
              " 3400,\n",
              " 3405,\n",
              " 3410,\n",
              " 3415,\n",
              " 3420,\n",
              " 3425,\n",
              " 3430,\n",
              " 3435,\n",
              " 3440,\n",
              " 3445,\n",
              " 3450,\n",
              " 3455,\n",
              " 3460,\n",
              " 3465,\n",
              " 3470,\n",
              " 3475,\n",
              " 3480,\n",
              " 3485,\n",
              " 3490,\n",
              " 3495,\n",
              " 3500,\n",
              " 3505,\n",
              " 3510,\n",
              " 3515,\n",
              " 3520,\n",
              " 3525,\n",
              " 3530,\n",
              " 3535,\n",
              " 3540,\n",
              " 3545,\n",
              " 3550,\n",
              " 3555,\n",
              " 3560,\n",
              " 3565,\n",
              " 3570,\n",
              " 3575,\n",
              " 3580,\n",
              " 3585,\n",
              " 3590,\n",
              " 3595,\n",
              " 3600,\n",
              " 3605,\n",
              " 3610,\n",
              " 3615,\n",
              " 3620,\n",
              " 3625,\n",
              " 3630,\n",
              " 3635,\n",
              " 3640,\n",
              " 3645,\n",
              " 3650,\n",
              " 3655,\n",
              " 3660,\n",
              " 3665,\n",
              " 3670,\n",
              " 3675,\n",
              " 3680,\n",
              " 3685,\n",
              " 3690,\n",
              " 3695,\n",
              " 3700,\n",
              " 3705,\n",
              " 3710,\n",
              " 3715,\n",
              " 3720,\n",
              " 3725,\n",
              " 3730,\n",
              " 3735,\n",
              " 3740,\n",
              " 3745,\n",
              " 3750,\n",
              " 3755,\n",
              " 3760,\n",
              " 3765,\n",
              " 3770,\n",
              " 3775,\n",
              " 3780,\n",
              " 3785,\n",
              " 3790,\n",
              " 3795,\n",
              " 3800,\n",
              " 3805,\n",
              " 3810,\n",
              " 3815,\n",
              " 3820,\n",
              " 3825,\n",
              " 3830,\n",
              " 3835,\n",
              " 3840,\n",
              " 3845,\n",
              " 3850,\n",
              " 3855,\n",
              " 3860,\n",
              " 3865,\n",
              " 3870,\n",
              " 3875,\n",
              " 3880,\n",
              " 3885,\n",
              " 3890,\n",
              " 3895,\n",
              " 3900,\n",
              " 3905,\n",
              " 3910,\n",
              " 3915,\n",
              " 3920,\n",
              " 3925,\n",
              " 3930,\n",
              " 3935,\n",
              " 3940,\n",
              " 3945,\n",
              " 3950,\n",
              " 3955,\n",
              " 3960,\n",
              " 3965,\n",
              " 3970,\n",
              " 3975,\n",
              " 3980,\n",
              " 3985,\n",
              " 3990,\n",
              " 3995,\n",
              " 4000,\n",
              " 4005,\n",
              " 4010,\n",
              " 4015,\n",
              " 4020,\n",
              " 4025,\n",
              " 4030,\n",
              " 4035,\n",
              " 4040,\n",
              " 4045,\n",
              " 4050,\n",
              " 4055,\n",
              " 4060,\n",
              " 4065,\n",
              " 4070,\n",
              " 4075,\n",
              " 4080,\n",
              " 4085,\n",
              " 4090,\n",
              " 4095,\n",
              " 4100,\n",
              " 4105,\n",
              " 4110,\n",
              " 4115,\n",
              " 4120,\n",
              " 4125,\n",
              " 4130,\n",
              " 4135,\n",
              " 4140,\n",
              " 4145,\n",
              " 4150,\n",
              " 4155,\n",
              " 4160,\n",
              " 4165,\n",
              " 4170,\n",
              " 4175,\n",
              " 4180,\n",
              " 4185,\n",
              " 4190,\n",
              " 4195,\n",
              " 4200,\n",
              " 4205,\n",
              " 4210,\n",
              " 4215,\n",
              " 4220,\n",
              " 4225,\n",
              " 4230,\n",
              " 4235,\n",
              " 4240,\n",
              " 4245,\n",
              " 4250,\n",
              " 4255,\n",
              " 4260,\n",
              " 4265,\n",
              " 4270,\n",
              " 4275,\n",
              " 4280,\n",
              " 4285,\n",
              " 4290,\n",
              " 4295,\n",
              " 4300,\n",
              " 4305,\n",
              " 4310,\n",
              " 4315,\n",
              " 4320,\n",
              " 4325,\n",
              " 4330,\n",
              " 4335,\n",
              " 4340,\n",
              " 4345,\n",
              " 4350,\n",
              " 4355,\n",
              " 4360,\n",
              " 4365,\n",
              " 4370,\n",
              " 4375,\n",
              " 4380,\n",
              " 4385,\n",
              " 4390,\n",
              " 4395,\n",
              " 4400,\n",
              " 4405,\n",
              " 4410,\n",
              " 4415,\n",
              " 4420,\n",
              " 4425,\n",
              " 4430,\n",
              " 4435,\n",
              " 4440,\n",
              " 4445,\n",
              " 4450,\n",
              " 4455,\n",
              " 4460,\n",
              " 4465,\n",
              " 4470,\n",
              " 4475,\n",
              " 4480,\n",
              " 4485,\n",
              " 4490,\n",
              " 4495,\n",
              " 4500,\n",
              " 4505,\n",
              " 4510,\n",
              " 4515,\n",
              " 4520,\n",
              " 4525,\n",
              " 4530,\n",
              " 4535,\n",
              " 4540,\n",
              " 4545,\n",
              " 4550,\n",
              " 4555,\n",
              " 4560,\n",
              " 4565,\n",
              " 4570,\n",
              " 4575,\n",
              " 4580,\n",
              " 4585,\n",
              " 4590,\n",
              " 4595,\n",
              " 4600,\n",
              " 4605,\n",
              " 4610,\n",
              " 4615,\n",
              " 4620,\n",
              " 4625,\n",
              " 4630,\n",
              " 4635,\n",
              " 4640,\n",
              " 4645,\n",
              " 4650,\n",
              " 4655,\n",
              " 4660,\n",
              " 4665,\n",
              " 4670,\n",
              " 4675,\n",
              " 4680,\n",
              " 4685,\n",
              " 4690,\n",
              " 4695,\n",
              " 4700,\n",
              " 4705,\n",
              " 4710,\n",
              " 4715,\n",
              " 4720,\n",
              " 4725,\n",
              " 4730,\n",
              " 4735,\n",
              " 4740,\n",
              " 4745,\n",
              " 4750,\n",
              " 4755,\n",
              " 4760,\n",
              " 4765,\n",
              " 4770,\n",
              " 4775,\n",
              " 4780,\n",
              " 4785,\n",
              " 4790,\n",
              " 4795,\n",
              " 4800,\n",
              " 4805,\n",
              " 4810,\n",
              " 4815,\n",
              " 4820,\n",
              " 4825,\n",
              " 4830,\n",
              " 4835,\n",
              " 4840,\n",
              " 4845,\n",
              " 4850,\n",
              " 4855,\n",
              " 4860,\n",
              " 4865,\n",
              " 4870,\n",
              " 4875,\n",
              " 4880,\n",
              " 4885,\n",
              " 4890,\n",
              " 4895,\n",
              " 4900,\n",
              " 4905,\n",
              " 4910,\n",
              " 4915,\n",
              " 4920,\n",
              " 4925,\n",
              " 4930,\n",
              " 4935,\n",
              " 4940,\n",
              " 4945,\n",
              " 4950,\n",
              " 4955,\n",
              " 4960,\n",
              " 4965,\n",
              " 4970,\n",
              " 4975,\n",
              " 4980,\n",
              " 4985,\n",
              " 4990,\n",
              " 4995,\n",
              " ...]"
            ]
          },
          "metadata": {},
          "execution_count": 37
        }
      ]
    },
    {
      "cell_type": "code",
      "source": [
        "five_times_table_lge = np.arange(0,5001,5)\n",
        "five_times_table_lge"
      ],
      "metadata": {
        "colab": {
          "base_uri": "https://localhost:8080/"
        },
        "id": "TdLTkhXrlqXe",
        "outputId": "b1b787d4-27c1-4df9-b7d8-1299948a9f15"
      },
      "execution_count": 38,
      "outputs": [
        {
          "output_type": "execute_result",
          "data": {
            "text/plain": [
              "array([   0,    5,   10, ..., 4990, 4995, 5000])"
            ]
          },
          "metadata": {},
          "execution_count": 38
        }
      ]
    },
    {
      "cell_type": "code",
      "source": [
        "%timeit five_times_table_lge + 5"
      ],
      "metadata": {
        "colab": {
          "base_uri": "https://localhost:8080/"
        },
        "id": "djYqy8Vcl4SK",
        "outputId": "6f3d2e59-29e8-46e3-8921-12d49b279060"
      },
      "execution_count": 39,
      "outputs": [
        {
          "output_type": "stream",
          "name": "stdout",
          "text": [
            "1.43 µs ± 288 ns per loop (mean ± std. dev. of 7 runs, 1000000 loops each)\n"
          ]
        }
      ]
    },
    {
      "cell_type": "code",
      "source": [
        "%timeit [e + 5 for e in fives_list]"
      ],
      "metadata": {
        "colab": {
          "base_uri": "https://localhost:8080/"
        },
        "id": "sqm7Lfz4mznL",
        "outputId": "e38cb939-bca5-46a8-f252-dd087d2befd4"
      },
      "execution_count": 40,
      "outputs": [
        {
          "output_type": "stream",
          "name": "stdout",
          "text": [
            "59.8 µs ± 611 ns per loop (mean ± std. dev. of 7 runs, 10000 loops each)\n"
          ]
        }
      ]
    },
    {
      "cell_type": "code",
      "source": [
        "words = np.array([\"ten\", \"nine\", \"eight\", \"seven\", \"six\"])\n",
        "\n",
        "print(np.isin(words, 'e'))\n",
        "\n",
        "print(\"e\" in words)\n",
        "[\"e\" in word for word in words]"
      ],
      "metadata": {
        "colab": {
          "base_uri": "https://localhost:8080/"
        },
        "id": "rR80bSohnlcb",
        "outputId": "46c688cd-dbaa-4e8e-d235-105bea7e4d55"
      },
      "execution_count": 41,
      "outputs": [
        {
          "output_type": "stream",
          "name": "stdout",
          "text": [
            "[False False False False False]\n",
            "False\n"
          ]
        },
        {
          "output_type": "execute_result",
          "data": {
            "text/plain": [
              "[True, True, True, True, False]"
            ]
          },
          "metadata": {},
          "execution_count": 41
        }
      ]
    },
    {
      "cell_type": "markdown",
      "source": [
        "TRANSPOSE"
      ],
      "metadata": {
        "id": "GmsL9y06noU1"
      }
    },
    {
      "cell_type": "code",
      "source": [
        "people"
      ],
      "metadata": {
        "colab": {
          "base_uri": "https://localhost:8080/"
        },
        "id": "RSuRIfKHnyeF",
        "outputId": "fddf29bb-ad88-4a22-8d75-01b06f02bea8"
      },
      "execution_count": 42,
      "outputs": [
        {
          "output_type": "execute_result",
          "data": {
            "text/plain": [
              "array([[ 2, 14, 38, 26, 45, 22, 48, 56, 63, 42, 60, 72]])"
            ]
          },
          "metadata": {},
          "execution_count": 42
        }
      ]
    },
    {
      "cell_type": "code",
      "source": [
        "people.shape = (2, 6)\n",
        "print(people, \"\\n\")\n",
        "print(people.T)"
      ],
      "metadata": {
        "colab": {
          "base_uri": "https://localhost:8080/"
        },
        "id": "MOIPeUwgnrlw",
        "outputId": "79ddee7f-b68f-4d22-8c87-0e85bb57c49f"
      },
      "execution_count": 43,
      "outputs": [
        {
          "output_type": "stream",
          "name": "stdout",
          "text": [
            "[[ 2 14 38 26 45 22]\n",
            " [48 56 63 42 60 72]] \n",
            "\n",
            "[[ 2 48]\n",
            " [14 56]\n",
            " [38 63]\n",
            " [26 42]\n",
            " [45 60]\n",
            " [22 72]]\n"
          ]
        }
      ]
    },
    {
      "cell_type": "markdown",
      "source": [
        "DATA TYPES"
      ],
      "metadata": {
        "id": "A9zRLGjwoS0b"
      }
    },
    {
      "cell_type": "code",
      "source": [
        "people.dtype"
      ],
      "metadata": {
        "colab": {
          "base_uri": "https://localhost:8080/"
        },
        "id": "JvtPfZBWoY3t",
        "outputId": "59946411-d64b-41cf-b9a1-5ef32095b1bf"
      },
      "execution_count": 44,
      "outputs": [
        {
          "output_type": "execute_result",
          "data": {
            "text/plain": [
              "dtype('int64')"
            ]
          },
          "metadata": {},
          "execution_count": 44
        }
      ]
    },
    {
      "cell_type": "code",
      "source": [
        "#What is the data type of the below ndarray?\n",
        "ages_with_strings = np.array([10, 5, 8, '32', '65', '43'])\n",
        "ages_with_strings.dtype\n",
        "ages_with_strings"
      ],
      "metadata": {
        "colab": {
          "base_uri": "https://localhost:8080/"
        },
        "id": "f2DbEcsWoiqg",
        "outputId": "687396e2-3415-48d4-d2da-d3999a247fa4"
      },
      "execution_count": 50,
      "outputs": [
        {
          "output_type": "execute_result",
          "data": {
            "text/plain": [
              "array(['10', '5', '8', '32', '65', '43'], dtype='<U21')"
            ]
          },
          "metadata": {},
          "execution_count": 50
        }
      ]
    },
    {
      "cell_type": "code",
      "source": [
        "#What is the dtype of this array?\n",
        "ages_with_strings = np.array([10, 5, 8, '32', '65', '43'], dtype='int32')\n",
        "ages_with_strings"
      ],
      "metadata": {
        "colab": {
          "base_uri": "https://localhost:8080/"
        },
        "id": "2J8X1QKLqFDK",
        "outputId": "cd25b34f-b0b1-401a-fe9f-033641696f5b"
      },
      "execution_count": 49,
      "outputs": [
        {
          "output_type": "execute_result",
          "data": {
            "text/plain": [
              "array([10,  5,  8, 32, 65, 43], dtype=int32)"
            ]
          },
          "metadata": {},
          "execution_count": 49
        }
      ]
    },
    {
      "cell_type": "code",
      "source": [
        "ages_with_strings = np.array([10, 5, 8, '32', '65', '43'])\n",
        "print(ages_with_strings)\n",
        "ages_with_strings.dtype = 'int32'\n",
        "print(ages_with_strings)\n"
      ],
      "metadata": {
        "colab": {
          "base_uri": "https://localhost:8080/"
        },
        "id": "rprF-bz3qWWy",
        "outputId": "12e07048-84e1-45d9-d7a7-af34c7f60194"
      },
      "execution_count": 51,
      "outputs": [
        {
          "output_type": "stream",
          "name": "stdout",
          "text": [
            "['10' '5' '8' '32' '65' '43']\n",
            "[49 48  0  0  0  0  0  0  0  0  0  0  0  0  0  0  0  0  0  0  0 53  0  0\n",
            "  0  0  0  0  0  0  0  0  0  0  0  0  0  0  0  0  0  0 56  0  0  0  0  0\n",
            "  0  0  0  0  0  0  0  0  0  0  0  0  0  0  0 51 50  0  0  0  0  0  0  0\n",
            "  0  0  0  0  0  0  0  0  0  0  0  0 54 53  0  0  0  0  0  0  0  0  0  0\n",
            "  0  0  0  0  0  0  0  0  0 52 51  0  0  0  0  0  0  0  0  0  0  0  0  0\n",
            "  0  0  0  0  0  0]\n"
          ]
        }
      ]
    },
    {
      "cell_type": "code",
      "source": [
        "ages_with_strings.size"
      ],
      "metadata": {
        "colab": {
          "base_uri": "https://localhost:8080/"
        },
        "id": "J3tb3SYgqYiG",
        "outputId": "769734c1-8015-4e9f-eb83-aba99b57bd01"
      },
      "execution_count": 52,
      "outputs": [
        {
          "output_type": "execute_result",
          "data": {
            "text/plain": [
              "126"
            ]
          },
          "metadata": {},
          "execution_count": 52
        }
      ]
    },
    {
      "cell_type": "code",
      "source": [
        "ages_with_strings.size/21"
      ],
      "metadata": {
        "colab": {
          "base_uri": "https://localhost:8080/"
        },
        "id": "xQpPXzebqdql",
        "outputId": "c04ea982-d2b0-429d-b1c7-2efde8380904"
      },
      "execution_count": 53,
      "outputs": [
        {
          "output_type": "execute_result",
          "data": {
            "text/plain": [
              "6.0"
            ]
          },
          "metadata": {},
          "execution_count": 53
        }
      ]
    },
    {
      "cell_type": "code",
      "source": [
        "np.array([10, 5, 8, '32', '65', '43']).size"
      ],
      "metadata": {
        "colab": {
          "base_uri": "https://localhost:8080/"
        },
        "id": "HR5EDn59qhRz",
        "outputId": "5b3d1e42-e527-4d40-e63b-dfe5df18963d"
      },
      "execution_count": 54,
      "outputs": [
        {
          "output_type": "execute_result",
          "data": {
            "text/plain": [
              "6"
            ]
          },
          "metadata": {},
          "execution_count": 54
        }
      ]
    },
    {
      "cell_type": "markdown",
      "source": [
        "astype()method"
      ],
      "metadata": {
        "id": "WCemlMX8qmUo"
      }
    },
    {
      "cell_type": "code",
      "source": [
        "ages_with_strings = np.array([10, 5, 8, '32', '65', '43'])\n",
        "print(ages_with_strings)\n",
        "print(ages_with_strings.astype('int32'))"
      ],
      "metadata": {
        "colab": {
          "base_uri": "https://localhost:8080/"
        },
        "id": "s9LzoKtAqovS",
        "outputId": "53cefa9b-4e88-465e-f3c7-63ef69ef08f5"
      },
      "execution_count": 55,
      "outputs": [
        {
          "output_type": "stream",
          "name": "stdout",
          "text": [
            "['10' '5' '8' '32' '65' '43']\n",
            "[10  5  8 32 65 43]\n"
          ]
        }
      ]
    },
    {
      "cell_type": "markdown",
      "source": [
        "EXCERCISE"
      ],
      "metadata": {
        "id": "MCQN7EV2qvAx"
      }
    },
    {
      "cell_type": "markdown",
      "source": [
        "1. Create an array of string numbers, but use dtype to make it an array of floats."
      ],
      "metadata": {
        "id": "-Mq8egD6q6sM"
      }
    },
    {
      "cell_type": "code",
      "source": [
        "numbers_strings = np.array(['2','23','56','12','76'],dtype='float')\n",
        "print(numbers_strings)"
      ],
      "metadata": {
        "colab": {
          "base_uri": "https://localhost:8080/"
        },
        "id": "QfuT7Etcq-N4",
        "outputId": "ab3957a8-cb6d-4326-e273-0a311da0deca"
      },
      "execution_count": 59,
      "outputs": [
        {
          "output_type": "stream",
          "name": "stdout",
          "text": [
            "[ 2. 23. 56. 12. 76.]\n"
          ]
        }
      ]
    },
    {
      "cell_type": "markdown",
      "source": [
        "2.Transpose the matrix, printing the new size and shape."
      ],
      "metadata": {
        "id": "IL7NBU4zrnRs"
      }
    },
    {
      "cell_type": "code",
      "source": [
        "matrix = np.array([2,3,5,6,98,67,4,14,74,80,8,63])\n",
        "matrix.shape = (2, 6)\n",
        "print(matrix, \"\\n\")\n",
        "print(matrix.T)"
      ],
      "metadata": {
        "colab": {
          "base_uri": "https://localhost:8080/"
        },
        "id": "a4Tc3sFZrmsH",
        "outputId": "21b779a6-10d3-429e-ec37-84dbb002d99e"
      },
      "execution_count": 62,
      "outputs": [
        {
          "output_type": "stream",
          "name": "stdout",
          "text": [
            "[[ 2  3  5  6 98 67]\n",
            " [ 4 14 74 80  8 63]] \n",
            "\n",
            "[[ 2  4]\n",
            " [ 3 14]\n",
            " [ 5 74]\n",
            " [ 6 80]\n",
            " [98  8]\n",
            " [67 63]]\n"
          ]
        }
      ]
    },
    {
      "cell_type": "markdown",
      "source": [
        "3. Use the .astype() method to convert the array to boolean."
      ],
      "metadata": {
        "id": "BKp3t76aFWQp"
      }
    },
    {
      "cell_type": "code",
      "source": [
        "ages_with_strings = np.array([10, 5, 8, '32', '65', '43'])\n",
        "print(ages_with_strings)\n",
        "print(ages_with_strings.astype('bool'))"
      ],
      "metadata": {
        "colab": {
          "base_uri": "https://localhost:8080/"
        },
        "id": "RnFXwb6rFYSh",
        "outputId": "aaf471b5-a2eb-4644-a733-4720516f9b6e"
      },
      "execution_count": 112,
      "outputs": [
        {
          "output_type": "stream",
          "name": "stdout",
          "text": [
            "['10' '5' '8' '32' '65' '43']\n",
            "[ True  True  True  True  True  True]\n"
          ]
        }
      ]
    },
    {
      "cell_type": "markdown",
      "source": [
        "ARRAY SLICING OPERATIONS"
      ],
      "metadata": {
        "id": "pc6InSMD0rHv"
      }
    },
    {
      "cell_type": "code",
      "source": [
        "five_times_table"
      ],
      "metadata": {
        "colab": {
          "base_uri": "https://localhost:8080/"
        },
        "id": "wk4FpAPI0w6w",
        "outputId": "fc9038ef-6b40-410a-a9e3-dcbec2d2119c"
      },
      "execution_count": 64,
      "outputs": [
        {
          "output_type": "execute_result",
          "data": {
            "text/plain": [
              "array([ 0,  5, 10, 15, 20, 25, 30, 35, 40, 45, 50])"
            ]
          },
          "metadata": {},
          "execution_count": 64
        }
      ]
    },
    {
      "cell_type": "code",
      "source": [
        "five_times_table[0]"
      ],
      "metadata": {
        "colab": {
          "base_uri": "https://localhost:8080/"
        },
        "id": "yvnqLcQB03SA",
        "outputId": "9f97e797-13e0-4a36-eda8-a97cbe1efe0b"
      },
      "execution_count": 65,
      "outputs": [
        {
          "output_type": "execute_result",
          "data": {
            "text/plain": [
              "0"
            ]
          },
          "metadata": {},
          "execution_count": 65
        }
      ]
    },
    {
      "cell_type": "code",
      "source": [
        "five_times_table[-1]"
      ],
      "metadata": {
        "colab": {
          "base_uri": "https://localhost:8080/"
        },
        "id": "iKXZ-2-P07k6",
        "outputId": "c5036813-9c6f-46dc-edb0-5cb167e906ba"
      },
      "execution_count": 66,
      "outputs": [
        {
          "output_type": "execute_result",
          "data": {
            "text/plain": [
              "50"
            ]
          },
          "metadata": {},
          "execution_count": 66
        }
      ]
    },
    {
      "cell_type": "code",
      "source": [
        "five_times_table[:4]"
      ],
      "metadata": {
        "colab": {
          "base_uri": "https://localhost:8080/"
        },
        "id": "NQVPdIf71Dnh",
        "outputId": "c105d0b6-a4d3-4594-fedf-fb3e3eeb1ba9"
      },
      "execution_count": 67,
      "outputs": [
        {
          "output_type": "execute_result",
          "data": {
            "text/plain": [
              "array([ 0,  5, 10, 15])"
            ]
          },
          "metadata": {},
          "execution_count": 67
        }
      ]
    },
    {
      "cell_type": "code",
      "source": [
        "five_times_table[4:]"
      ],
      "metadata": {
        "colab": {
          "base_uri": "https://localhost:8080/"
        },
        "id": "yz2n23q-1GF5",
        "outputId": "f14789c1-b24f-4c5e-d0d4-892a06be7dc6"
      },
      "execution_count": 68,
      "outputs": [
        {
          "output_type": "execute_result",
          "data": {
            "text/plain": [
              "array([20, 25, 30, 35, 40, 45, 50])"
            ]
          },
          "metadata": {},
          "execution_count": 68
        }
      ]
    },
    {
      "cell_type": "code",
      "source": [
        "print(people)\n",
        "people[:3, :3]"
      ],
      "metadata": {
        "colab": {
          "base_uri": "https://localhost:8080/"
        },
        "id": "eHnxYaP_1MMI",
        "outputId": "2b1311ec-a623-4459-c87a-c44e657168a7"
      },
      "execution_count": 69,
      "outputs": [
        {
          "output_type": "stream",
          "name": "stdout",
          "text": [
            "[[ 2 14 38 26 45 22]\n",
            " [48 56 63 42 60 72]]\n"
          ]
        },
        {
          "output_type": "execute_result",
          "data": {
            "text/plain": [
              "array([[ 2, 14, 38],\n",
              "       [48, 56, 63]])"
            ]
          },
          "metadata": {},
          "execution_count": 69
        }
      ]
    },
    {
      "cell_type": "markdown",
      "source": [
        "EXCERCISE"
      ],
      "metadata": {
        "id": "yCqJkSTq1QkB"
      }
    },
    {
      "cell_type": "markdown",
      "source": [
        "1. Create a numpy array with 50 zeros"
      ],
      "metadata": {
        "id": "6SYzod_t1YEN"
      }
    },
    {
      "cell_type": "code",
      "source": [
        "zeroArr = np.zeros(50)\n",
        "print(zeroArr)"
      ],
      "metadata": {
        "colab": {
          "base_uri": "https://localhost:8080/"
        },
        "id": "H58nbgeV1Sp1",
        "outputId": "9d9892e2-61d8-481d-8829-db7b929d388f"
      },
      "execution_count": 70,
      "outputs": [
        {
          "output_type": "stream",
          "name": "stdout",
          "text": [
            "[0. 0. 0. 0. 0. 0. 0. 0. 0. 0. 0. 0. 0. 0. 0. 0. 0. 0. 0. 0. 0. 0. 0. 0.\n",
            " 0. 0. 0. 0. 0. 0. 0. 0. 0. 0. 0. 0. 0. 0. 0. 0. 0. 0. 0. 0. 0. 0. 0. 0.\n",
            " 0. 0.]\n"
          ]
        }
      ]
    },
    {
      "cell_type": "markdown",
      "source": [
        "2. Create a np array of 2 repeated 20 times"
      ],
      "metadata": {
        "id": "6nv3xGHZ14W7"
      }
    },
    {
      "cell_type": "code",
      "source": [
        "number= np.array([2,4])\n",
        "print(\"20times:\", 20 * number)"
      ],
      "metadata": {
        "colab": {
          "base_uri": "https://localhost:8080/"
        },
        "id": "QxYNFaM_1WXC",
        "outputId": "dac504fc-63a7-4896-abf2-5cb1f58a4784"
      },
      "execution_count": 71,
      "outputs": [
        {
          "output_type": "stream",
          "name": "stdout",
          "text": [
            "20times: [40 80]\n"
          ]
        }
      ]
    },
    {
      "cell_type": "markdown",
      "source": [
        "Create a numpy array from 0 to 2pi in steps of 0.1"
      ],
      "metadata": {
        "id": "B_4usekM2-pO"
      }
    },
    {
      "cell_type": "code",
      "source": [
        "number = np.arange(0, 6.28, 0.1)\n",
        "print(number)"
      ],
      "metadata": {
        "colab": {
          "base_uri": "https://localhost:8080/"
        },
        "id": "9F451YN03FLk",
        "outputId": "63bbcef7-e295-44ba-b139-0c536ef639a3"
      },
      "execution_count": 73,
      "outputs": [
        {
          "output_type": "stream",
          "name": "stdout",
          "text": [
            "[0.  0.1 0.2 0.3 0.4 0.5 0.6 0.7 0.8 0.9 1.  1.1 1.2 1.3 1.4 1.5 1.6 1.7\n",
            " 1.8 1.9 2.  2.1 2.2 2.3 2.4 2.5 2.6 2.7 2.8 2.9 3.  3.1 3.2 3.3 3.4 3.5\n",
            " 3.6 3.7 3.8 3.9 4.  4.1 4.2 4.3 4.4 4.5 4.6 4.7 4.8 4.9 5.  5.1 5.2 5.3\n",
            " 5.4 5.5 5.6 5.7 5.8 5.9 6.  6.1 6.2]\n"
          ]
        }
      ]
    },
    {
      "cell_type": "markdown",
      "source": [
        "First five values"
      ],
      "metadata": {
        "id": "gkqiRwnrEKXR"
      }
    },
    {
      "cell_type": "code",
      "source": [
        "number[:5]"
      ],
      "metadata": {
        "colab": {
          "base_uri": "https://localhost:8080/"
        },
        "id": "__KAJo3bEIrz",
        "outputId": "a6389994-e5ab-484b-de23-1c9e02e7ed99"
      },
      "execution_count": 108,
      "outputs": [
        {
          "output_type": "execute_result",
          "data": {
            "text/plain": [
              "array([0. , 0.1, 0.2, 0.3, 0.4])"
            ]
          },
          "metadata": {},
          "execution_count": 108
        }
      ]
    },
    {
      "cell_type": "markdown",
      "source": [
        "Last 3 values"
      ],
      "metadata": {
        "id": "Fqqb5-vhEWMZ"
      }
    },
    {
      "cell_type": "code",
      "source": [
        "number[-3:]"
      ],
      "metadata": {
        "id": "CVCqRVxBEX2u"
      },
      "execution_count": null,
      "outputs": []
    },
    {
      "cell_type": "markdown",
      "source": [
        "Get 4th to 7th value"
      ],
      "metadata": {
        "id": "xEf0ZdoNEajn"
      }
    },
    {
      "cell_type": "code",
      "source": [
        "number[3:6]"
      ],
      "metadata": {
        "colab": {
          "base_uri": "https://localhost:8080/"
        },
        "id": "3PnUM7WTEhCL",
        "outputId": "f5f13679-9915-4128-9f8f-97f2a6c24650"
      },
      "execution_count": 109,
      "outputs": [
        {
          "output_type": "execute_result",
          "data": {
            "text/plain": [
              "array([0.3, 0.4, 0.5])"
            ]
          },
          "metadata": {},
          "execution_count": 109
        }
      ]
    },
    {
      "cell_type": "markdown",
      "source": [
        "n.flip() method"
      ],
      "metadata": {
        "id": "iEUCZCAx4j7p"
      }
    },
    {
      "cell_type": "code",
      "source": [
        "print(five_times_table)"
      ],
      "metadata": {
        "colab": {
          "base_uri": "https://localhost:8080/"
        },
        "id": "834nsAlg4pnp",
        "outputId": "0186633b-348e-4b09-fe95-07d4911c1873"
      },
      "execution_count": 74,
      "outputs": [
        {
          "output_type": "stream",
          "name": "stdout",
          "text": [
            "[ 0  5 10 15 20 25 30 35 40 45 50]\n"
          ]
        }
      ]
    },
    {
      "cell_type": "code",
      "source": [
        "reverse_five_times_table = np.flip(five_times_table)\n",
        "reverse_five_times_table"
      ],
      "metadata": {
        "colab": {
          "base_uri": "https://localhost:8080/"
        },
        "id": "s06GWYI74zAw",
        "outputId": "5fc0e7b5-f65b-4461-ea6e-a59d6c28e3a9"
      },
      "execution_count": 75,
      "outputs": [
        {
          "output_type": "execute_result",
          "data": {
            "text/plain": [
              "array([50, 45, 40, 35, 30, 25, 20, 15, 10,  5,  0])"
            ]
          },
          "metadata": {},
          "execution_count": 75
        }
      ]
    },
    {
      "cell_type": "markdown",
      "source": [
        ":: operator"
      ],
      "metadata": {
        "id": "iB6sAAU25Eja"
      }
    },
    {
      "cell_type": "code",
      "source": [
        "reverse_five_times_table = five_times_table[-1::-1]\n",
        "print(reverse_five_times_table)"
      ],
      "metadata": {
        "colab": {
          "base_uri": "https://localhost:8080/"
        },
        "id": "tBydy97k49a9",
        "outputId": "bbdad182-3008-4603-99f6-31ddbf6cd5fc"
      },
      "execution_count": 79,
      "outputs": [
        {
          "output_type": "stream",
          "name": "stdout",
          "text": [
            "[50 45 40 35 30 25 20 15 10  5  0]\n"
          ]
        }
      ]
    },
    {
      "cell_type": "code",
      "source": [
        "five_times_table[0::3]"
      ],
      "metadata": {
        "colab": {
          "base_uri": "https://localhost:8080/"
        },
        "id": "deMK799J5V7Q",
        "outputId": "5739b6eb-4029-4cea-d5df-18b0821f1ad9"
      },
      "execution_count": 80,
      "outputs": [
        {
          "output_type": "execute_result",
          "data": {
            "text/plain": [
              "array([ 0, 15, 30, 45])"
            ]
          },
          "metadata": {},
          "execution_count": 80
        }
      ]
    },
    {
      "cell_type": "markdown",
      "source": [
        "EXCERCISE"
      ],
      "metadata": {
        "id": "kVtFK9cN5vvt"
      }
    },
    {
      "cell_type": "markdown",
      "source": [
        "Reverse it"
      ],
      "metadata": {
        "id": "ceuQfraC5y2t"
      }
    },
    {
      "cell_type": "code",
      "source": [
        "people= people.reshape(1,12)\n",
        "people"
      ],
      "metadata": {
        "colab": {
          "base_uri": "https://localhost:8080/"
        },
        "id": "0D2-JZtN5_St",
        "outputId": "1d39091c-dce1-45f9-d622-d94d962784e1"
      },
      "execution_count": 83,
      "outputs": [
        {
          "output_type": "execute_result",
          "data": {
            "text/plain": [
              "array([[ 2, 14, 38, 26, 45, 22, 48, 56, 63, 42, 60, 72]])"
            ]
          },
          "metadata": {},
          "execution_count": 83
        }
      ]
    },
    {
      "cell_type": "code",
      "source": [
        "reverse_people = np.flip(people)\n",
        "reverse_people"
      ],
      "metadata": {
        "colab": {
          "base_uri": "https://localhost:8080/"
        },
        "id": "UFLaT_2d6Mqk",
        "outputId": "4aba78d3-c1c4-4ed7-80c0-2f1f7fdaef81"
      },
      "execution_count": 84,
      "outputs": [
        {
          "output_type": "execute_result",
          "data": {
            "text/plain": [
              "array([[72, 60, 42, 63, 56, 48, 22, 45, 26, 38, 14,  2]])"
            ]
          },
          "metadata": {},
          "execution_count": 84
        }
      ]
    },
    {
      "cell_type": "markdown",
      "source": [
        "2. Only keep every 4th element"
      ],
      "metadata": {
        "id": "z1gr3U8z6mDx"
      }
    },
    {
      "cell_type": "code",
      "source": [
        "print(number[0::4])"
      ],
      "metadata": {
        "colab": {
          "base_uri": "https://localhost:8080/"
        },
        "id": "qxlZUruv6ob_",
        "outputId": "b98fd2f7-21f4-4362-c0e7-839a4b320300"
      },
      "execution_count": 110,
      "outputs": [
        {
          "output_type": "stream",
          "name": "stdout",
          "text": [
            "[0.  0.4 0.8 1.2 1.6 2.  2.4 2.8 3.2 3.6 4.  4.4 4.8 5.2 5.6 6. ]\n"
          ]
        }
      ]
    },
    {
      "cell_type": "markdown",
      "source": [
        "Get every 2nd element, starting from the last and moving backwards."
      ],
      "metadata": {
        "id": "PyfFsqCD7kce"
      }
    },
    {
      "cell_type": "code",
      "source": [
        "print(number[::2])"
      ],
      "metadata": {
        "colab": {
          "base_uri": "https://localhost:8080/"
        },
        "id": "i62HFLr57sQf",
        "outputId": "0685e641-b75f-45d4-d3c1-a7108e6ecb18"
      },
      "execution_count": 111,
      "outputs": [
        {
          "output_type": "stream",
          "name": "stdout",
          "text": [
            "[0.  0.2 0.4 0.6 0.8 1.  1.2 1.4 1.6 1.8 2.  2.2 2.4 2.6 2.8 3.  3.2 3.4\n",
            " 3.6 3.8 4.  4.2 4.4 4.6 4.8 5.  5.2 5.4 5.6 5.8 6.  6.2]\n"
          ]
        }
      ]
    },
    {
      "cell_type": "markdown",
      "source": [
        "STATS"
      ],
      "metadata": {
        "id": "yHBWryry72PN"
      }
    },
    {
      "cell_type": "code",
      "source": [
        "np.array([1.65432, 5.98765]).round(2)"
      ],
      "metadata": {
        "colab": {
          "base_uri": "https://localhost:8080/"
        },
        "id": "IKBOA_on749r",
        "outputId": "09ea9191-d4e9-4f64-d939-17f9fc924f78"
      },
      "execution_count": 85,
      "outputs": [
        {
          "output_type": "execute_result",
          "data": {
            "text/plain": [
              "array([1.65, 5.99])"
            ]
          },
          "metadata": {},
          "execution_count": 85
        }
      ]
    },
    {
      "cell_type": "code",
      "source": [
        "nums = np.arange(0, 4, 0.2555)\n",
        "print(nums)"
      ],
      "metadata": {
        "colab": {
          "base_uri": "https://localhost:8080/"
        },
        "id": "b1wEq1DC8Akd",
        "outputId": "e896197e-958a-4627-d52d-706e442da035"
      },
      "execution_count": 87,
      "outputs": [
        {
          "output_type": "stream",
          "name": "stdout",
          "text": [
            "[0.     0.2555 0.511  0.7665 1.022  1.2775 1.533  1.7885 2.044  2.2995\n",
            " 2.555  2.8105 3.066  3.3215 3.577  3.8325]\n"
          ]
        }
      ]
    },
    {
      "cell_type": "markdown",
      "source": [
        "EXCERCISE"
      ],
      "metadata": {
        "id": "Tnnmg8Lw8S_M"
      }
    },
    {
      "cell_type": "markdown",
      "source": [
        "Compute min, max, sum, mean, median, variance, and standard deviation of the above array, all to to 2 decimal places."
      ],
      "metadata": {
        "id": "wiuU9czW8ZaO"
      }
    },
    {
      "cell_type": "code",
      "source": [
        "print(\"min = \", np.min(nums).round(2))\n",
        "print(\"max = \", np.max(nums).round(2))\n",
        "print(\"sum = \", np.sum(nums).round(2))\n",
        "print(\"mean = \", np.mean(nums).round(2))\n",
        "print(\"median = \", np.median(nums).round(2))\n",
        "print(\"var = \", np.var(nums).round(2))\n",
        "print(\"std = \", np.std(nums).round(2))"
      ],
      "metadata": {
        "colab": {
          "base_uri": "https://localhost:8080/"
        },
        "id": "BCNQHI558WOn",
        "outputId": "f9f8a7b3-1389-4c29-c811-e76197aeeca6"
      },
      "execution_count": 88,
      "outputs": [
        {
          "output_type": "stream",
          "name": "stdout",
          "text": [
            "min =  0.0\n",
            "max =  3.83\n",
            "sum =  30.66\n",
            "mean =  1.92\n",
            "median =  1.92\n",
            "var =  1.39\n",
            "std =  1.18\n"
          ]
        }
      ]
    },
    {
      "cell_type": "markdown",
      "source": [
        "RANDOM"
      ],
      "metadata": {
        "id": "5L1QHas-8kmq"
      }
    },
    {
      "cell_type": "markdown",
      "source": [
        "np.random() method"
      ],
      "metadata": {
        "id": "4eZu8xRf8oQm"
      }
    },
    {
      "cell_type": "code",
      "source": [
        "flip = np.random.choice([0,1], 10)\n",
        "flip"
      ],
      "metadata": {
        "colab": {
          "base_uri": "https://localhost:8080/"
        },
        "id": "hMICc2Pg8mZg",
        "outputId": "fa440f5c-beb7-462b-d10d-f969a665a192"
      },
      "execution_count": 89,
      "outputs": [
        {
          "output_type": "execute_result",
          "data": {
            "text/plain": [
              "array([0, 0, 0, 1, 0, 1, 1, 0, 1, 0])"
            ]
          },
          "metadata": {},
          "execution_count": 89
        }
      ]
    },
    {
      "cell_type": "code",
      "source": [
        "np.random.rand(10,20,9)"
      ],
      "metadata": {
        "colab": {
          "base_uri": "https://localhost:8080/"
        },
        "id": "wJvGzSYT8xpO",
        "outputId": "1eed2f18-1ac6-472e-cd87-a3e035e78ec2"
      },
      "execution_count": 90,
      "outputs": [
        {
          "output_type": "execute_result",
          "data": {
            "text/plain": [
              "array([[[0.87609178, 0.68481183, 0.77324018, ..., 0.03153006,\n",
              "         0.66273262, 0.77481439],\n",
              "        [0.26398667, 0.20159606, 0.23109179, ..., 0.72484591,\n",
              "         0.04977993, 0.76579567],\n",
              "        [0.2290348 , 0.94753694, 0.69338081, ..., 0.14733096,\n",
              "         0.38398946, 0.49143629],\n",
              "        ...,\n",
              "        [0.16380327, 0.75642951, 0.03099865, ..., 0.80037639,\n",
              "         0.04776116, 0.10498047],\n",
              "        [0.81505706, 0.03688695, 0.97456409, ..., 0.92767197,\n",
              "         0.0042897 , 0.61847471],\n",
              "        [0.63538862, 0.65661251, 0.77938261, ..., 0.88807911,\n",
              "         0.73353463, 0.22544205]],\n",
              "\n",
              "       [[0.2126993 , 0.99317236, 0.77200399, ..., 0.88940142,\n",
              "         0.34817182, 0.33980209],\n",
              "        [0.39899175, 0.54269738, 0.06988179, ..., 0.03512705,\n",
              "         0.26348985, 0.17263749],\n",
              "        [0.22419025, 0.14864161, 0.03752379, ..., 0.36436306,\n",
              "         0.4092582 , 0.3170334 ],\n",
              "        ...,\n",
              "        [0.8236508 , 0.28131676, 0.05229028, ..., 0.19295798,\n",
              "         0.77462211, 0.20546431],\n",
              "        [0.17051179, 0.66894746, 0.89044552, ..., 0.94669025,\n",
              "         0.70640555, 0.37002144],\n",
              "        [0.43195285, 0.44449447, 0.05630682, ..., 0.67175767,\n",
              "         0.07559116, 0.34294664]],\n",
              "\n",
              "       [[0.60916641, 0.21042447, 0.1355933 , ..., 0.38195193,\n",
              "         0.28765552, 0.65571461],\n",
              "        [0.86259886, 0.43822254, 0.38118745, ..., 0.30185696,\n",
              "         0.46693746, 0.71733728],\n",
              "        [0.26337929, 0.93808596, 0.43151634, ..., 0.40177152,\n",
              "         0.05028629, 0.74744147],\n",
              "        ...,\n",
              "        [0.02208497, 0.41018849, 0.36203868, ..., 0.09528616,\n",
              "         0.24548309, 0.3913105 ],\n",
              "        [0.21506405, 0.03528565, 0.06830246, ..., 0.49127567,\n",
              "         0.61819479, 0.40791492],\n",
              "        [0.34245893, 0.79867669, 0.71591177, ..., 0.60784827,\n",
              "         0.51691707, 0.84029533]],\n",
              "\n",
              "       ...,\n",
              "\n",
              "       [[0.98287985, 0.08247791, 0.70731631, ..., 0.75757814,\n",
              "         0.75367064, 0.20414431],\n",
              "        [0.93103652, 0.67025888, 0.50573856, ..., 0.96772628,\n",
              "         0.75018278, 0.0899141 ],\n",
              "        [0.48789463, 0.0611649 , 0.45591547, ..., 0.05654445,\n",
              "         0.41232761, 0.59731087],\n",
              "        ...,\n",
              "        [0.96088398, 0.29866505, 0.4134395 , ..., 0.12761063,\n",
              "         0.19311903, 0.81791125],\n",
              "        [0.11332369, 0.4964838 , 0.28607676, ..., 0.70536197,\n",
              "         0.529756  , 0.6135907 ],\n",
              "        [0.84406876, 0.09845245, 0.33769331, ..., 0.01325446,\n",
              "         0.54157443, 0.41489965]],\n",
              "\n",
              "       [[0.50869934, 0.44767174, 0.55999196, ..., 0.48615545,\n",
              "         0.28852119, 0.08104958],\n",
              "        [0.21240201, 0.20500414, 0.98462152, ..., 0.43881286,\n",
              "         0.31062146, 0.58929564],\n",
              "        [0.76156299, 0.49882503, 0.114707  , ..., 0.72338629,\n",
              "         0.67624752, 0.26403759],\n",
              "        ...,\n",
              "        [0.74206709, 0.40005726, 0.50525343, ..., 0.79533862,\n",
              "         0.61360635, 0.52100897],\n",
              "        [0.34426082, 0.7870802 , 0.3665802 , ..., 0.70456971,\n",
              "         0.9186506 , 0.66208584],\n",
              "        [0.71391681, 0.09976059, 0.37727561, ..., 0.8942099 ,\n",
              "         0.64110026, 0.10650879]],\n",
              "\n",
              "       [[0.89559182, 0.29139974, 0.58019512, ..., 0.83059393,\n",
              "         0.8807334 , 0.05537785],\n",
              "        [0.09006308, 0.82163642, 0.107115  , ..., 0.28070174,\n",
              "         0.45518104, 0.65175732],\n",
              "        [0.23742523, 0.30171694, 0.25298142, ..., 0.93177309,\n",
              "         0.41878458, 0.48860238],\n",
              "        ...,\n",
              "        [0.27924806, 0.46245497, 0.62096458, ..., 0.81555986,\n",
              "         0.19017049, 0.11850426],\n",
              "        [0.39233116, 0.68025637, 0.54290813, ..., 0.47227275,\n",
              "         0.95733413, 0.11437614],\n",
              "        [0.28320366, 0.84659289, 0.10115835, ..., 0.77892659,\n",
              "         0.24342403, 0.90771099]]])"
            ]
          },
          "metadata": {},
          "execution_count": 90
        }
      ]
    },
    {
      "cell_type": "markdown",
      "source": [
        "np.random.normal()"
      ],
      "metadata": {
        "id": "8nV5v_kg82L8"
      }
    },
    {
      "cell_type": "code",
      "source": [
        "mu, sigma = 0, 0.1 # mean and standard deviation\n",
        "s = np.random.normal(mu, sigma, 1000)\n",
        "s"
      ],
      "metadata": {
        "colab": {
          "base_uri": "https://localhost:8080/"
        },
        "id": "pjoheAv_84b0",
        "outputId": "bac73493-3133-4b55-f445-1d1a98c28495"
      },
      "execution_count": 92,
      "outputs": [
        {
          "output_type": "execute_result",
          "data": {
            "text/plain": [
              "array([ 3.52367263e-03, -6.68266886e-02, -1.81941389e-01, -1.27899076e-01,\n",
              "       -2.47743801e-02, -1.05866324e-01,  2.89742906e-01, -1.99296220e-02,\n",
              "        7.38136586e-02,  2.06647639e-01, -6.04819942e-02,  1.00939744e-02,\n",
              "       -2.72930406e-02,  1.14464042e-01, -5.49284331e-02, -2.56247106e-01,\n",
              "        7.32398654e-02,  1.81891183e-01, -1.19929730e-01,  2.86200674e-02,\n",
              "       -2.50412740e-02,  1.12671088e-01, -2.10197988e-01,  8.31503314e-02,\n",
              "       -9.20013388e-02,  1.68830843e-01, -1.84699801e-02, -1.67449817e-02,\n",
              "       -1.98462881e-02,  1.54551659e-01,  1.16033411e-02, -4.89886182e-02,\n",
              "       -8.18789486e-03,  1.54199701e-01,  2.34161011e-02,  1.73501230e-01,\n",
              "        3.97079078e-02,  8.21443023e-02,  6.98471768e-03,  2.73182148e-02,\n",
              "        9.80690186e-02, -3.90958322e-03, -1.19549842e-01,  9.07212735e-02,\n",
              "        5.59083940e-02,  1.52655905e-01, -1.30261784e-01, -4.20076104e-02,\n",
              "       -2.20410713e-02, -8.49120914e-02, -1.63337141e-02, -1.27003314e-01,\n",
              "        1.55871890e-02, -1.50172000e-01, -2.55058295e-01, -9.10834992e-02,\n",
              "       -1.01174481e-01, -1.80742833e-02,  1.28161941e-01,  1.05065870e-01,\n",
              "       -1.62964740e-02, -6.68157347e-02, -2.77382683e-02, -1.10375865e-01,\n",
              "       -6.73342817e-02, -3.23288754e-02,  1.40675019e-01,  1.52845281e-02,\n",
              "        6.63408552e-02,  4.67482776e-02, -2.17933255e-01,  5.80036432e-02,\n",
              "       -4.87859587e-02,  1.39255736e-02,  7.10832129e-02, -1.83337529e-02,\n",
              "       -2.08229442e-02,  5.57164222e-02, -1.46714268e-01, -1.13548221e-01,\n",
              "        2.74132636e-02, -7.29417371e-02,  5.72029029e-02, -8.98813985e-02,\n",
              "       -1.25151996e-01, -1.21968530e-01, -6.57715597e-02,  3.67089307e-03,\n",
              "       -3.30440277e-02, -1.35328652e-02,  3.39685051e-03,  1.25074477e-01,\n",
              "       -2.45385057e-01, -5.39778487e-02, -8.66376055e-02,  8.61815390e-03,\n",
              "       -5.52454254e-02,  7.58190103e-02, -1.08025010e-01,  1.57790572e-01,\n",
              "       -1.15956624e-01,  1.53948016e-01, -2.35504684e-02, -1.28090411e-01,\n",
              "        6.35216505e-02,  3.67961653e-02,  9.18803228e-03,  4.61485039e-04,\n",
              "       -1.14104969e-01,  1.51311884e-01, -6.58354120e-02,  1.45826833e-01,\n",
              "        4.21251655e-02,  1.08941881e-01,  2.24085115e-02,  5.95228127e-02,\n",
              "        1.68513008e-01,  9.98317742e-02,  1.05147728e-01,  8.40008808e-02,\n",
              "        7.67701964e-03, -1.04414363e-01, -7.89833434e-02, -1.97149962e-01,\n",
              "       -4.61314158e-02,  1.26097810e-01, -1.00130964e-01,  1.45559637e-02,\n",
              "        3.96130640e-02, -2.04425420e-01,  1.54722201e-02, -2.80380050e-02,\n",
              "       -1.07662196e-01, -3.85127962e-02,  2.26449313e-01,  2.95820098e-03,\n",
              "       -4.98043678e-02, -2.62953755e-01,  1.06765340e-01,  8.26567751e-02,\n",
              "        5.45011028e-02,  5.42960705e-02,  7.47695477e-03, -1.02749984e-02,\n",
              "       -9.98199759e-02, -6.72910979e-02, -3.41789139e-02,  1.84504961e-01,\n",
              "       -2.26478564e-02,  6.10582126e-02,  1.31690605e-01,  1.01721750e-01,\n",
              "        1.66554405e-01, -1.46541308e-01,  1.29212311e-01,  1.07001433e-02,\n",
              "       -1.20468427e-02,  3.52679246e-02,  5.66799169e-02,  1.26508245e-02,\n",
              "       -1.22169295e-01,  1.63921985e-01,  5.89178219e-02,  4.85407766e-02,\n",
              "        1.02545613e-01, -5.06297935e-02,  2.46157408e-02,  9.00304935e-02,\n",
              "       -2.58225616e-02, -3.77848483e-02, -5.50653481e-02, -9.77771637e-02,\n",
              "       -1.67095387e-01, -2.21605714e-02, -1.41825377e-02,  1.90643334e-01,\n",
              "        8.97712780e-02,  5.26142856e-02, -1.00899794e-01, -6.83593415e-02,\n",
              "       -5.92458921e-02,  9.54803376e-02,  1.25694308e-01, -2.22192525e-02,\n",
              "        3.00621636e-02, -7.01820866e-02,  3.27045753e-02,  1.71627761e-03,\n",
              "       -4.10276289e-02,  4.22066176e-03,  1.48989120e-01,  3.69171578e-02,\n",
              "       -3.05064730e-03, -3.49589533e-02, -3.80508307e-02, -5.34410265e-03,\n",
              "       -1.31716328e-01, -7.59417473e-02, -5.88079264e-02, -8.48244996e-02,\n",
              "        2.54394179e-01, -8.07455568e-02,  4.21499265e-03, -5.88198685e-02,\n",
              "        5.99601547e-03, -3.42974643e-01, -1.38766388e-01, -9.68642264e-02,\n",
              "       -7.57596204e-02,  4.78114126e-03, -5.56183493e-02, -1.68655207e-01,\n",
              "       -1.10329269e-02, -1.80230820e-01,  2.44602678e-02, -1.17344631e-01,\n",
              "       -7.48619034e-02,  5.21488107e-02, -1.31066648e-01, -1.28300990e-01,\n",
              "        2.71513506e-02, -4.95179255e-02, -3.72087315e-02,  6.82304673e-02,\n",
              "        9.80201287e-02, -7.73256678e-02,  2.84784512e-02,  1.51545623e-01,\n",
              "        1.49300710e-01, -2.11764089e-02,  2.14391981e-03,  9.22972646e-02,\n",
              "        1.02428038e-01,  9.49605247e-02,  6.82984562e-03, -4.13563578e-02,\n",
              "       -1.68631820e-01, -6.94841107e-02,  1.60253375e-01, -5.36179059e-03,\n",
              "        5.75323500e-03, -5.05796314e-02,  1.59391567e-02, -1.59272248e-01,\n",
              "       -1.45346219e-01, -6.68252776e-02, -4.77151968e-02, -2.35884737e-01,\n",
              "        1.66542553e-01, -2.96646414e-02, -1.69411714e-01, -3.31278682e-02,\n",
              "       -4.97067717e-03, -1.58431306e-01,  5.81744607e-03,  5.51676582e-02,\n",
              "        1.12350951e-03, -2.73570138e-02,  1.07090817e-01,  6.95044271e-02,\n",
              "        2.00066976e-03,  2.56235559e-03, -2.00869423e-02,  1.85076042e-01,\n",
              "       -8.77138656e-02,  6.96636690e-03,  2.94050250e-02,  6.82171885e-02,\n",
              "       -3.62860712e-02, -8.00334368e-02,  8.63318343e-02,  6.54136639e-02,\n",
              "        1.73344420e-02,  1.45906715e-01,  1.69793851e-02,  4.51891614e-02,\n",
              "       -2.77974490e-02, -5.91438818e-02,  5.55554050e-02,  5.64011314e-03,\n",
              "       -6.04903255e-02, -5.29579656e-02,  1.41860091e-02,  2.70871832e-01,\n",
              "        1.72136498e-01,  7.62586577e-02, -5.20825518e-02, -2.38096794e-02,\n",
              "       -1.34632743e-02,  1.23752382e-01, -9.95815561e-02, -1.95473183e-01,\n",
              "        2.41534051e-02,  8.31179212e-02,  7.36022755e-02,  8.61475667e-02,\n",
              "        1.59583369e-01,  2.25114511e-01, -1.47253285e-01,  6.85457309e-02,\n",
              "       -7.82617412e-02, -7.02893309e-03,  3.23589667e-02, -1.37117271e-01,\n",
              "        2.43539387e-02, -7.78321313e-03,  6.79934003e-02, -1.03750137e-01,\n",
              "       -3.18346933e-02,  1.09628541e-01, -1.44802718e-01,  2.45990776e-01,\n",
              "       -3.54817576e-02, -3.92220371e-02,  7.69191229e-02, -4.02122795e-02,\n",
              "        1.38351874e-01,  7.01849780e-02, -1.03930401e-01, -1.95827109e-01,\n",
              "       -8.87232796e-02, -7.01002443e-02,  3.87654653e-02,  1.12882155e-01,\n",
              "       -1.48310530e-01, -3.84996513e-02, -5.01046162e-04, -4.74919576e-02,\n",
              "       -9.87815866e-02,  5.63968579e-02, -9.75522019e-02, -1.26495773e-02,\n",
              "        8.97084564e-03, -1.02667970e-01, -4.53153407e-02,  7.64953105e-02,\n",
              "       -1.57062338e-01,  6.78990040e-02, -5.74407445e-02,  1.02579624e-01,\n",
              "        4.10897640e-02,  6.88924037e-02,  1.32020939e-01, -5.07147387e-02,\n",
              "        1.21104561e-04, -1.39921736e-01, -2.19584599e-02, -1.11880818e-01,\n",
              "       -5.60352222e-02,  6.81346215e-02, -1.98520637e-01, -5.82028571e-02,\n",
              "        7.86963585e-02, -6.08227590e-02, -3.43312223e-02,  6.19255713e-02,\n",
              "       -1.59496274e-01, -6.25154018e-02,  2.15011204e-02, -1.31901400e-01,\n",
              "        1.70319183e-02, -9.69113863e-02,  1.25771463e-01,  3.06729008e-02,\n",
              "       -1.76311707e-01,  1.09589915e-01,  8.58847829e-02,  7.03499752e-02,\n",
              "        4.11616996e-02,  8.54978098e-02,  3.71857994e-02, -2.03541105e-02,\n",
              "       -4.41620845e-02, -1.38136424e-01, -1.82097874e-01,  1.65098404e-01,\n",
              "       -1.82080098e-02, -1.66443258e-01, -2.69814821e-02, -1.36929885e-01,\n",
              "       -5.38973589e-02,  5.54484243e-02, -4.80662479e-02, -2.11891087e-01,\n",
              "        1.89216094e-03,  2.92387326e-02, -5.98094579e-02, -1.86250245e-02,\n",
              "       -8.15371087e-02, -3.02062344e-02, -1.96747757e-01, -5.21049882e-02,\n",
              "        3.46487638e-02, -6.81374246e-03, -5.04237922e-02,  9.03100124e-02,\n",
              "        9.99863024e-02,  1.94260842e-02,  2.09064680e-02,  1.28669078e-01,\n",
              "        1.83401614e-01,  7.84354470e-02,  5.00580210e-02,  3.67467214e-02,\n",
              "       -2.54731654e-02, -2.66541173e-01,  7.97637643e-02,  5.90622724e-02,\n",
              "        9.92159200e-02,  4.95996197e-02, -1.63042930e-02,  9.85592314e-02,\n",
              "        1.62643362e-03, -1.18503806e-02, -7.33969332e-02,  2.11688897e-02,\n",
              "        2.16523486e-02,  5.39700537e-02, -2.75556138e-02, -1.49648243e-01,\n",
              "       -3.80472033e-02, -1.14855004e-01, -2.33152454e-02,  4.89578215e-02,\n",
              "        1.83900194e-01,  1.36549786e-01, -9.32075338e-02, -2.01239530e-01,\n",
              "        1.83897399e-01, -5.66744882e-02,  1.14273323e-01, -4.78259860e-02,\n",
              "       -2.13291733e-02, -1.07436488e-01, -3.29337519e-02,  1.47287078e-02,\n",
              "       -7.89217562e-02, -6.65038669e-02,  1.85701599e-02,  1.93472711e-01,\n",
              "       -1.41762080e-01, -1.09509528e-01, -1.00009875e-01,  1.88788856e-01,\n",
              "       -2.06448394e-03, -5.53597213e-02,  6.66275062e-02,  1.08849465e-02,\n",
              "       -1.43247104e-01,  1.27016559e-01,  6.46689801e-02,  5.27507587e-02,\n",
              "        1.28137958e-01, -1.28112468e-01,  3.51619733e-02,  9.57448485e-02,\n",
              "        2.08513249e-03,  1.34767107e-02,  1.91783138e-01, -3.66235225e-02,\n",
              "       -4.11859894e-02,  1.10168212e-01, -9.84970500e-02,  2.78521959e-01,\n",
              "        1.53589662e-01,  3.59166052e-02, -1.30098559e-01,  4.88333375e-02,\n",
              "        1.09135765e-01, -9.53010493e-02, -7.94485714e-02,  3.01384785e-02,\n",
              "       -1.92516744e-02, -1.95586402e-01, -7.47055953e-02, -7.99850304e-02,\n",
              "       -9.19429329e-02,  5.56019163e-02, -8.34167412e-02,  9.96745181e-02,\n",
              "        6.59705133e-02, -2.38343092e-03, -8.09861214e-02, -7.90259969e-02,\n",
              "        1.45868251e-02,  3.62193604e-03, -2.24408834e-01, -1.46247871e-02,\n",
              "        4.70705500e-02, -6.17669238e-02,  4.08808065e-02,  1.26278721e-02,\n",
              "        2.43811966e-02, -2.70334578e-02,  2.95185563e-02,  1.32944102e-01,\n",
              "       -2.62872623e-02,  4.76429406e-02, -3.79295932e-02,  2.00150378e-01,\n",
              "       -2.50557551e-02,  1.20762622e-02, -1.69548620e-01,  1.28645280e-02,\n",
              "       -1.08848538e-01,  1.76851060e-03,  5.08967460e-03,  1.14737643e-01,\n",
              "        8.72008597e-02, -6.55873171e-02, -1.00112554e-02, -5.74904752e-02,\n",
              "        2.37564845e-02,  1.42004507e-01,  6.70495946e-03, -1.53632962e-01,\n",
              "       -1.78785235e-02, -1.34720933e-02,  5.84163248e-02,  9.88392837e-02,\n",
              "       -4.41901900e-02,  1.12739614e-01, -2.16673351e-02,  1.24616792e-02,\n",
              "        1.16636724e-01, -6.46304121e-02, -1.34700021e-02,  1.25618811e-01,\n",
              "       -1.26719797e-01, -2.92116253e-02,  2.85580761e-03, -1.58599952e-01,\n",
              "       -1.04852065e-01,  1.36161175e-01, -5.14028690e-02,  2.82483422e-02,\n",
              "        1.39992233e-01,  2.36646341e-02, -1.14392230e-01, -5.44656074e-02,\n",
              "       -3.39082887e-02,  2.19143920e-01, -5.47004932e-03, -1.92450476e-01,\n",
              "       -2.56026968e-02,  8.40716770e-02,  6.53383082e-02, -1.35433015e-01,\n",
              "        7.21889261e-02,  2.22439488e-01,  5.87873851e-03, -2.21970316e-01,\n",
              "        2.28278210e-01,  2.16008776e-02, -3.96180511e-03, -8.03839940e-02,\n",
              "       -1.08917399e-01, -7.31600245e-02,  9.93103455e-02,  1.16661947e-02,\n",
              "       -4.28339899e-03,  6.49265284e-03, -2.22027365e-01, -2.65803703e-03,\n",
              "       -1.44911222e-01,  1.12452580e-01, -5.99716335e-02,  1.32916096e-01,\n",
              "        2.62744665e-02,  3.62904131e-02,  2.85351019e-02, -4.23866023e-03,\n",
              "       -2.58114199e-02,  1.37780709e-01,  4.05157035e-02, -7.89590923e-02,\n",
              "        4.53554162e-02,  2.11245633e-01,  1.37827549e-01,  1.28502914e-01,\n",
              "        1.33858450e-01,  4.36266857e-02,  5.27429719e-02, -5.97374211e-02,\n",
              "       -1.73600431e-01, -1.21476233e-01,  1.81798978e-02,  9.41047365e-02,\n",
              "       -1.64756525e-01,  7.76757284e-03,  1.25991888e-01,  1.84952496e-02,\n",
              "        1.22180169e-01,  1.34505074e-01, -1.04228468e-01,  7.64990461e-02,\n",
              "       -1.18054687e-01, -6.45369190e-02, -4.14259888e-02,  1.27279189e-01,\n",
              "        1.29741867e-01, -1.93147575e-01, -2.22628131e-02,  1.10215595e-01,\n",
              "       -1.44523049e-02,  3.33679331e-02, -4.85837031e-02,  2.64470791e-02,\n",
              "        8.53441120e-02, -2.14332716e-02,  7.00644775e-02, -6.57117734e-03,\n",
              "       -1.35696464e-02,  3.63761035e-02, -6.35591085e-02, -1.23757803e-01,\n",
              "       -1.64352113e-01, -2.89768346e-02, -8.99746707e-03,  1.22366977e-02,\n",
              "       -2.36690399e-01,  1.98115247e-01,  1.63738647e-01, -8.29405800e-02,\n",
              "        8.70884074e-02,  5.91449976e-02,  6.67169770e-02,  1.10414624e-01,\n",
              "        3.43414371e-03, -4.68126851e-02,  7.41262539e-02,  1.66915175e-02,\n",
              "       -1.26994671e-01,  4.69605462e-02,  1.03603404e-01, -4.44106346e-03,\n",
              "       -1.61517303e-01, -9.18335584e-02, -7.70064416e-03, -1.37953112e-01,\n",
              "       -4.68705348e-02,  8.83427009e-02,  3.43941386e-04, -2.32588700e-01,\n",
              "        7.28693673e-02, -1.10735029e-01,  9.79358403e-02, -2.51162797e-01,\n",
              "       -9.61656756e-02, -4.39986070e-02, -2.05184453e-01, -1.26470529e-01,\n",
              "       -4.27392346e-03, -3.27891487e-02, -1.79465771e-02, -8.28609557e-02,\n",
              "       -1.45519700e-01, -2.53176968e-02,  7.28864022e-02,  1.10049577e-01,\n",
              "        5.36410535e-02, -2.14438912e-02, -1.76572964e-01,  3.00863488e-02,\n",
              "       -1.59840924e-01, -3.30337876e-02, -5.80571948e-02, -9.72404338e-02,\n",
              "       -2.46269772e-02, -9.79131715e-03,  2.60913885e-02, -1.64420355e-02,\n",
              "       -7.50871108e-02, -2.86658796e-03, -6.90015796e-02, -2.79112374e-02,\n",
              "       -6.36535802e-02,  7.42326830e-02, -1.54239377e-01,  6.80801584e-02,\n",
              "        1.92637216e-01, -2.28047837e-01,  5.34730089e-02, -4.37073207e-02,\n",
              "       -2.02196035e-02,  8.59902828e-03, -1.21237406e-01, -2.32262792e-01,\n",
              "        3.62319675e-02,  3.58579273e-02, -3.60067840e-02, -4.32881574e-02,\n",
              "       -3.22882556e-02, -1.00464477e-01, -2.19728970e-02, -2.05966513e-01,\n",
              "       -1.54367530e-02, -3.53458093e-02, -8.08274006e-02, -7.05436814e-02,\n",
              "        1.31412255e-02, -2.04940652e-01,  4.53951441e-02,  9.69653361e-02,\n",
              "       -7.74401658e-02,  6.84095676e-02, -2.05077161e-01, -8.93261611e-02,\n",
              "       -9.87128786e-02,  2.43535672e-02,  6.92556891e-02, -7.67775894e-02,\n",
              "        1.57910177e-02, -1.54377115e-02, -1.79957902e-02, -2.43255317e-02,\n",
              "        3.46962642e-03, -2.30667115e-02,  1.04583147e-01,  1.69213650e-02,\n",
              "        9.85273381e-02, -8.44481900e-02,  1.85886358e-01, -1.37554982e-01,\n",
              "        1.09318295e-01,  6.53529847e-02,  9.21904864e-02,  6.49637415e-02,\n",
              "       -1.12658720e-02,  4.74092526e-02,  7.43150764e-02,  7.76251948e-02,\n",
              "       -1.03891459e-01,  7.57403057e-02, -4.47541879e-02, -1.22909798e-02,\n",
              "       -3.36670812e-02, -2.93383338e-02, -8.19251164e-03,  1.24053878e-01,\n",
              "       -7.32687355e-02, -4.40833869e-03, -2.39058371e-01,  2.08969026e-02,\n",
              "        1.84565492e-01,  7.56619731e-02,  1.73110089e-02,  2.06127942e-01,\n",
              "       -1.01629823e-01, -3.62197903e-02,  1.04143066e-02, -1.29261305e-01,\n",
              "        1.05197132e-01,  1.88672840e-02,  3.06217289e-02,  1.26392905e-01,\n",
              "       -6.91881527e-02, -2.59682154e-03, -4.89831769e-02, -1.36739988e-01,\n",
              "       -1.45851262e-01,  1.44173172e-01, -4.49206524e-02,  1.45825710e-02,\n",
              "        2.10119472e-01,  4.49751298e-02,  7.55433843e-02, -4.89515824e-02,\n",
              "        6.83384302e-02,  1.79326634e-01, -1.54715260e-01, -1.71488501e-02,\n",
              "        2.57500730e-02, -6.89610954e-02, -4.22690984e-02, -2.44980227e-02,\n",
              "       -1.31561828e-01,  1.12915999e-01, -7.36157146e-02,  7.50950116e-02,\n",
              "       -7.85336475e-02,  1.37068437e-01, -1.32739634e-02,  1.64393737e-02,\n",
              "       -6.99035361e-02,  1.67443519e-01,  1.24707856e-01, -9.39006269e-03,\n",
              "        3.92923660e-02, -8.62325646e-03,  2.62281988e-02, -1.54868136e-02,\n",
              "        1.11822828e-01,  2.26392526e-02, -6.14928134e-02, -6.16211710e-02,\n",
              "        3.07199669e-02,  4.81971220e-02, -6.60746256e-03,  1.46056840e-01,\n",
              "       -6.37280022e-02, -1.64790258e-01,  9.87854296e-03, -1.25076796e-01,\n",
              "       -9.30563303e-02,  8.50327359e-02, -7.76973869e-03, -6.26310122e-02,\n",
              "        1.54706023e-01,  9.10396349e-02, -7.41816833e-02,  1.93528343e-01,\n",
              "       -2.43357087e-01, -3.49296922e-02, -5.02167055e-02, -7.71307285e-02,\n",
              "       -4.48288746e-02,  4.52701174e-02, -2.62006640e-03,  1.22771724e-01,\n",
              "       -1.11210911e-01, -1.58482309e-01,  7.01034603e-02,  1.96885182e-01,\n",
              "       -7.05334587e-02, -1.88431442e-02, -5.51314665e-02, -4.18675068e-02,\n",
              "        3.40036504e-02, -5.63430227e-02, -1.08988165e-01, -2.81936421e-02,\n",
              "       -7.62864566e-02,  1.67801894e-01, -2.78102036e-01, -1.09886359e-01,\n",
              "        8.08608004e-02, -8.34570766e-02,  3.26734438e-02, -3.73869865e-02,\n",
              "       -6.91644373e-03, -1.13515393e-01,  8.56185352e-02,  1.78375731e-01,\n",
              "       -1.37122334e-01, -1.32507691e-02,  1.06778998e-01,  8.39687652e-02,\n",
              "       -4.11360439e-02, -7.57587920e-02,  3.95624927e-02,  2.19475750e-02,\n",
              "       -8.27172837e-03, -1.74093609e-01,  4.40614632e-02,  3.14497662e-02,\n",
              "        1.26192075e-01, -1.31387238e-01,  1.28921576e-02, -2.80718471e-02,\n",
              "        1.81009828e-03,  2.04179222e-01, -2.04012199e-01, -5.06368779e-02,\n",
              "        1.76489373e-02,  9.87558769e-02, -4.81442494e-02,  1.22803375e-02,\n",
              "        1.31276109e-01,  7.01493384e-02, -3.88950792e-02,  6.62923345e-02,\n",
              "        1.83557486e-01, -5.78809988e-02, -1.01505385e-02, -5.94326917e-02,\n",
              "        4.94467750e-03, -7.19385354e-02,  5.32197754e-02,  6.85753769e-02,\n",
              "        6.35941596e-02,  5.35924871e-02, -6.15506951e-02,  3.10888376e-04,\n",
              "       -1.07686814e-01,  7.64146906e-02, -7.77941866e-02,  1.07095371e-01,\n",
              "        7.14265842e-02,  6.02498600e-02, -8.17256684e-03, -2.68752617e-03,\n",
              "       -3.97640683e-02,  6.09195050e-02,  4.98088362e-02, -1.76213761e-01,\n",
              "       -1.73720976e-01, -3.08841322e-02, -1.20293421e-01, -3.32988332e-02,\n",
              "        1.07264402e-01, -3.66893917e-02,  4.50648990e-02, -8.94488411e-02,\n",
              "       -5.85757665e-02,  1.98977404e-01,  3.00100768e-02, -6.94601092e-04,\n",
              "        6.29371974e-02,  5.99966272e-02,  1.15422880e-01,  1.51089049e-01,\n",
              "        9.80328818e-02, -3.47906682e-02, -1.19053143e-01,  5.64820229e-02,\n",
              "       -5.81494564e-02, -6.71534695e-02,  1.20707681e-01,  1.77780824e-01,\n",
              "        1.00179182e-01, -2.63669006e-02,  9.96423088e-02, -1.25243210e-01,\n",
              "        4.32943669e-02, -9.08855461e-02,  9.12429711e-03, -9.76132084e-02,\n",
              "       -2.09927520e-02, -9.00443494e-02,  7.95405181e-02, -1.01609849e-01,\n",
              "        5.32831941e-02,  1.62323648e-01,  1.00106262e-01, -1.35275801e-01,\n",
              "       -9.51260512e-02,  7.70665039e-02, -9.53753845e-02,  2.19174066e-02,\n",
              "        8.96835559e-02, -8.90368649e-02, -2.83421788e-02,  6.55076483e-02,\n",
              "        2.60163910e-02,  1.11486178e-01,  5.82093815e-02,  1.23897936e-02,\n",
              "        6.91191301e-02, -1.06080144e-01, -1.27653828e-01,  8.73296454e-03,\n",
              "       -3.70790811e-02,  9.93400385e-02, -8.35505069e-02,  5.88353002e-02,\n",
              "       -1.34502266e-01,  8.36979771e-02,  1.73918695e-02, -8.46305066e-02,\n",
              "        3.12600322e-02, -2.27520184e-02, -4.39142195e-02, -2.19717382e-02,\n",
              "       -3.56801312e-02, -2.47062387e-01, -5.45320818e-04,  8.53466168e-02,\n",
              "        1.13017797e-01, -1.38539076e-02,  1.13006223e-01,  8.05894535e-02,\n",
              "        1.39804078e-01,  6.84701248e-02,  9.12890996e-02,  4.48758169e-02,\n",
              "       -9.20675677e-02, -5.38148382e-02, -2.54683456e-02, -1.27732455e-02,\n",
              "        1.03610708e-03,  8.19619045e-02, -1.98786022e-02, -1.12491789e-01,\n",
              "        6.51445558e-02, -1.17496908e-01, -8.00973169e-02,  1.34941170e-02,\n",
              "        4.97404869e-02, -1.91846557e-01,  8.59391298e-02,  8.05078779e-02,\n",
              "        4.29229192e-02, -3.15062445e-02,  8.99195312e-02,  1.08694495e-01,\n",
              "       -9.84960478e-03, -3.51853023e-02, -1.64746439e-01, -9.75716456e-02])"
            ]
          },
          "metadata": {},
          "execution_count": 92
        }
      ]
    },
    {
      "cell_type": "markdown",
      "source": [
        "EXCERCISE"
      ],
      "metadata": {
        "id": "OYc5epO78-YJ"
      }
    },
    {
      "cell_type": "markdown",
      "source": [
        "Simulate a six-sided dice using numpy.random.choice(), generate a list of values you would obtain from 10 throws."
      ],
      "metadata": {
        "id": "cnV3m3oC9vCF"
      }
    },
    {
      "cell_type": "code",
      "source": [
        "dice_six = np.random.choice([1,2,3,4,5,6],10)\n",
        "dice_six"
      ],
      "metadata": {
        "colab": {
          "base_uri": "https://localhost:8080/"
        },
        "id": "5pQbjvqsBQbh",
        "outputId": "f620025b-c743-4ea8-8156-cf632b75d47c"
      },
      "execution_count": 113,
      "outputs": [
        {
          "output_type": "execute_result",
          "data": {
            "text/plain": [
              "array([4, 3, 2, 6, 5, 4, 5, 4, 6, 3])"
            ]
          },
          "metadata": {},
          "execution_count": 113
        }
      ]
    },
    {
      "cell_type": "markdown",
      "source": [
        "Simulate a two-sided coin toss that is NOT fair: it is twice as likely to have head than tails."
      ],
      "metadata": {
        "id": "KS9Uh2i-BMnZ"
      }
    },
    {
      "cell_type": "code",
      "source": [
        "coin_throw = np.random.choice(['Head',\"Head\",'Tail'],10)\n",
        "coin_throw"
      ],
      "metadata": {
        "colab": {
          "base_uri": "https://localhost:8080/"
        },
        "id": "p4k4Lg31AXuC",
        "outputId": "32a2ff0d-81bf-4774-bbd8-542fc3f9c41c"
      },
      "execution_count": 97,
      "outputs": [
        {
          "output_type": "execute_result",
          "data": {
            "text/plain": [
              "array(['Head', 'Head', 'Tail', 'Head', 'Head', 'Tail', 'Head', 'Head',\n",
              "       'Tail', 'Head'], dtype='<U4')"
            ]
          },
          "metadata": {},
          "execution_count": 97
        }
      ]
    }
  ]
}