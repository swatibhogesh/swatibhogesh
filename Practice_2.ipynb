{
  "nbformat": 4,
  "nbformat_minor": 0,
  "metadata": {
    "colab": {
      "provenance": [],
      "authorship_tag": "ABX9TyOzyrfuDf48m6M7Jt/FGY9h",
      "include_colab_link": true
    },
    "kernelspec": {
      "name": "python3",
      "display_name": "Python 3"
    },
    "language_info": {
      "name": "python"
    }
  },
  "cells": [
    {
      "cell_type": "markdown",
      "metadata": {
        "id": "view-in-github",
        "colab_type": "text"
      },
      "source": [
        "<a href=\"https://colab.research.google.com/github/swatibhogesh/swatibhogesh/blob/main/Practice_2.ipynb\" target=\"_parent\"><img src=\"https://colab.research.google.com/assets/colab-badge.svg\" alt=\"Open In Colab\"/></a>"
      ]
    },
    {
      "cell_type": "code",
      "execution_count": 19,
      "metadata": {
        "colab": {
          "base_uri": "https://localhost:8080/"
        },
        "id": "jSBvuTrwcDue",
        "outputId": "d685e692-0917-46e5-f631-fd0508854bf2"
      },
      "outputs": [
        {
          "output_type": "stream",
          "name": "stdout",
          "text": [
            " enter the Number here : 1\n",
            " enter the Number here : 3\n",
            " enter the Number here : 5\n",
            " enter the Number here : 7\n",
            " enter the Number here : 5\n",
            " enter the Number here : 23\n",
            " enter the Number here : 90\n",
            " enter the Number here : 98\n",
            " enter the Number here : 16\n",
            " enter the Number here : 32\n",
            " enter the Number here : 74\n",
            " enter the Number here : 88\n",
            " enter the Number here : 25\n",
            " enter the Number here : 11\n",
            " enter the Number here : 40\n",
            " enter the Number here : 52\n",
            " enter the Number here : 18\n",
            " enter the Number here : 66\n",
            " enter the Number here : 37\n",
            " enter the Number here : 93\n",
            "[1, 3, 5, 7, 5, 23, 90, 98, 16, 32, 74, 88, 25, 11, 40, 52, 18, 66, 37, 93]\n"
          ]
        }
      ],
      "source": [
        "#Taking 20 inputs from the user\n",
        "Numbers = [ int(input(' enter the Number here : ')) for i in range(20)]\n",
        "print(Numbers)"
      ]
    },
    {
      "cell_type": "markdown",
      "source": [
        "1) Linear Search"
      ],
      "metadata": {
        "id": "77qYU7O8hrWf"
      }
    },
    {
      "cell_type": "code",
      "source": [
        "n = int(input('enter the number to be searched '))\n",
        "count = 0\n",
        "for i in range(len(Numbers)):\n",
        "  if Numbers[i] == n:\n",
        "    print('Number is present in the list at a index :', i)\n",
        "    count+= 1\n",
        "if count == 0:\n",
        "  print('Number is not present in the list')"
      ],
      "metadata": {
        "colab": {
          "base_uri": "https://localhost:8080/"
        },
        "id": "Zbk8stNHcxxh",
        "outputId": "0c92c890-31ef-4b48-d8e6-fe6857d0aba3"
      },
      "execution_count": 20,
      "outputs": [
        {
          "output_type": "stream",
          "name": "stdout",
          "text": [
            "enter the number to be searched 74\n",
            "Number is present in the list at a index : 10\n"
          ]
        }
      ]
    },
    {
      "cell_type": "markdown",
      "source": [
        "2) Binary Search"
      ],
      "metadata": {
        "id": "zjGQj9lKh3nW"
      }
    },
    {
      "cell_type": "code",
      "source": [
        "n = int(input('enter the number to be searched '))\n",
        "first = 0\n",
        "last = (len(Numbers)-1)\n",
        "found = False\n",
        "while ((first < last) and found == False ):\n",
        "  mid = (first + last) // 2\n",
        "  if Numbers [mid] == n:\n",
        "    found = True\n",
        "    print('Number is present at :' , mid)\n",
        "  else:\n",
        "    if Numbers[mid] > n:\n",
        "      last = mid - 1\n",
        "    else:\n",
        "      first = mid +1\n",
        "\n",
        "if (found):\n",
        "  print('Number is in the list')\n",
        "else:\n",
        "  print('Number is not in the list')"
      ],
      "metadata": {
        "colab": {
          "base_uri": "https://localhost:8080/"
        },
        "id": "xh_hbN-IeOvb",
        "outputId": "0f9ac76c-2438-4d93-f689-96be0c88da84"
      },
      "execution_count": 29,
      "outputs": [
        {
          "output_type": "stream",
          "name": "stdout",
          "text": [
            "enter the number to be searched 17\n",
            "Number is not in the list\n"
          ]
        }
      ]
    },
    {
      "cell_type": "markdown",
      "source": [
        "3) Bubble Sort"
      ],
      "metadata": {
        "id": "7ZujBtCWiZ5K"
      }
    },
    {
      "cell_type": "code",
      "source": [
        "def bubbleSort(Numbers):\n",
        "    x = len(Numbers)\n",
        "    swapped = False\n",
        "   \n",
        "    for i in range(x-1):\n",
        "        for j in range(0, x-i-1):\n",
        " \n",
        "            # Swap if the element found is greater\n",
        "            # than the next element\n",
        "            if Numbers[j] > Numbers[j + 1]:\n",
        "                swapped = True\n",
        "                Numbers[j], Numbers[j + 1] = Numbers[j + 1], Numbers[j]\n",
        "         \n",
        "        if not swapped:\n",
        "            return\n",
        "bubbleSort(Numbers)\n",
        " \n",
        "print(\"Sorted Numbers are:\")\n",
        "for i in range(len(Numbers)):\n",
        "    print(\"% d\" % Numbers[i], end=\" \")"
      ],
      "metadata": {
        "colab": {
          "base_uri": "https://localhost:8080/"
        },
        "id": "5JlV25Uzda5B",
        "outputId": "321da834-8ad2-4273-da97-cc8d9ccaa30d"
      },
      "execution_count": 24,
      "outputs": [
        {
          "output_type": "stream",
          "name": "stdout",
          "text": [
            "Sorted Numbers are:\n",
            " 1  3  5  5  7  11  16  18  23  25  32  37  40  52  66  74  88  90  93  98 "
          ]
        }
      ]
    },
    {
      "cell_type": "markdown",
      "source": [
        "4) Bubble Sort:\n",
        "Bubble Sort is the simplest sorting algorithm that works by repeatedly swapping the adjacent elements if they are in the wrong order. It goes through a list of data a number of times, comparing two items that are side by side to see which is out of order. It will keep going through the list of data until all the data is sorted into order."
      ],
      "metadata": {
        "id": "hZtu1aQLi58z"
      }
    },
    {
      "cell_type": "markdown",
      "source": [
        "5) To find Mean,Median,Mode"
      ],
      "metadata": {
        "id": "DllJCQDAioAX"
      }
    },
    {
      "cell_type": "code",
      "source": [
        "# Mean\n",
        "x = len(Numbers)\n",
        "total = sum(Numbers)\n",
        "mean = total / x\n",
        "print(\"The mean of (\", Numbers, \") is\", str(mean))"
      ],
      "metadata": {
        "colab": {
          "base_uri": "https://localhost:8080/"
        },
        "id": "XoUijNsDe4qq",
        "outputId": "7166c896-08fa-4c2a-fa53-8f0a569251e4"
      },
      "execution_count": 25,
      "outputs": [
        {
          "output_type": "stream",
          "name": "stdout",
          "text": [
            "The mean of ( [1, 3, 5, 5, 7, 11, 16, 18, 23, 25, 32, 37, 40, 52, 66, 74, 88, 90, 93, 98] ) is 39.2\n"
          ]
        }
      ]
    },
    {
      "cell_type": "code",
      "source": [
        "# Median\n",
        "x = len(Numbers)\n",
        "Numbers.sort()\n",
        "if x % 2 == 0:\n",
        "    median1 = Numbers[x//2]\n",
        "    median2 = Numbers[x//2 - 1]\n",
        "    median = (median1 + median2)/2\n",
        "else:\n",
        "    median = number[x//2]\n",
        "print(\"The median of the given numbers  (\", Numbers, \") is\", str(median))"
      ],
      "metadata": {
        "colab": {
          "base_uri": "https://localhost:8080/"
        },
        "id": "SR0gFQi2fN1A",
        "outputId": "bf111226-2218-4910-b4d4-53e286730600"
      },
      "execution_count": 26,
      "outputs": [
        {
          "output_type": "stream",
          "name": "stdout",
          "text": [
            "The median of the given numbers  ( [1, 3, 5, 5, 7, 11, 16, 18, 23, 25, 32, 37, 40, 52, 66, 74, 88, 90, 93, 98] ) is 28.5\n"
          ]
        }
      ]
    },
    {
      "cell_type": "code",
      "source": [
        "#Mode\n",
        "count = 0\n",
        "prev = 0\n",
        "for i in range(len(Numbers)-1):\n",
        "  count = Numbers.count(Numbers[i])\n",
        "  if count > prev :\n",
        "    prev = count\n",
        "    num = Numbers[i]\n",
        "print(f'The mode is {num}')"
      ],
      "metadata": {
        "colab": {
          "base_uri": "https://localhost:8080/"
        },
        "id": "RBNeGGC0fmpy",
        "outputId": "50eb03f5-8d77-4fa3-dbec-4e95e7317bad"
      },
      "execution_count": 27,
      "outputs": [
        {
          "output_type": "stream",
          "name": "stdout",
          "text": [
            "The mode is 5\n"
          ]
        }
      ]
    },
    {
      "cell_type": "code",
      "source": [
        "x = []\n",
        "for i in range(2,len(Numbers)-1):\n",
        "  for j in range(2,Numbers[i]):\n",
        "    if Numbers[i]%j ==0:\n",
        "      break \n",
        "  else:\n",
        "    x.append(Numbers[i])\n",
        "  \n",
        "print(f'The prime number is {x}')"
      ],
      "metadata": {
        "colab": {
          "base_uri": "https://localhost:8080/"
        },
        "id": "-kubJElOgrEa",
        "outputId": "bed3e821-2f7b-4208-cc6d-d438b33b6a94"
      },
      "execution_count": 28,
      "outputs": [
        {
          "output_type": "stream",
          "name": "stdout",
          "text": [
            "The prime number is [5, 5, 7, 11, 23, 37]\n"
          ]
        }
      ]
    }
  ]
}