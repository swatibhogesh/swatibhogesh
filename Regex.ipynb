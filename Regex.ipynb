{
  "nbformat": 4,
  "nbformat_minor": 0,
  "metadata": {
    "colab": {
      "provenance": [],
      "authorship_tag": "ABX9TyMxzwuDAgM6r1VEgMo6y9eT",
      "include_colab_link": true
    },
    "kernelspec": {
      "name": "python3",
      "display_name": "Python 3"
    },
    "language_info": {
      "name": "python"
    }
  },
  "cells": [
    {
      "cell_type": "markdown",
      "metadata": {
        "id": "view-in-github",
        "colab_type": "text"
      },
      "source": [
        "<a href=\"https://colab.research.google.com/github/swatibhogesh/swatibhogesh/blob/main/Regex.ipynb\" target=\"_parent\"><img src=\"https://colab.research.google.com/assets/colab-badge.svg\" alt=\"Open In Colab\"/></a>"
      ]
    },
    {
      "cell_type": "markdown",
      "source": [
        "Regular Expression"
      ],
      "metadata": {
        "id": "tCTJ5J76z1iE"
      }
    },
    {
      "cell_type": "code",
      "execution_count": null,
      "metadata": {
        "id": "yI1HGHCRmUSI"
      },
      "outputs": [],
      "source": [
        "import re"
      ]
    },
    {
      "cell_type": "code",
      "source": [
        "txt= \"This is a English book\""
      ],
      "metadata": {
        "id": "86SBNUJIp6a7"
      },
      "execution_count": null,
      "outputs": []
    },
    {
      "cell_type": "markdown",
      "source": [
        "Search Function"
      ],
      "metadata": {
        "id": "RYB8-AL7t4ON"
      }
    },
    {
      "cell_type": "code",
      "source": [
        "x = re.search(\"^This.*book$\",txt)"
      ],
      "metadata": {
        "id": "Qq-wo4l3qA9I"
      },
      "execution_count": null,
      "outputs": []
    },
    {
      "cell_type": "code",
      "source": [
        "x"
      ],
      "metadata": {
        "colab": {
          "base_uri": "https://localhost:8080/"
        },
        "id": "ETVgQkt8qDXk",
        "outputId": "ebe713d1-c00d-47f9-d6a3-6a0c1f0f6baa"
      },
      "execution_count": null,
      "outputs": [
        {
          "output_type": "execute_result",
          "data": {
            "text/plain": [
              "<re.Match object; span=(0, 22), match='This is a English book'>"
            ]
          },
          "metadata": {},
          "execution_count": 18
        }
      ]
    },
    {
      "cell_type": "code",
      "source": [
        "type(x)"
      ],
      "metadata": {
        "colab": {
          "base_uri": "https://localhost:8080/"
        },
        "id": "_qfR_TfhqHAk",
        "outputId": "db0d3c5f-25d6-4674-a490-6131263d0111"
      },
      "execution_count": null,
      "outputs": [
        {
          "output_type": "execute_result",
          "data": {
            "text/plain": [
              "re.Match"
            ]
          },
          "metadata": {},
          "execution_count": 19
        }
      ]
    },
    {
      "cell_type": "code",
      "source": [
        "y= re.search(\"\\s\",txt,2)\n",
        "print(\"The first white-space character is located in position:\", y.start())"
      ],
      "metadata": {
        "colab": {
          "base_uri": "https://localhost:8080/"
        },
        "id": "JPFJjEY7qPCz",
        "outputId": "e6155179-e3f6-4843-a575-46bf20da3072"
      },
      "execution_count": null,
      "outputs": [
        {
          "output_type": "stream",
          "name": "stdout",
          "text": [
            "The first white-space character is located in position: 4\n"
          ]
        }
      ]
    },
    {
      "cell_type": "code",
      "source": [
        "y"
      ],
      "metadata": {
        "colab": {
          "base_uri": "https://localhost:8080/"
        },
        "id": "D9iw8JUjqpZD",
        "outputId": "0e1f77a2-f8f3-4aae-9aba-f37bc4dd203d"
      },
      "execution_count": null,
      "outputs": [
        {
          "output_type": "execute_result",
          "data": {
            "text/plain": [
              "<re.Match object; span=(4, 5), match=' '>"
            ]
          },
          "metadata": {},
          "execution_count": 21
        }
      ]
    },
    {
      "cell_type": "code",
      "source": [
        "type(y)"
      ],
      "metadata": {
        "colab": {
          "base_uri": "https://localhost:8080/"
        },
        "id": "Z8ae4HeIqsqk",
        "outputId": "43b574b8-4915-46d7-d9e3-7079e392d399"
      },
      "execution_count": null,
      "outputs": [
        {
          "output_type": "execute_result",
          "data": {
            "text/plain": [
              "re.Match"
            ]
          },
          "metadata": {},
          "execution_count": 22
        }
      ]
    },
    {
      "cell_type": "markdown",
      "source": [
        "findall function"
      ],
      "metadata": {
        "id": "lIfi2K7MuEVY"
      }
    },
    {
      "cell_type": "code",
      "source": [
        "z = re.findall(\"name\",txt)"
      ],
      "metadata": {
        "id": "o6pI_H7oqwk0"
      },
      "execution_count": null,
      "outputs": []
    },
    {
      "cell_type": "code",
      "source": [
        "z"
      ],
      "metadata": {
        "colab": {
          "base_uri": "https://localhost:8080/"
        },
        "id": "DI79w1nSq0JU",
        "outputId": "206c298a-d1ea-475c-b22c-1a5b52165593"
      },
      "execution_count": null,
      "outputs": [
        {
          "output_type": "execute_result",
          "data": {
            "text/plain": [
              "[]"
            ]
          },
          "metadata": {},
          "execution_count": 24
        }
      ]
    },
    {
      "cell_type": "code",
      "source": [
        "z = re.findall(\"book\",txt)"
      ],
      "metadata": {
        "id": "4sSL6QyHtvlt"
      },
      "execution_count": null,
      "outputs": []
    },
    {
      "cell_type": "code",
      "source": [
        "z"
      ],
      "metadata": {
        "colab": {
          "base_uri": "https://localhost:8080/"
        },
        "id": "hJQSuwvBtyRI",
        "outputId": "1a13ee0b-cdde-477a-f807-3db910070989"
      },
      "execution_count": null,
      "outputs": [
        {
          "output_type": "execute_result",
          "data": {
            "text/plain": [
              "['book']"
            ]
          },
          "metadata": {},
          "execution_count": 26
        }
      ]
    },
    {
      "cell_type": "markdown",
      "source": [
        "Split Function"
      ],
      "metadata": {
        "id": "usM0l7SPuIC_"
      }
    },
    {
      "cell_type": "code",
      "source": [
        "a = re.split(\"\\s\", txt)\n",
        "print(a)"
      ],
      "metadata": {
        "colab": {
          "base_uri": "https://localhost:8080/"
        },
        "id": "qu9Tw1-6wRb1",
        "outputId": "7dcc4e43-e96d-477b-a15d-494dfbb6153d"
      },
      "execution_count": null,
      "outputs": [
        {
          "output_type": "stream",
          "name": "stdout",
          "text": [
            "['This', 'is', 'a', 'English', 'book']\n"
          ]
        }
      ]
    },
    {
      "cell_type": "code",
      "source": [
        "b = re.split(\"\\s\", txt, 1)\n",
        "print(b)"
      ],
      "metadata": {
        "colab": {
          "base_uri": "https://localhost:8080/"
        },
        "id": "xX2c_8mBwXMW",
        "outputId": "0ec17557-be0e-4bef-bdda-ac4f6de81553"
      },
      "execution_count": null,
      "outputs": [
        {
          "output_type": "stream",
          "name": "stdout",
          "text": [
            "['This', 'is a English book']\n"
          ]
        }
      ]
    },
    {
      "cell_type": "markdown",
      "source": [
        "sub function"
      ],
      "metadata": {
        "id": "HBW3Q5gfwdFm"
      }
    },
    {
      "cell_type": "code",
      "source": [
        "c = re.sub(\"\\s\", \".\", txt)\n",
        "print(c)\n",
        "#Replace every white-space character with the number \".\""
      ],
      "metadata": {
        "colab": {
          "base_uri": "https://localhost:8080/"
        },
        "id": "c6E_-bmBwgiX",
        "outputId": "ed801369-dc0d-4052-d61c-d1b94671c8b9"
      },
      "execution_count": null,
      "outputs": [
        {
          "output_type": "stream",
          "name": "stdout",
          "text": [
            "This.is.a.English.book\n"
          ]
        }
      ]
    },
    {
      "cell_type": "code",
      "source": [
        "d = re.sub(\"\\s\", \".\", txt, 2)\n",
        "print(d)\n",
        "#Replace the first 2 occurrences."
      ],
      "metadata": {
        "colab": {
          "base_uri": "https://localhost:8080/"
        },
        "id": "-VR3VLNaxvK0",
        "outputId": "46670279-35c1-4054-95cc-31f956a36553"
      },
      "execution_count": null,
      "outputs": [
        {
          "output_type": "stream",
          "name": "stdout",
          "text": [
            "This.is.a English book\n"
          ]
        }
      ]
    },
    {
      "cell_type": "markdown",
      "source": [
        "span function"
      ],
      "metadata": {
        "id": "P1oALdL-yHOQ"
      }
    },
    {
      "cell_type": "code",
      "source": [
        "f= re.search(r\"\\bE\\w+\",txt)"
      ],
      "metadata": {
        "id": "1-x5aYPCyGx5"
      },
      "execution_count": null,
      "outputs": []
    },
    {
      "cell_type": "code",
      "source": [
        "f.span()"
      ],
      "metadata": {
        "colab": {
          "base_uri": "https://localhost:8080/"
        },
        "id": "Uy4Edo9MyQAk",
        "outputId": "f153e540-9fb7-4f74-82cf-1452458bfed8"
      },
      "execution_count": null,
      "outputs": [
        {
          "output_type": "execute_result",
          "data": {
            "text/plain": [
              "(10, 17)"
            ]
          },
          "metadata": {},
          "execution_count": 41
        }
      ]
    },
    {
      "cell_type": "code",
      "source": [
        "print(f)"
      ],
      "metadata": {
        "colab": {
          "base_uri": "https://localhost:8080/"
        },
        "id": "BjYI3E3DySYn",
        "outputId": "49b0d028-d32c-46df-ab28-1b089716f436"
      },
      "execution_count": null,
      "outputs": [
        {
          "output_type": "stream",
          "name": "stdout",
          "text": [
            "<re.Match object; span=(10, 17), match='English'>\n"
          ]
        }
      ]
    },
    {
      "cell_type": "code",
      "source": [
        "g= re.search(r\"\\bA\\w+\",txt)"
      ],
      "metadata": {
        "id": "0KQpEilIyqmo"
      },
      "execution_count": null,
      "outputs": []
    },
    {
      "cell_type": "code",
      "source": [
        "g.span()"
      ],
      "metadata": {
        "id": "2xgQ9SwryrcH"
      },
      "execution_count": null,
      "outputs": []
    },
    {
      "cell_type": "code",
      "source": [
        "print(g)"
      ],
      "metadata": {
        "colab": {
          "base_uri": "https://localhost:8080/"
        },
        "id": "jpGA0TwFytYh",
        "outputId": "967ee945-2b03-44e8-e93d-51d9c17aefab"
      },
      "execution_count": null,
      "outputs": [
        {
          "output_type": "stream",
          "name": "stdout",
          "text": [
            "None\n"
          ]
        }
      ]
    }
  ]
}