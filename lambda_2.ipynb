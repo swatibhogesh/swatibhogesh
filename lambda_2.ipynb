{
  "nbformat": 4,
  "nbformat_minor": 0,
  "metadata": {
    "colab": {
      "provenance": [],
      "authorship_tag": "ABX9TyMb2grPBZpi+1l2bKboncU/",
      "include_colab_link": true
    },
    "kernelspec": {
      "name": "python3",
      "display_name": "Python 3"
    },
    "language_info": {
      "name": "python"
    }
  },
  "cells": [
    {
      "cell_type": "markdown",
      "metadata": {
        "id": "view-in-github",
        "colab_type": "text"
      },
      "source": [
        "<a href=\"https://colab.research.google.com/github/swatibhogesh/swatibhogesh/blob/main/lambda_2.ipynb\" target=\"_parent\"><img src=\"https://colab.research.google.com/assets/colab-badge.svg\" alt=\"Open In Colab\"/></a>"
      ]
    },
    {
      "cell_type": "markdown",
      "source": [
        "Write a Python program to create a lambda function that adds 15 to a given number passed in as an argument, also create a lambda function that multiplies argument x with argument y and print the result."
      ],
      "metadata": {
        "id": "ue-1s3BrmZmh"
      }
    },
    {
      "cell_type": "code",
      "execution_count": 1,
      "metadata": {
        "colab": {
          "base_uri": "https://localhost:8080/"
        },
        "id": "rSqK7iM4k-vL",
        "outputId": "a6d2c8ac-f778-469a-ce77-81103ab144a6"
      },
      "outputs": [
        {
          "output_type": "stream",
          "name": "stdout",
          "text": [
            "25\n",
            "48\n"
          ]
        }
      ],
      "source": [
        "r = lambda a : a + 15\n",
        "print(r(10))\n",
        "r = lambda x, y : x * y\n",
        "print(r(12, 4))\n"
      ]
    },
    {
      "cell_type": "markdown",
      "source": [
        "Write a Python program to extract PRESENT year, month, date and time using Lambda."
      ],
      "metadata": {
        "id": "SwCSdnHEmfb9"
      }
    },
    {
      "cell_type": "code",
      "source": [
        "import datetime\n",
        "now = datetime.datetime.now()\n",
        "print(now)\n",
        "year = lambda x: x.year\n",
        "month = lambda x: x.month\n",
        "day = lambda x: x.day\n",
        "t = lambda x: x.time()\n",
        "print(year(now))\n",
        "print(month(now))\n",
        "print(day(now))\n",
        "print(t(now))\n"
      ],
      "metadata": {
        "colab": {
          "base_uri": "https://localhost:8080/"
        },
        "id": "s6PkOBv5mObc",
        "outputId": "58d52389-e5a7-47b9-9378-2fa9a5efed3d"
      },
      "execution_count": 2,
      "outputs": [
        {
          "output_type": "stream",
          "name": "stdout",
          "text": [
            "2022-09-20 11:12:04.316481\n",
            "2022\n",
            "9\n",
            "20\n",
            "11:12:04.316481\n"
          ]
        }
      ]
    },
    {
      "cell_type": "markdown",
      "source": [
        "Write a Python program that sum the length of the names of a given list of names after removing the names that starts with a lowercase letter. Use lambda function."
      ],
      "metadata": {
        "id": "f04NFxKMnI4c"
      }
    },
    {
      "cell_type": "code",
      "source": [
        "sample_names = ['Swati', 'Teju', 'Megha', 'Chandana', 'Sahana', 'Krithika']\n",
        "sample_names=list(filter(lambda el:el[0].isupper() and el[1:].islower(),sample_names))\n",
        "print(\"Result:\")\n",
        "print(len(''.join(sample_names)))\n"
      ],
      "metadata": {
        "colab": {
          "base_uri": "https://localhost:8080/"
        },
        "id": "ByrEOYeGniqS",
        "outputId": "ab14d510-6eef-4800-b304-d4126ddfbf5c"
      },
      "execution_count": 5,
      "outputs": [
        {
          "output_type": "stream",
          "name": "stdout",
          "text": [
            "Result:\n",
            "36\n"
          ]
        }
      ]
    }
  ]
}