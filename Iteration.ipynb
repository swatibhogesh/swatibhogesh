{
  "nbformat": 4,
  "nbformat_minor": 0,
  "metadata": {
    "colab": {
      "provenance": [],
      "authorship_tag": "ABX9TyMr5bWOvx/UXlAohwVBSufe",
      "include_colab_link": true
    },
    "kernelspec": {
      "name": "python3",
      "display_name": "Python 3"
    },
    "language_info": {
      "name": "python"
    }
  },
  "cells": [
    {
      "cell_type": "markdown",
      "metadata": {
        "id": "view-in-github",
        "colab_type": "text"
      },
      "source": [
        "<a href=\"https://colab.research.google.com/github/swatibhogesh/swatibhogesh/blob/main/Iteration.ipynb\" target=\"_parent\"><img src=\"https://colab.research.google.com/assets/colab-badge.svg\" alt=\"Open In Colab\"/></a>"
      ]
    },
    {
      "cell_type": "code",
      "execution_count": 3,
      "metadata": {
        "colab": {
          "base_uri": "https://localhost:8080/"
        },
        "id": "90JVenJOAAqR",
        "outputId": "e43acdf0-883f-48be-d59b-90415942eea7"
      },
      "outputs": [
        {
          "output_type": "stream",
          "name": "stdout",
          "text": [
            "Printing the sum of current and previous number in a range(10)\n",
            " Sum:  1\n",
            " Sum:  3\n",
            " Sum:  5\n",
            " Sum:  7\n",
            " Sum:  9\n",
            " Sum:  11\n",
            " Sum:  13\n",
            " Sum:  15\n",
            " Sum:  17\n",
            " Sum:  19\n"
          ]
        }
      ],
      "source": [
        "print(\"Printing the sum of current and previous number in a range(10)\")\n",
        "previous_num = 0\n",
        "\n",
        "# loop from 1 to 10\n",
        "for i in range(1, 11):\n",
        "    x_sum = previous_num + i\n",
        "    print(\" Sum: \", previous_num + i)\n",
        "    # modify previous number\n",
        "    # set it to the current number\n",
        "    previous_num = i"
      ]
    }
  ]
}